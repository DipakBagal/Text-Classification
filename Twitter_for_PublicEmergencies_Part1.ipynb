{
  "nbformat": 4,
  "nbformat_minor": 0,
  "metadata": {
    "colab": {
      "name": "Twitter_for_PublicEmergencies_Part1.ipynb",
      "provenance": [],
      "authorship_tag": "ABX9TyOdllOS9JQUvRAu/mMyLvle",
      "include_colab_link": true
    },
    "kernelspec": {
      "name": "python3",
      "display_name": "Python 3"
    },
    "accelerator": "GPU"
  },
  "cells": [
    {
      "cell_type": "markdown",
      "metadata": {
        "id": "view-in-github",
        "colab_type": "text"
      },
      "source": [
        "<a href=\"https://colab.research.google.com/github/raamav/Text-Classification/blob/master/Twitter_for_PublicEmergencies_Part1.ipynb\" target=\"_parent\"><img src=\"https://colab.research.google.com/assets/colab-badge.svg\" alt=\"Open In Colab\"/></a>"
      ]
    },
    {
      "cell_type": "markdown",
      "metadata": {
        "id": "TL4eFsRTgr9C",
        "colab_type": "text"
      },
      "source": [
        "# \"Real or NOT\" : NLP to Identify Public Emergency Related Tweets (Part One)\n",
        "\n",
        "\n",
        "## Introduction\n",
        "\n",
        "Being able to predict which Tweets are about real Public Emergencies (*eg Earthquakes, Floods, Terrorist Events*) and which ones are not. \n",
        "\n",
        "(The words 'Pubic Emergency' and 'Disasters' have been used interchangeably)\n",
        "\n",
        "> Twitter has become an important communication channel in times of emergency.\n",
        "The ubiquitousness of smartphones enables people to announce an emergency they’re observing in real-time. Because of this, more agencies are interested in programatically monitoring Twitter (i.e. disaster relief organizations and news agencies).\n",
        "\n",
        "> But, it’s not always clear whether a person’s words are actually announcing a disaster. \n",
        "\n",
        "<BR>\n",
        "\n",
        "*Source: [Real or Not? NLP with Disaster Tweets, A Kaggle Competition](https://www.kaggle.com/c/nlp-getting-started/overview)*\n",
        "\n",
        "<BR>\n",
        "\n",
        "The dataset has the contents of the Tweet (`text` variable), the location from where the Tweet was posted (`location` variable), and a keyword associated with the Tweet (`keyword` variable). \n",
        "\n",
        "The model will be built based on the contents of the Tweet, as from a domain standpoint, the location and the keyword information may not always be available (in the situation this algorithm is actually deployed) \n",
        "\n",
        "\n",
        "<BR>\n",
        "\n",
        "### Goal\n",
        "\n",
        "This is the second exploration of the dataset. In the 1st attempt, I had used an ML based approach *(an ensemble of ensemble methods)* yielded 80% accuracy on the test data. \n",
        "\n",
        "The goal is to get a better model (~83%) using one or an ensemble of multiple Deep Learning models.\n",
        "\n",
        "\n",
        "<BR>\n",
        "\n",
        "### Approach & Results\n",
        "\n",
        "In this notebook, I have tried out two variants of LSTM based approaches - one with pretrained embeddings and one without. The model which incorporate pre-trained embeddings from the Glove model had an accuracy of 83% on the test set.\n",
        "\n",
        "I have also created a set of helper functions for data preprocessing, vocabulary building and creating embedding matrix from pre-trained embeddings.\n",
        "\n",
        "The best performing model had an accuracy of 83% in the test data\n",
        "\n",
        "<BR>\n",
        "\n",
        "### Next Steps\n",
        "\n",
        "The next step is to get better results by trying out a few more approaches which have been listed below. **These will be incorporated in the Second edition (Part 2) of the notebook.**\n",
        "\n",
        "1. An `Ensemble` model (dense - word focussed + lstm - sequence focussed)\n",
        "2. An `N-GRAM` model (especially n = 2)\n",
        "3. Using `Attention` based frameworks\n",
        "4. (Optional) A `Functional` model (using Keras functional API)\n",
        "\n",
        "\n",
        "***\n",
        "<BR>\n",
        "\n",
        "## 1. Data Exploration & Pre-Processing"
      ]
    },
    {
      "cell_type": "code",
      "metadata": {
        "id": "d7L2k6z5h_1X",
        "colab_type": "code",
        "colab": {
          "base_uri": "https://localhost:8080/",
          "height": 34
        },
        "outputId": "97fa3b44-aa82-4c9f-c70f-88bfde1f710a"
      },
      "source": [
        "# STANDARD IMPORTS\n",
        "\n",
        "import tensorflow as tf\n",
        "from tensorflow import keras\n",
        "\n",
        "import numpy as np\n",
        "import pandas as pd\n",
        "\n",
        "\n",
        "%matplotlib inline\n",
        "import matplotlib as mpl\n",
        "import matplotlib.pyplot as plt\n",
        "\n",
        "tf.__version__\n"
      ],
      "execution_count": 1,
      "outputs": [
        {
          "output_type": "execute_result",
          "data": {
            "text/plain": [
              "'2.2.0-rc3'"
            ]
          },
          "metadata": {
            "tags": []
          },
          "execution_count": 1
        }
      ]
    },
    {
      "cell_type": "code",
      "metadata": {
        "id": "7N7FbGrCmVMr",
        "colab_type": "code",
        "colab": {}
      },
      "source": [
        "# A CUSTOM FUNCTION FOR CREATING WORDCLOUDS\n",
        "\n",
        "\n",
        "from PIL import Image\n",
        "from wordcloud import WordCloud, STOPWORDS, ImageColorGenerator\n",
        "\n",
        "\n",
        "def plot_wordcloud(text, max_words=400, \n",
        "                   min_font_size= 4 ,max_font_size=120,\n",
        "                   min_word_lengthint = None,\n",
        "                   figure_size=(24.0,16.0), \n",
        "                   title = None, title_size=40, \n",
        "                   mask = None):\n",
        "    \n",
        "    stopwords = set(STOPWORDS)\n",
        "    \n",
        "    more_stopwords = {'None'}\n",
        "    stopwords = stopwords.union(more_stopwords)\n",
        "\n",
        "    wordcloud = WordCloud(background_color='black',\n",
        "                    width = 1200,\n",
        "                    height = 800,\n",
        "                    stopwords = stopwords,\n",
        "                    max_words = max_words,\n",
        "                    max_font_size = max_font_size,\n",
        "                    min_font_size = min_font_size,\n",
        "                    random_state = 42,\n",
        "                    mask = None)\n",
        "    \n",
        "    wordcloud.generate(text)\n",
        "    \n",
        "    plt.figure(figsize=figure_size)\n",
        "    \n",
        "    plt.imshow(wordcloud);\n",
        "    plt.title(title, fontdict={'size': title_size, 'color': 'black', \n",
        "                                  'verticalalignment': 'bottom'})\n",
        "    plt.axis('off');\n",
        "    plt.tight_layout()  \n",
        "    \n"
      ],
      "execution_count": 0,
      "outputs": []
    },
    {
      "cell_type": "code",
      "metadata": {
        "id": "P_U5-OsDjzhR",
        "colab_type": "code",
        "colab": {}
      },
      "source": [
        "data = pd.read_csv(\"https://raw.githubusercontent.com/raamav/Text-Classification/master/train.csv\")"
      ],
      "execution_count": 0,
      "outputs": []
    },
    {
      "cell_type": "code",
      "metadata": {
        "id": "BCnoIjBnjzsz",
        "colab_type": "code",
        "colab": {
          "base_uri": "https://localhost:8080/",
          "height": 221
        },
        "outputId": "7b74ef26-e818-46be-ed30-3226f190c073"
      },
      "source": [
        "data.info()"
      ],
      "execution_count": 4,
      "outputs": [
        {
          "output_type": "stream",
          "text": [
            "<class 'pandas.core.frame.DataFrame'>\n",
            "RangeIndex: 7613 entries, 0 to 7612\n",
            "Data columns (total 5 columns):\n",
            " #   Column    Non-Null Count  Dtype \n",
            "---  ------    --------------  ----- \n",
            " 0   id        7613 non-null   int64 \n",
            " 1   keyword   7552 non-null   object\n",
            " 2   location  5080 non-null   object\n",
            " 3   text      7613 non-null   object\n",
            " 4   target    7613 non-null   int64 \n",
            "dtypes: int64(2), object(3)\n",
            "memory usage: 297.5+ KB\n"
          ],
          "name": "stdout"
        }
      ]
    },
    {
      "cell_type": "markdown",
      "metadata": {
        "id": "UviPs1XKpB3n",
        "colab_type": "text"
      },
      "source": [
        "One of the first steps is to divide the data into training, validation and test sets. Will be adopting a 75 : 12.5 : 12.5 split for this purpose"
      ]
    },
    {
      "cell_type": "code",
      "metadata": {
        "id": "FwpFZrkijz2B",
        "colab_type": "code",
        "colab": {}
      },
      "source": [
        "from sklearn.model_selection import train_test_split\n",
        "\n",
        "train, test = train_test_split(data, test_size = 0.25, random_state = 42)\n",
        "val, test = train_test_split(test, test_size = 0.5, random_state = 42)"
      ],
      "execution_count": 0,
      "outputs": []
    },
    {
      "cell_type": "code",
      "metadata": {
        "id": "etBThct2pr9j",
        "colab_type": "code",
        "colab": {
          "base_uri": "https://localhost:8080/",
          "height": 68
        },
        "outputId": "5777ac5e-2067-4b5c-c4cc-9255ca72e736"
      },
      "source": [
        "print(\"train.shape\", train.shape)\n",
        "print(\"val.shape\", val.shape)\n",
        "print(\"test.shape\", test.shape)"
      ],
      "execution_count": 6,
      "outputs": [
        {
          "output_type": "stream",
          "text": [
            "train.shape (5709, 5)\n",
            "val.shape (952, 5)\n",
            "test.shape (952, 5)\n"
          ],
          "name": "stdout"
        }
      ]
    },
    {
      "cell_type": "markdown",
      "metadata": {
        "id": "W6N4PpMqq67P",
        "colab_type": "text"
      },
      "source": [
        "Exploring the data, and building functions (and/or pipelines) for preprocessing data. Will also explore the possibility of crating features (although deep learning models do not require extensive feature engineering)"
      ]
    },
    {
      "cell_type": "code",
      "metadata": {
        "id": "lZ-6h87UqM_T",
        "colab_type": "code",
        "colab": {
          "base_uri": "https://localhost:8080/",
          "height": 204
        },
        "outputId": "fbda7bc2-c547-4d8e-f5ce-6501b7951ec2"
      },
      "source": [
        "train.head(5)"
      ],
      "execution_count": 7,
      "outputs": [
        {
          "output_type": "execute_result",
          "data": {
            "text/html": [
              "<div>\n",
              "<style scoped>\n",
              "    .dataframe tbody tr th:only-of-type {\n",
              "        vertical-align: middle;\n",
              "    }\n",
              "\n",
              "    .dataframe tbody tr th {\n",
              "        vertical-align: top;\n",
              "    }\n",
              "\n",
              "    .dataframe thead th {\n",
              "        text-align: right;\n",
              "    }\n",
              "</style>\n",
              "<table border=\"1\" class=\"dataframe\">\n",
              "  <thead>\n",
              "    <tr style=\"text-align: right;\">\n",
              "      <th></th>\n",
              "      <th>id</th>\n",
              "      <th>keyword</th>\n",
              "      <th>location</th>\n",
              "      <th>text</th>\n",
              "      <th>target</th>\n",
              "    </tr>\n",
              "  </thead>\n",
              "  <tbody>\n",
              "    <tr>\n",
              "      <th>5151</th>\n",
              "      <td>7345</td>\n",
              "      <td>obliterate</td>\n",
              "      <td>Dover, DE</td>\n",
              "      <td>@dicehateme @PuppyShogun This makes sense. Pap...</td>\n",
              "      <td>0</td>\n",
              "    </tr>\n",
              "    <tr>\n",
              "      <th>6351</th>\n",
              "      <td>9081</td>\n",
              "      <td>structural%20failure</td>\n",
              "      <td>ÌÏT: 27.9136024,-81.6078532</td>\n",
              "      <td>'@CatoInstitute: The causes of federal failure...</td>\n",
              "      <td>0</td>\n",
              "    </tr>\n",
              "    <tr>\n",
              "      <th>3443</th>\n",
              "      <td>4920</td>\n",
              "      <td>exploded</td>\n",
              "      <td>Elmwood Park, NJ</td>\n",
              "      <td>Well as I was chaning an iPad screen it fuckin...</td>\n",
              "      <td>0</td>\n",
              "    </tr>\n",
              "    <tr>\n",
              "      <th>7164</th>\n",
              "      <td>10265</td>\n",
              "      <td>war%20zone</td>\n",
              "      <td>Host of #MindMoversPodcast</td>\n",
              "      <td>the war on drugs has turned the U.S. into a WA...</td>\n",
              "      <td>1</td>\n",
              "    </tr>\n",
              "    <tr>\n",
              "      <th>7037</th>\n",
              "      <td>10083</td>\n",
              "      <td>typhoon</td>\n",
              "      <td>NaN</td>\n",
              "      <td>Obama Declares Disaster for Typhoon-Devastated...</td>\n",
              "      <td>1</td>\n",
              "    </tr>\n",
              "  </tbody>\n",
              "</table>\n",
              "</div>"
            ],
            "text/plain": [
              "         id  ... target\n",
              "5151   7345  ...      0\n",
              "6351   9081  ...      0\n",
              "3443   4920  ...      0\n",
              "7164  10265  ...      1\n",
              "7037  10083  ...      1\n",
              "\n",
              "[5 rows x 5 columns]"
            ]
          },
          "metadata": {
            "tags": []
          },
          "execution_count": 7
        }
      ]
    },
    {
      "cell_type": "code",
      "metadata": {
        "id": "CNapkCTXsEl0",
        "colab_type": "code",
        "colab": {
          "base_uri": "https://localhost:8080/",
          "height": 119
        },
        "outputId": "0aa287f4-74c6-4667-86fd-c7759b062de2"
      },
      "source": [
        "# COUNTS OF NULL VALUES FOR VARIOUS VARIABLES\n",
        "\n",
        "train.isnull().sum()"
      ],
      "execution_count": 8,
      "outputs": [
        {
          "output_type": "execute_result",
          "data": {
            "text/plain": [
              "id             0\n",
              "keyword       47\n",
              "location    1886\n",
              "text           0\n",
              "target         0\n",
              "dtype: int64"
            ]
          },
          "metadata": {
            "tags": []
          },
          "execution_count": 8
        }
      ]
    },
    {
      "cell_type": "code",
      "metadata": {
        "id": "ICfjIVa_smQc",
        "colab_type": "code",
        "colab": {
          "base_uri": "https://localhost:8080/",
          "height": 374
        },
        "outputId": "ca086d4a-c757-41fd-a10e-0a794190edd6"
      },
      "source": [
        "# SETTING THE NULL VALUES AS 'None'\n",
        "\n",
        "train = train.fillna('None')\n",
        "val = val.fillna('None')\n",
        "test = test.fillna('None')\n",
        "\n",
        "# RECHECKING NULL COUNT\n",
        "print(\"\\nTrain\",train.isnull().sum())\n",
        "print(\"\\nVal\",val.isnull().sum())\n",
        "print(\"\\nTest\",test.isnull().sum())"
      ],
      "execution_count": 9,
      "outputs": [
        {
          "output_type": "stream",
          "text": [
            "\n",
            "Train id          0\n",
            "keyword     0\n",
            "location    0\n",
            "text        0\n",
            "target      0\n",
            "dtype: int64\n",
            "\n",
            "Val id          0\n",
            "keyword     0\n",
            "location    0\n",
            "text        0\n",
            "target      0\n",
            "dtype: int64\n",
            "\n",
            "Test id          0\n",
            "keyword     0\n",
            "location    0\n",
            "text        0\n",
            "target      0\n",
            "dtype: int64\n"
          ],
          "name": "stdout"
        }
      ]
    },
    {
      "cell_type": "code",
      "metadata": {
        "id": "rTmnfosexgLH",
        "colab_type": "code",
        "colab": {
          "base_uri": "https://localhost:8080/",
          "height": 111
        },
        "outputId": "4b340aaa-9b87-40d9-fec1-ad34fe22a258"
      },
      "source": [
        "train.head(2)"
      ],
      "execution_count": 10,
      "outputs": [
        {
          "output_type": "execute_result",
          "data": {
            "text/html": [
              "<div>\n",
              "<style scoped>\n",
              "    .dataframe tbody tr th:only-of-type {\n",
              "        vertical-align: middle;\n",
              "    }\n",
              "\n",
              "    .dataframe tbody tr th {\n",
              "        vertical-align: top;\n",
              "    }\n",
              "\n",
              "    .dataframe thead th {\n",
              "        text-align: right;\n",
              "    }\n",
              "</style>\n",
              "<table border=\"1\" class=\"dataframe\">\n",
              "  <thead>\n",
              "    <tr style=\"text-align: right;\">\n",
              "      <th></th>\n",
              "      <th>id</th>\n",
              "      <th>keyword</th>\n",
              "      <th>location</th>\n",
              "      <th>text</th>\n",
              "      <th>target</th>\n",
              "    </tr>\n",
              "  </thead>\n",
              "  <tbody>\n",
              "    <tr>\n",
              "      <th>5151</th>\n",
              "      <td>7345</td>\n",
              "      <td>obliterate</td>\n",
              "      <td>Dover, DE</td>\n",
              "      <td>@dicehateme @PuppyShogun This makes sense. Pap...</td>\n",
              "      <td>0</td>\n",
              "    </tr>\n",
              "    <tr>\n",
              "      <th>6351</th>\n",
              "      <td>9081</td>\n",
              "      <td>structural%20failure</td>\n",
              "      <td>ÌÏT: 27.9136024,-81.6078532</td>\n",
              "      <td>'@CatoInstitute: The causes of federal failure...</td>\n",
              "      <td>0</td>\n",
              "    </tr>\n",
              "  </tbody>\n",
              "</table>\n",
              "</div>"
            ],
            "text/plain": [
              "        id  ... target\n",
              "5151  7345  ...      0\n",
              "6351  9081  ...      0\n",
              "\n",
              "[2 rows x 5 columns]"
            ]
          },
          "metadata": {
            "tags": []
          },
          "execution_count": 10
        }
      ]
    },
    {
      "cell_type": "markdown",
      "metadata": {
        "id": "Gud4_jEUxkGK",
        "colab_type": "text"
      },
      "source": [
        "The `id` variable isn't really needed so getting rid of it across all the datasets"
      ]
    },
    {
      "cell_type": "code",
      "metadata": {
        "id": "oBXdBpIPjVcw",
        "colab_type": "code",
        "colab": {}
      },
      "source": [
        "train = train.drop('id',1)\n",
        "val = val.drop('id',1)\n",
        "test = test.drop('id',1)"
      ],
      "execution_count": 0,
      "outputs": []
    },
    {
      "cell_type": "code",
      "metadata": {
        "id": "vW92vsSPjVmL",
        "colab_type": "code",
        "colab": {
          "base_uri": "https://localhost:8080/",
          "height": 204
        },
        "outputId": "7e58a764-108f-4330-dc62-1092519a61c0"
      },
      "source": [
        "train.info()"
      ],
      "execution_count": 12,
      "outputs": [
        {
          "output_type": "stream",
          "text": [
            "<class 'pandas.core.frame.DataFrame'>\n",
            "Int64Index: 5709 entries, 5151 to 7270\n",
            "Data columns (total 4 columns):\n",
            " #   Column    Non-Null Count  Dtype \n",
            "---  ------    --------------  ----- \n",
            " 0   keyword   5709 non-null   object\n",
            " 1   location  5709 non-null   object\n",
            " 2   text      5709 non-null   object\n",
            " 3   target    5709 non-null   int64 \n",
            "dtypes: int64(1), object(3)\n",
            "memory usage: 223.0+ KB\n"
          ],
          "name": "stdout"
        }
      ]
    },
    {
      "cell_type": "code",
      "metadata": {
        "id": "H5lgUCIbm4Ly",
        "colab_type": "code",
        "colab": {
          "base_uri": "https://localhost:8080/",
          "height": 669
        },
        "outputId": "329ca5e6-9dc3-4f95-8a2a-ed855e7c0145"
      },
      "source": [
        "# WHICH ARE THE TOP KEYWORDS\n",
        "\n",
        "keyword_var = pd.DataFrame(train['keyword'].value_counts())\n",
        "\n",
        "keyword_var[1:21] # Excluding 'None' which is the top keyword\n",
        "\n"
      ],
      "execution_count": 13,
      "outputs": [
        {
          "output_type": "execute_result",
          "data": {
            "text/html": [
              "<div>\n",
              "<style scoped>\n",
              "    .dataframe tbody tr th:only-of-type {\n",
              "        vertical-align: middle;\n",
              "    }\n",
              "\n",
              "    .dataframe tbody tr th {\n",
              "        vertical-align: top;\n",
              "    }\n",
              "\n",
              "    .dataframe thead th {\n",
              "        text-align: right;\n",
              "    }\n",
              "</style>\n",
              "<table border=\"1\" class=\"dataframe\">\n",
              "  <thead>\n",
              "    <tr style=\"text-align: right;\">\n",
              "      <th></th>\n",
              "      <th>keyword</th>\n",
              "    </tr>\n",
              "  </thead>\n",
              "  <tbody>\n",
              "    <tr>\n",
              "      <th>siren</th>\n",
              "      <td>38</td>\n",
              "    </tr>\n",
              "    <tr>\n",
              "      <th>damage</th>\n",
              "      <td>36</td>\n",
              "    </tr>\n",
              "    <tr>\n",
              "      <th>fear</th>\n",
              "      <td>34</td>\n",
              "    </tr>\n",
              "    <tr>\n",
              "      <th>wreckage</th>\n",
              "      <td>34</td>\n",
              "    </tr>\n",
              "    <tr>\n",
              "      <th>fatalities</th>\n",
              "      <td>34</td>\n",
              "    </tr>\n",
              "    <tr>\n",
              "      <th>twister</th>\n",
              "      <td>33</td>\n",
              "    </tr>\n",
              "    <tr>\n",
              "      <th>deluge</th>\n",
              "      <td>33</td>\n",
              "    </tr>\n",
              "    <tr>\n",
              "      <th>harm</th>\n",
              "      <td>33</td>\n",
              "    </tr>\n",
              "    <tr>\n",
              "      <th>fatality</th>\n",
              "      <td>33</td>\n",
              "    </tr>\n",
              "    <tr>\n",
              "      <th>evacuate</th>\n",
              "      <td>32</td>\n",
              "    </tr>\n",
              "    <tr>\n",
              "      <th>devastation</th>\n",
              "      <td>32</td>\n",
              "    </tr>\n",
              "    <tr>\n",
              "      <th>nuclear%20reactor</th>\n",
              "      <td>32</td>\n",
              "    </tr>\n",
              "    <tr>\n",
              "      <th>blaze</th>\n",
              "      <td>32</td>\n",
              "    </tr>\n",
              "    <tr>\n",
              "      <th>windstorm</th>\n",
              "      <td>31</td>\n",
              "    </tr>\n",
              "    <tr>\n",
              "      <th>rioting</th>\n",
              "      <td>31</td>\n",
              "    </tr>\n",
              "    <tr>\n",
              "      <th>refugees</th>\n",
              "      <td>31</td>\n",
              "    </tr>\n",
              "    <tr>\n",
              "      <th>tsunami</th>\n",
              "      <td>31</td>\n",
              "    </tr>\n",
              "    <tr>\n",
              "      <th>explosion</th>\n",
              "      <td>30</td>\n",
              "    </tr>\n",
              "    <tr>\n",
              "      <th>danger</th>\n",
              "      <td>30</td>\n",
              "    </tr>\n",
              "    <tr>\n",
              "      <th>whirlwind</th>\n",
              "      <td>30</td>\n",
              "    </tr>\n",
              "  </tbody>\n",
              "</table>\n",
              "</div>"
            ],
            "text/plain": [
              "                   keyword\n",
              "siren                   38\n",
              "damage                  36\n",
              "fear                    34\n",
              "wreckage                34\n",
              "fatalities              34\n",
              "twister                 33\n",
              "deluge                  33\n",
              "harm                    33\n",
              "fatality                33\n",
              "evacuate                32\n",
              "devastation             32\n",
              "nuclear%20reactor       32\n",
              "blaze                   32\n",
              "windstorm               31\n",
              "rioting                 31\n",
              "refugees                31\n",
              "tsunami                 31\n",
              "explosion               30\n",
              "danger                  30\n",
              "whirlwind               30"
            ]
          },
          "metadata": {
            "tags": []
          },
          "execution_count": 13
        }
      ]
    },
    {
      "cell_type": "code",
      "metadata": {
        "id": "_lajBs-Znpoh",
        "colab_type": "code",
        "colab": {
          "base_uri": "https://localhost:8080/",
          "height": 638
        },
        "outputId": "fd39ecd6-65c9-486f-d568-fd34ddb171d3"
      },
      "source": [
        "# WHICH ARE THE TOP LOCATIONS\n",
        "\n",
        "location_var = pd.DataFrame(train['location'].value_counts())\n",
        "\n",
        "location_var[1:20] # Excluding 'None' which is the top keyword\n"
      ],
      "execution_count": 14,
      "outputs": [
        {
          "output_type": "execute_result",
          "data": {
            "text/html": [
              "<div>\n",
              "<style scoped>\n",
              "    .dataframe tbody tr th:only-of-type {\n",
              "        vertical-align: middle;\n",
              "    }\n",
              "\n",
              "    .dataframe tbody tr th {\n",
              "        vertical-align: top;\n",
              "    }\n",
              "\n",
              "    .dataframe thead th {\n",
              "        text-align: right;\n",
              "    }\n",
              "</style>\n",
              "<table border=\"1\" class=\"dataframe\">\n",
              "  <thead>\n",
              "    <tr style=\"text-align: right;\">\n",
              "      <th></th>\n",
              "      <th>location</th>\n",
              "    </tr>\n",
              "  </thead>\n",
              "  <tbody>\n",
              "    <tr>\n",
              "      <th>USA</th>\n",
              "      <td>83</td>\n",
              "    </tr>\n",
              "    <tr>\n",
              "      <th>New York</th>\n",
              "      <td>49</td>\n",
              "    </tr>\n",
              "    <tr>\n",
              "      <th>United States</th>\n",
              "      <td>40</td>\n",
              "    </tr>\n",
              "    <tr>\n",
              "      <th>London</th>\n",
              "      <td>37</td>\n",
              "    </tr>\n",
              "    <tr>\n",
              "      <th>Canada</th>\n",
              "      <td>25</td>\n",
              "    </tr>\n",
              "    <tr>\n",
              "      <th>UK</th>\n",
              "      <td>21</td>\n",
              "    </tr>\n",
              "    <tr>\n",
              "      <th>Los Angeles, CA</th>\n",
              "      <td>19</td>\n",
              "    </tr>\n",
              "    <tr>\n",
              "      <th>Worldwide</th>\n",
              "      <td>18</td>\n",
              "    </tr>\n",
              "    <tr>\n",
              "      <th>Nigeria</th>\n",
              "      <td>18</td>\n",
              "    </tr>\n",
              "    <tr>\n",
              "      <th>Kenya</th>\n",
              "      <td>17</td>\n",
              "    </tr>\n",
              "    <tr>\n",
              "      <th>India</th>\n",
              "      <td>17</td>\n",
              "    </tr>\n",
              "    <tr>\n",
              "      <th>Mumbai</th>\n",
              "      <td>17</td>\n",
              "    </tr>\n",
              "    <tr>\n",
              "      <th>California, USA</th>\n",
              "      <td>14</td>\n",
              "    </tr>\n",
              "    <tr>\n",
              "      <th>Australia</th>\n",
              "      <td>14</td>\n",
              "    </tr>\n",
              "    <tr>\n",
              "      <th>Everywhere</th>\n",
              "      <td>14</td>\n",
              "    </tr>\n",
              "    <tr>\n",
              "      <th>Washington, DC</th>\n",
              "      <td>14</td>\n",
              "    </tr>\n",
              "    <tr>\n",
              "      <th>San Francisco</th>\n",
              "      <td>12</td>\n",
              "    </tr>\n",
              "    <tr>\n",
              "      <th>New York, NY</th>\n",
              "      <td>12</td>\n",
              "    </tr>\n",
              "    <tr>\n",
              "      <th>Indonesia</th>\n",
              "      <td>11</td>\n",
              "    </tr>\n",
              "  </tbody>\n",
              "</table>\n",
              "</div>"
            ],
            "text/plain": [
              "                 location\n",
              "USA                    83\n",
              "New York               49\n",
              "United States          40\n",
              "London                 37\n",
              "Canada                 25\n",
              "UK                     21\n",
              "Los Angeles, CA        19\n",
              "Worldwide              18\n",
              "Nigeria                18\n",
              "Kenya                  17\n",
              "India                  17\n",
              "Mumbai                 17\n",
              "California, USA        14\n",
              "Australia              14\n",
              "Everywhere             14\n",
              "Washington, DC         14\n",
              "San Francisco          12\n",
              "New York, NY           12\n",
              "Indonesia              11"
            ]
          },
          "metadata": {
            "tags": []
          },
          "execution_count": 14
        }
      ]
    },
    {
      "cell_type": "code",
      "metadata": {
        "id": "9IP4KD4muv3q",
        "colab_type": "code",
        "colab": {
          "base_uri": "https://localhost:8080/",
          "height": 306
        },
        "outputId": "043f380c-dd3f-4e30-cab5-6340fc8a38d1"
      },
      "source": [
        "! pip install contractions\n",
        "import contractions"
      ],
      "execution_count": 15,
      "outputs": [
        {
          "output_type": "stream",
          "text": [
            "Collecting contractions\n",
            "  Downloading https://files.pythonhosted.org/packages/85/41/c3dfd5feb91a8d587ed1a59f553f07c05f95ad4e5d00ab78702fbf8fe48a/contractions-0.0.24-py2.py3-none-any.whl\n",
            "Collecting textsearch\n",
            "  Downloading https://files.pythonhosted.org/packages/42/a8/03407021f9555043de5492a2bd7a35c56cc03c2510092b5ec018cae1bbf1/textsearch-0.0.17-py2.py3-none-any.whl\n",
            "Collecting Unidecode\n",
            "\u001b[?25l  Downloading https://files.pythonhosted.org/packages/d0/42/d9edfed04228bacea2d824904cae367ee9efd05e6cce7ceaaedd0b0ad964/Unidecode-1.1.1-py2.py3-none-any.whl (238kB)\n",
            "\u001b[K     |████████████████████████████████| 245kB 3.7MB/s \n",
            "\u001b[?25hCollecting pyahocorasick\n",
            "\u001b[?25l  Downloading https://files.pythonhosted.org/packages/f4/9f/f0d8e8850e12829eea2e778f1c90e3c53a9a799b7f412082a5d21cd19ae1/pyahocorasick-1.4.0.tar.gz (312kB)\n",
            "\u001b[K     |████████████████████████████████| 317kB 6.8MB/s \n",
            "\u001b[?25hBuilding wheels for collected packages: pyahocorasick\n",
            "  Building wheel for pyahocorasick (setup.py) ... \u001b[?25l\u001b[?25hdone\n",
            "  Created wheel for pyahocorasick: filename=pyahocorasick-1.4.0-cp36-cp36m-linux_x86_64.whl size=81705 sha256=c1d23f85262751c6af361b591b777ae81d65dc1243e8bba0cabfc450998434d3\n",
            "  Stored in directory: /root/.cache/pip/wheels/0a/90/61/87a55f5b459792fbb2b7ba6b31721b06ff5cf6bde541b40994\n",
            "Successfully built pyahocorasick\n",
            "Installing collected packages: Unidecode, pyahocorasick, textsearch, contractions\n",
            "Successfully installed Unidecode-1.1.1 contractions-0.0.24 pyahocorasick-1.4.0 textsearch-0.0.17\n"
          ],
          "name": "stdout"
        }
      ]
    },
    {
      "cell_type": "code",
      "metadata": {
        "id": "PaWJ8QdZs4p7",
        "colab_type": "code",
        "colab": {}
      },
      "source": [
        "# FUNCTION TO IMPLEMENT BASIC TEXT PREPROCESSING : LOWER-CASING & REMOVING NUMBERS/PUNCTUATION\n",
        "\n",
        "import re\n",
        "import string\n",
        "import contractions\n",
        "\n",
        "\n",
        "def basic_preprocessor(text):\n",
        "  \n",
        "  import re\n",
        "  import string\n",
        "  import contractions\n",
        "  \n",
        "\n",
        "  # EXPANDING OUT CONTRACTIONS\n",
        "  # e.g : don't -> do not\n",
        "  text = contractions.fix(text)\n",
        "\n",
        "  # TEXT TO LOWERCASE\n",
        "  text = text.lower()\n",
        "\n",
        "    \n",
        "  # The syntax of re.sub() is:: re.sub(pattern, replace, source_string)\n",
        "    \n",
        "  # CODE TO HANDLE POSSESSIVES ('s) \n",
        "  # e.g: movie's -> movie s\n",
        "  # THE HOPE IS THAT LSTMs SHOULD BE ABLE TO PROCESS \"s\" \n",
        "  text = re.sub(r\"(\\w+)'s\", r'\\1 s', text)\n",
        "  \n",
        "  # HANDLING OTHER PUNCTUATION\n",
        "  text = re.sub('\\[.*?\\]', '', text)\n",
        "  text = re.sub('https?://\\S+|www\\.\\S+', '', text)\n",
        "  text = re.sub('<.*?>+', '', text)\n",
        "  text = re.sub('[%s]' % re.escape(string.punctuation), '', text)\n",
        "  text = re.sub('\\n', '', text)\n",
        "  text = re.sub('\\w*\\d\\w*', '', text)\n",
        "    \n",
        "  return text"
      ],
      "execution_count": 0,
      "outputs": []
    },
    {
      "cell_type": "code",
      "metadata": {
        "id": "BW4D3weLtSU0",
        "colab_type": "code",
        "colab": {}
      },
      "source": [
        "# EXPERIMENTING\n",
        "sample = train.apply(lambda x: basic_preprocessor(x['text']),axis=1)\n"
      ],
      "execution_count": 0,
      "outputs": []
    },
    {
      "cell_type": "code",
      "metadata": {
        "id": "7mZtK7hRuXow",
        "colab_type": "code",
        "colab": {
          "base_uri": "https://localhost:8080/",
          "height": 527
        },
        "outputId": "871611a8-eabf-499c-d682-d10acb436393"
      },
      "source": [
        "for i in range(1,11):\n",
        "  print(\"\\n\", train['text'].iloc[i])\n",
        "  print( sample.iloc[i])"
      ],
      "execution_count": 18,
      "outputs": [
        {
          "output_type": "stream",
          "text": [
            "\n",
            " '@CatoInstitute: The causes of federal failure are deeply structural and they will not be easily solved: http://t.co/H2XcaX4jbU'\n",
            "catoinstitute the causes of federal failure are deeply structural and they will not be easily solved \n",
            "\n",
            " Well as I was chaning an iPad screen it fucking exploded and glass went all over the place. Looks like my job is going to need a new one.\n",
            "well as i was chaning an ipad screen it fucking exploded and glass went all over the place looks like my job is going to need a new one\n",
            "\n",
            " the war on drugs has turned the U.S. into a WAR zone.\n",
            "the war on drugs has turned the yous into a war zone\n",
            "\n",
            " Obama Declares Disaster for Typhoon-Devastated Saipan\n",
            "obama declares disaster for typhoondevastated saipan\n",
            "\n",
            " According to prophecy and also CNN a Mac tablet will completely obliterate the need for other gadgets. CombiningÛ_ http://t.co/xfccvMXuWb\n",
            "according to prophecy and also cnn a mac tablet will completely obliterate the need for other gadgets combiningû \n",
            "\n",
            " Has body bagged ** RT @d_lac: Drake is body bagging meek\n",
            "has body bagged  rt dlac drake is body bagging meek\n",
            "\n",
            " @ConnorFranta #AskConnor if you were a natural disaster what would you be?\n",
            "connorfranta askconnor if you were a natural disaster what would you be\n",
            "\n",
            " @soapscoop i need you to confirm that ross is dead cause i dont trust anyone else yh\n",
            "soapscoop i need you to confirm that ross is dead because i do not trust anyone else yh\n",
            "\n",
            " @libraryeliza he did get a @taylorswift13 'bump' of approval which is probably why he's blown up http://t.co/KOLMzBz1pZ #MusicAdvisory\n",
            "libraryeliza he did get a  bump of approval which is probably why he is blown up  musicadvisory\n",
            "\n",
            " Flood Prone Waterways In Westchester County Now Eligible For Millions In State Aid #NewYork - http://t.co/XSR2VUJyIz\n",
            "flood prone waterways in westchester county now eligible for millions in state aid newyork  \n"
          ],
          "name": "stdout"
        }
      ]
    },
    {
      "cell_type": "code",
      "metadata": {
        "id": "6eMdX_Xz67rq",
        "colab_type": "code",
        "colab": {}
      },
      "source": [
        "# PREPROCESSING THE TRAINING, VAL AND TEST SETS\n",
        "train['text'] = train.apply(lambda x: basic_preprocessor(x['text']),axis=1)\n",
        "\n",
        "val['text'] = val.apply(lambda x: basic_preprocessor(x['text']),axis=1)\n",
        "\n",
        "test['text'] = test.apply(lambda x: basic_preprocessor(x['text']),axis=1)\n",
        "\n"
      ],
      "execution_count": 0,
      "outputs": []
    },
    {
      "cell_type": "markdown",
      "metadata": {
        "id": "xyrC_m38B3xa",
        "colab_type": "text"
      },
      "source": [
        "Creating the initial model with just the text (contents of the tweet) variable."
      ]
    },
    {
      "cell_type": "code",
      "metadata": {
        "id": "L8vsY91mApWH",
        "colab_type": "code",
        "colab": {}
      },
      "source": [
        "X_train = train[['text']].copy()\n",
        "y_train = train[['target']].copy()\n",
        "\n",
        "X_val = val[['text']].copy()\n",
        "y_val = val[['target']].copy()\n",
        "\n",
        "X_test = test[['text']].copy()\n",
        "y_test = test[['target']].copy()\n",
        "\n"
      ],
      "execution_count": 0,
      "outputs": []
    },
    {
      "cell_type": "markdown",
      "metadata": {
        "id": "IlhS7tF7AphD",
        "colab_type": "text"
      },
      "source": [
        "## 2. Building and Understanding Vocabulary"
      ]
    },
    {
      "cell_type": "code",
      "metadata": {
        "id": "IeY3oJcWApr_",
        "colab_type": "code",
        "colab": {}
      },
      "source": [
        "# A FUNCTION THAT CONVERTS A LIST OF SENTENCES TO A VOCABULARY DICTIONARY\n",
        "\n",
        "from tqdm import tqdm \n",
        "\n",
        "\n",
        "def build_vocab(sentences):\n",
        "\n",
        "  \"\"\"\n",
        "  Purpose, Converts a list of sentences into a vocabulary dictionary\n",
        "  Input, a list of sentences\n",
        "  Prints, the size (length) of the vocabulary\n",
        "  Returns, a vocabulary dictionary {word: frequency}\n",
        "  \"\"\"\n",
        "\n",
        "  length = len(sentences)\n",
        "  vocab ={}\n",
        "\n",
        "  for s in tqdm(sentences):\n",
        "    temp_list = []\n",
        "    temp_list = s.split()\n",
        "\n",
        "    for word in temp_list:\n",
        "      if word not in vocab.keys():\n",
        "        vocab[word] = 1\n",
        "      else:\n",
        "        vocab[word] += 1\n",
        "\n",
        "  print(\"The size of the vocabulary is : \", len(vocab))\n",
        "\n",
        "  return vocab"
      ],
      "execution_count": 0,
      "outputs": []
    },
    {
      "cell_type": "code",
      "metadata": {
        "id": "AH34DtQWEGDT",
        "colab_type": "code",
        "colab": {
          "base_uri": "https://localhost:8080/",
          "height": 34
        },
        "outputId": "118719ab-0809-4218-917c-27e7661c1c0d"
      },
      "source": [
        "# CONVERTING THE TEXT FIELD INTO A LIST OF SENTENCES\n",
        "\n",
        "sentences = []\n",
        "m = len(X_train['text'])\n",
        "\n",
        "for i in range(m):\n",
        "  sentences.append(X_train['text'].iloc[i])\n",
        "\n",
        "print(\"Number of sentences : \", len(sentences))\n"
      ],
      "execution_count": 22,
      "outputs": [
        {
          "output_type": "stream",
          "text": [
            "Number of sentences :  5709\n"
          ],
          "name": "stdout"
        }
      ]
    },
    {
      "cell_type": "code",
      "metadata": {
        "id": "8wNhwfUST0A4",
        "colab_type": "code",
        "colab": {
          "base_uri": "https://localhost:8080/",
          "height": 51
        },
        "outputId": "dee958e0-1f4c-455e-cb26-01ebe3073dc6"
      },
      "source": [
        "# IMPLEMENTING WORD FREQUENCY FUNCTION, STORING RESULTS IN master_vocab VARIABLE\n",
        "master_vocab = build_vocab(sentences)"
      ],
      "execution_count": 23,
      "outputs": [
        {
          "output_type": "stream",
          "text": [
            "100%|██████████| 5709/5709 [00:00<00:00, 231359.85it/s]"
          ],
          "name": "stderr"
        },
        {
          "output_type": "stream",
          "text": [
            "The size of the vocabulary is :  13932\n"
          ],
          "name": "stdout"
        },
        {
          "output_type": "stream",
          "text": [
            "\n"
          ],
          "name": "stderr"
        }
      ]
    },
    {
      "cell_type": "code",
      "metadata": {
        "id": "JrutlXP3EGNe",
        "colab_type": "code",
        "colab": {
          "base_uri": "https://localhost:8080/",
          "height": 88
        },
        "outputId": "a696cd5e-f423-4a73-9192-f11b6a4445ba"
      },
      "source": [
        "# TOP 50 WORDS\n",
        "print(\"\\n\")\n",
        "print(sorted(master_vocab, key = lambda x: (-master_vocab[x], x))[0:50])\n"
      ],
      "execution_count": 24,
      "outputs": [
        {
          "output_type": "stream",
          "text": [
            "\n",
            "\n",
            "['the', 'a', 'to', 'in', 'of', 'i', 'and', 'is', 'you', 'for', 'on', 'not', 'it', 'my', 'that', 'with', 'are', 'at', 'by', 'have', 'this', 'from', 's', 'be', 'was', 'am', 'do', 'will', 'like', 'but', 'as', 'so', 'up', 'me', 'amp', 'we', 'just', 'your', 'out', 'no', 'can', 'after', 'has', 'all', 'when', 'an', 'fire', 'what', 'if', 'he']\n"
          ],
          "name": "stdout"
        }
      ]
    },
    {
      "cell_type": "code",
      "metadata": {
        "id": "OGT4JXMuEGXh",
        "colab_type": "code",
        "colab": {}
      },
      "source": [
        "# BLANK"
      ],
      "execution_count": 0,
      "outputs": []
    },
    {
      "cell_type": "markdown",
      "metadata": {
        "id": "WhKxAkbKEGao",
        "colab_type": "text"
      },
      "source": [
        "## Using Pre-Trained Embeddings to Determine Extent of Data Standardization"
      ]
    },
    {
      "cell_type": "code",
      "metadata": {
        "id": "QhRJ3xzyEGfS",
        "colab_type": "code",
        "colab": {
          "base_uri": "https://localhost:8080/",
          "height": 204
        },
        "outputId": "67559a77-66bc-4db7-af9a-a680f9a7242d"
      },
      "source": [
        "# IMPORTING THE EMBEDDINGS\n",
        "# THANKS TO: LAURENCE MORONEY, AI ADVOCATE AT GOOGLE \n",
        "\n",
        "\n",
        "!wget --no-check-certificate \\\n",
        "    https://storage.googleapis.com/laurencemoroney-blog.appspot.com/glove.6B.100d.txt \\\n",
        "    -O /tmp/glove.6B.100d.txt\n",
        "\n",
        "embeddings_index = {};\n",
        "\n",
        "with open('/tmp/glove.6B.100d.txt') as f:\n",
        "    for line in f:\n",
        "        values = line.split();\n",
        "        word = values[0];\n",
        "        coefs = np.asarray(values[1:], dtype='float32');\n",
        "        embeddings_index[word] = coefs;"
      ],
      "execution_count": 26,
      "outputs": [
        {
          "output_type": "stream",
          "text": [
            "--2020-04-28 11:36:14--  https://storage.googleapis.com/laurencemoroney-blog.appspot.com/glove.6B.100d.txt\n",
            "Resolving storage.googleapis.com (storage.googleapis.com)... 74.125.204.128, 2404:6800:4008:c07::80\n",
            "Connecting to storage.googleapis.com (storage.googleapis.com)|74.125.204.128|:443... connected.\n",
            "HTTP request sent, awaiting response... 200 OK\n",
            "Length: 347116733 (331M) [text/plain]\n",
            "Saving to: ‘/tmp/glove.6B.100d.txt’\n",
            "\n",
            "/tmp/glove.6B.100d. 100%[===================>] 331.04M  90.4MB/s    in 3.7s    \n",
            "\n",
            "2020-04-28 11:36:18 (90.4 MB/s) - ‘/tmp/glove.6B.100d.txt’ saved [347116733/347116733]\n",
            "\n"
          ],
          "name": "stdout"
        }
      ]
    },
    {
      "cell_type": "code",
      "metadata": {
        "id": "Q1nngpo7EGiV",
        "colab_type": "code",
        "colab": {
          "base_uri": "https://localhost:8080/",
          "height": 51
        },
        "outputId": "34223995-bfb3-42ad-b703-4fa4351570e1"
      },
      "source": [
        "# PRINT OUT THE LENGTH OF THE DICTIONARY\n",
        "\n",
        "print(\"Glove vocabulary size: \",len(embeddings_index))\n",
        "print(\"Glove embedding dimensions: \",len(embeddings_index['the']))"
      ],
      "execution_count": 27,
      "outputs": [
        {
          "output_type": "stream",
          "text": [
            "Glove vocabulary size:  400000\n",
            "Glove embedding dimensions:  100\n"
          ],
          "name": "stdout"
        }
      ]
    },
    {
      "cell_type": "code",
      "metadata": {
        "id": "aTWgMnYRFkJI",
        "colab_type": "code",
        "colab": {}
      },
      "source": [
        "# WRITING A FUNCTION TO DETERMINE THE OVERLAP BETWEEN THE 2 DICTIONARIES\n",
        "\n",
        "from tqdm import tqdm\n",
        "import operator\n",
        "\n",
        "def check_overlap(vocab,embeddings):\n",
        "\n",
        "  \"\"\"\n",
        "  Purpose, to determine the overlap between the corpus and the embeddings disctionary\n",
        "  Inputs, 2 dictionaries, one for the vocabulary and the other for the corpus\n",
        "  Prints, a set of useful information on the overlap\n",
        "  Returns, a sorted version dictionary with out_of_vocabulary words and their frequency\n",
        "\n",
        "  \"\"\"\n",
        "  \n",
        "  not_in_glove = {}\n",
        "  total_corpus_words = 0\n",
        "  total_oov_words = 0\n",
        "\n",
        "  for i in tqdm(vocab.keys()):\n",
        "    total_corpus_words += vocab[i] \n",
        "\n",
        "    if i not in embeddings.keys():\n",
        "      not_in_glove[i] = vocab[i]\n",
        "      total_oov_words += vocab[i]\n",
        "\n",
        "  x = len(not_in_glove)\n",
        "  y = len(vocab)\n",
        "  z = len(embeddings)\n",
        "\n",
        "  print(\"\\n\\nVOCABULARY INSIGHTS:\")\n",
        "  print(\"The vocabulary size is (unique word-count) : \",y)\n",
        "  print(f\"Embeddings found for {y-x} ({round((y-x)*100/y,2)})% of the words\")\n",
        "  \n",
        "  print(\"\\nCORPUS INSIGHTS:\")\n",
        "  print(\"The corpus size is (total, non-unique word-count) : \",total_corpus_words)\n",
        "  print(f\"{total_oov_words} word(s), representing, {round(total_oov_words*100/total_corpus_words,2)}% of the corpus vocabulary is unmapped\")\n",
        "\n",
        "  print(\"\\n Top 20 words by frequency that are not present in embeddings dictionary :\")\n",
        "  p = min(len(not_in_glove), 20)\n",
        "  print(sorted(not_in_glove, key = lambda x: (-not_in_glove[x], x))[0:p])\n",
        "\n",
        "  not_in_glove_sorted = sorted(not_in_glove.items(), key=operator.itemgetter(1))[::-1]\n",
        "  \n",
        "\n",
        "  return not_in_glove_sorted\n",
        "\n",
        "\n"
      ],
      "execution_count": 0,
      "outputs": []
    },
    {
      "cell_type": "code",
      "metadata": {
        "id": "K-BGoqC0Fnw9",
        "colab_type": "code",
        "colab": {
          "base_uri": "https://localhost:8080/",
          "height": 258
        },
        "outputId": "eedea032-763a-4047-a2b6-fad1cf85647b"
      },
      "source": [
        "# IMPLEMENTING THE FUCNTION\n",
        "\n",
        "oov = check_overlap(master_vocab,embeddings_index)"
      ],
      "execution_count": 29,
      "outputs": [
        {
          "output_type": "stream",
          "text": [
            "100%|██████████| 13932/13932 [00:00<00:00, 973592.86it/s]"
          ],
          "name": "stderr"
        },
        {
          "output_type": "stream",
          "text": [
            "\n",
            "\n",
            "VOCABULARY INSIGHTS:\n",
            "The vocabulary size is (unique word-count) :  13932\n",
            "Embeddings found for 10137 (72.76)% of the words\n",
            "\n",
            "CORPUS INSIGHTS:\n",
            "The corpus size is (total, non-unique word-count) :  78758\n",
            "4719 word(s), representing, 5.99% of the corpus vocabulary is unmapped\n",
            "\n",
            " Top 20 words by frequency that are not present in embeddings dictionary :\n",
            "['\\x89û', '\\x89ûò', 'prebreak', 're\\x89û', 'nowplaying', 'typhoondevastated', '\\x89ûó', 'gbbo', 'bestnaijamade', 'disea', 'funtenna', 'lmao', 'subreddits', 'gtgt', '\\x89ûïwhen', 'selfimage', 'yyc', 'abstorm', 'rea\\x89û', 'sensorsenso']\n"
          ],
          "name": "stdout"
        },
        {
          "output_type": "stream",
          "text": [
            "\n"
          ],
          "name": "stderr"
        }
      ]
    },
    {
      "cell_type": "markdown",
      "metadata": {
        "id": "ALs41niIFtAv",
        "colab_type": "text"
      },
      "source": [
        "It is quite-promising that 73% of words have corresponding entries in the embedding file.\n",
        "\n",
        "Exploring the Top-50 OOV words"
      ]
    },
    {
      "cell_type": "code",
      "metadata": {
        "id": "B1r6sHOkFwuX",
        "colab_type": "code",
        "colab": {
          "base_uri": "https://localhost:8080/",
          "height": 867
        },
        "outputId": "607bc3cc-878a-46cb-b72f-f0123a4f90f3"
      },
      "source": [
        "oov[0:50]"
      ],
      "execution_count": 30,
      "outputs": [
        {
          "output_type": "execute_result",
          "data": {
            "text/plain": [
              "[('\\x89û', 42),\n",
              " ('\\x89ûò', 26),\n",
              " ('prebreak', 24),\n",
              " ('re\\x89û', 22),\n",
              " ('nowplaying', 21),\n",
              " ('typhoondevastated', 20),\n",
              " ('\\x89ûó', 19),\n",
              " ('gbbo', 17),\n",
              " ('bestnaijamade', 16),\n",
              " ('disea', 13),\n",
              " ('lmao', 13),\n",
              " ('funtenna', 13),\n",
              " ('subreddits', 13),\n",
              " ('gtgt', 11),\n",
              " ('\\x89ûïwhen', 10),\n",
              " ('yyc', 9),\n",
              " ('selfimage', 9),\n",
              " ('rea\\x89û', 8),\n",
              " ('worldnews', 8),\n",
              " ('abstorm', 8),\n",
              " ('sensorsenso', 8),\n",
              " ('sismo', 7),\n",
              " ('arianagrande', 7),\n",
              " ('mediterran', 7),\n",
              " ('spos', 7),\n",
              " ('rì©union', 7),\n",
              " ('justinbieber', 6),\n",
              " ('freakiest', 6),\n",
              " ('ices\\x89û', 6),\n",
              " ('trapmusic', 6),\n",
              " ('djicemoon', 6),\n",
              " ('icemoon', 6),\n",
              " ('animalrescue', 6),\n",
              " ('don\\x89ûªt', 6),\n",
              " ('truthnewsbbccnnislamtruthgodisisterrorismquranlies', 6),\n",
              " ('i\\x89ûªm', 5),\n",
              " ('dorret', 5),\n",
              " ('tcot', 5),\n",
              " ('å£', 5),\n",
              " ('prophetmuhammad', 5),\n",
              " ('chicagoarea', 5),\n",
              " ('directioners', 5),\n",
              " ('mtvhottest', 5),\n",
              " ('wheavenly', 5),\n",
              " ('nasahurricane', 5),\n",
              " ('viralspell', 5),\n",
              " ('by\\x89û', 5),\n",
              " ('usagov', 5),\n",
              " ('strategicpatience', 5),\n",
              " ('can\\x89ûªt', 5)]"
            ]
          },
          "metadata": {
            "tags": []
          },
          "execution_count": 30
        }
      ]
    },
    {
      "cell_type": "code",
      "metadata": {
        "id": "L0smMGPaFw2o",
        "colab_type": "code",
        "colab": {}
      },
      "source": [
        "# DEFINE A MIS-SPELLING DICTIONARY\n",
        "\n",
        "mispell_dict = {\n",
        "  'prebreak': 'pre break',\n",
        "  'nowplaying': 'now playing',\n",
        "  'typhoondevastated': 'typhoon devastated',\n",
        "  'lmao': 'funny'\n",
        "}\n"
      ],
      "execution_count": 0,
      "outputs": []
    },
    {
      "cell_type": "code",
      "metadata": {
        "id": "uVJjDWp6Fw9z",
        "colab_type": "code",
        "colab": {}
      },
      "source": [
        "# WRITING A FUNCTION TO CLEAN THE ABOVE INCONSISTENCIES\n",
        "# AUTHOR: CRISTOF HENKEL, https://www.kaggle.com/christofhenkel/how-to-preprocessing-when-using-embeddings\n",
        "\n",
        "\n",
        "import re\n",
        "\n",
        "def _get_mispell(mispell_dict):\n",
        "    mispell_re = re.compile('(%s)' % '|'.join(mispell_dict.keys()))\n",
        "    return mispell_dict, mispell_re\n",
        "\n",
        "\n",
        "mispellings, mispellings_re = _get_mispell(mispell_dict)\n",
        "\n",
        "\n",
        "\n",
        "def replace_typical_misspell(text):\n",
        "    def replace(match):\n",
        "        return mispellings[match.group(0)]\n",
        "\n",
        "    return mispellings_re.sub(replace, text)"
      ],
      "execution_count": 0,
      "outputs": []
    },
    {
      "cell_type": "code",
      "metadata": {
        "id": "MlfF3C4DJbqC",
        "colab_type": "code",
        "colab": {}
      },
      "source": [
        "# IMPLEMENTING THE FUNCTION FOR TRAINING AND TEST SETS\n",
        "\n",
        "X_train[\"text\"] = X_train[\"text\"].apply(lambda x: replace_typical_misspell(x))\n",
        "X_val[\"text\"] = X_val[\"text\"].apply(lambda x: replace_typical_misspell(x))\n",
        "X_test[\"text\"] = X_test[\"text\"].apply(lambda x: replace_typical_misspell(x))\n"
      ],
      "execution_count": 0,
      "outputs": []
    },
    {
      "cell_type": "code",
      "metadata": {
        "id": "YFppfiTbKDRj",
        "colab_type": "code",
        "colab": {}
      },
      "source": [
        "# BLANK"
      ],
      "execution_count": 0,
      "outputs": []
    },
    {
      "cell_type": "markdown",
      "metadata": {
        "id": "c3_EF5fZKM3F",
        "colab_type": "text"
      },
      "source": [
        "## Tokenizing Text\n"
      ]
    },
    {
      "cell_type": "code",
      "metadata": {
        "id": "VWGot68_KQG8",
        "colab_type": "code",
        "colab": {}
      },
      "source": [
        "# SPECIFYING HYPERPARAMETERS\n",
        "\n",
        "vocab_size = 7000\n",
        "embedding_dim = 20\n",
        "max_length = 15  \n",
        "trunc_type = 'post'\n",
        "oov_tok = \"<OOV>\""
      ],
      "execution_count": 0,
      "outputs": []
    },
    {
      "cell_type": "code",
      "metadata": {
        "id": "hNFGvXjMKQLI",
        "colab_type": "code",
        "colab": {
          "base_uri": "https://localhost:8080/",
          "height": 34
        },
        "outputId": "d70a1c25-fcd3-49f8-91af-ff6e5af1d092"
      },
      "source": [
        "# IMPORTING LIBRARIES AND SETTING-UP TOKENIZER\n",
        "\n",
        "from keras.preprocessing.text import Tokenizer\n",
        "from keras.preprocessing.sequence import pad_sequences"
      ],
      "execution_count": 36,
      "outputs": [
        {
          "output_type": "stream",
          "text": [
            "Using TensorFlow backend.\n"
          ],
          "name": "stderr"
        }
      ]
    },
    {
      "cell_type": "code",
      "metadata": {
        "id": "XPMNac-QKQPo",
        "colab_type": "code",
        "colab": {}
      },
      "source": [
        "# IMPLEMENTING TOKENIZER\n",
        "\n",
        "tokenizer = Tokenizer(num_words = vocab_size, oov_token = oov_tok)\n",
        "\n",
        "tokenizer.fit_on_texts(X_train['text'])"
      ],
      "execution_count": 0,
      "outputs": []
    },
    {
      "cell_type": "code",
      "metadata": {
        "id": "DdNwPYXtKQTF",
        "colab_type": "code",
        "colab": {
          "base_uri": "https://localhost:8080/",
          "height": 51
        },
        "outputId": "44fc0f09-9a96-4e4b-8440-f574d7a18605"
      },
      "source": [
        "# PADDING SEQUENCES - TRAINING SET\n",
        "\n",
        "X_train_seq = tokenizer.texts_to_sequences(X_train['text'])\n",
        "\n",
        "print(\"length of the first training sequence: \",len(X_train_seq[0])) \n",
        "      \n",
        "X_train_pad = pad_sequences(X_train_seq,maxlen = max_length, padding = 'post', truncating = trunc_type)\n",
        "\n",
        "print(\"length of the first training sequence (PADDED): \",len(X_train_pad[0])) "
      ],
      "execution_count": 38,
      "outputs": [
        {
          "output_type": "stream",
          "text": [
            "length of the first training sequence:  22\n",
            "length of the first training sequence (PADDED):  15\n"
          ],
          "name": "stdout"
        }
      ]
    },
    {
      "cell_type": "code",
      "metadata": {
        "id": "U14-I6AkKQXY",
        "colab_type": "code",
        "colab": {
          "base_uri": "https://localhost:8080/",
          "height": 51
        },
        "outputId": "d84bdb93-1a33-4585-810c-3e7fc6bc3643"
      },
      "source": [
        "# TOKENIZATION AND PADDING ON VALIDATION DATA\n",
        "\n",
        "X_val_seq = tokenizer.texts_to_sequences(X_val['text'])\n",
        "\n",
        "print(\"length of the first test sequence: \",len(X_val_seq[0])) \n",
        "      \n",
        "X_val_pad = pad_sequences(X_val_seq, padding = 'post',maxlen = max_length, truncating = trunc_type)\n",
        "\n",
        "print(\"length of the first training sequence (PADDED): \",len(X_val_pad[0])) \n"
      ],
      "execution_count": 39,
      "outputs": [
        {
          "output_type": "stream",
          "text": [
            "length of the first test sequence:  17\n",
            "length of the first training sequence (PADDED):  15\n"
          ],
          "name": "stdout"
        }
      ]
    },
    {
      "cell_type": "code",
      "metadata": {
        "id": "PmoHtuHYWzpt",
        "colab_type": "code",
        "colab": {
          "base_uri": "https://localhost:8080/",
          "height": 51
        },
        "outputId": "a9dfb280-0372-4ad9-d39c-6a86a48f816e"
      },
      "source": [
        "# TOKENIZATION AND PADDING ON TEST DATA\n",
        "\n",
        "X_test_seq = tokenizer.texts_to_sequences(X_test['text'])\n",
        "\n",
        "print(\"length of the first test sequence: \",len(X_test_seq[0])) \n",
        "      \n",
        "X_test_pad = pad_sequences(X_test_seq, maxlen = max_length,padding = 'post', truncating = trunc_type)\n",
        "\n",
        "print(\"length of the first training sequence (PADDED): \",len(X_test_pad[0])) \n"
      ],
      "execution_count": 40,
      "outputs": [
        {
          "output_type": "stream",
          "text": [
            "length of the first test sequence:  21\n",
            "length of the first training sequence (PADDED):  15\n"
          ],
          "name": "stdout"
        }
      ]
    },
    {
      "cell_type": "code",
      "metadata": {
        "id": "DKykiYTfWzvf",
        "colab_type": "code",
        "colab": {
          "base_uri": "https://localhost:8080/",
          "height": 85
        },
        "outputId": "dc5964e2-0db6-4c4b-d1ea-b0c005ce66f6"
      },
      "source": [
        "print(type(X_train_pad))\n",
        "print(X_train_pad.shape)\n",
        "print(X_val_pad.shape)\n",
        "print(X_test_pad.shape)"
      ],
      "execution_count": 41,
      "outputs": [
        {
          "output_type": "stream",
          "text": [
            "<class 'numpy.ndarray'>\n",
            "(5709, 15)\n",
            "(952, 15)\n",
            "(952, 15)\n"
          ],
          "name": "stdout"
        }
      ]
    },
    {
      "cell_type": "code",
      "metadata": {
        "id": "yjcaQUomWz6W",
        "colab_type": "code",
        "colab": {
          "base_uri": "https://localhost:8080/",
          "height": 119
        },
        "outputId": "83f75150-39c2-4c7f-e4b3-02fd08f27020"
      },
      "source": [
        "X_train_pad[0:3]"
      ],
      "execution_count": 42,
      "outputs": [
        {
          "output_type": "execute_result",
          "data": {
            "text/plain": [
              "array([[5188, 5189,   22,  746, 1095, 2140, 2632, 1011, 2140, 1096,   23,\n",
              "        2633,   33, 2633,  140],\n",
              "       [5190,    2,  943,    6, 5191,  318,   18, 5192,  442,    8,   53,\n",
              "          28,   13,   25, 2141],\n",
              "       [ 232,   32,    7,   26, 5194,   48, 3448, 1441,   14,  244,  443,\n",
              "           8, 1097,  417,   45]], dtype=int32)"
            ]
          },
          "metadata": {
            "tags": []
          },
          "execution_count": 42
        }
      ]
    },
    {
      "cell_type": "markdown",
      "metadata": {
        "id": "By2gGp_IW0Ns",
        "colab_type": "text"
      },
      "source": [
        "## LSTM BASED MODEL"
      ]
    },
    {
      "cell_type": "code",
      "metadata": {
        "id": "M9i4KvMSY2Ks",
        "colab_type": "code",
        "colab": {
          "base_uri": "https://localhost:8080/",
          "height": 544
        },
        "outputId": "3604df8b-90bd-4e46-f825-690d7e0e9d58"
      },
      "source": [
        "# CLEAR BACKEND DATA\n",
        "\n",
        "keras.backend.clear_session()\n",
        "np.random.seed(42)\n",
        "tf.random.set_seed(42)\n",
        "\n",
        "\n",
        "# CREATE AN LSTM BASED NEURAL NETWORK IN KERAS\n",
        "\n",
        "\n",
        "sentence_length = max_length  # LENGTH OF EACH PADDED SENTENCE = 18\n",
        "\n",
        "\n",
        "lstm_model = keras.models.Sequential([\n",
        "                                          \n",
        "                  keras.layers.Embedding(input_dim = vocab_size + 1,\n",
        "                                         output_dim = embedding_dim,\n",
        "                                         input_length = sentence_length),\n",
        "                          \n",
        "                  \n",
        "                  keras.layers.Bidirectional(keras.layers.LSTM(64, return_sequences = True, dropout = 0.2, recurrent_dropout= 0.2)),\n",
        "                  keras.layers.Bidirectional(keras.layers.LSTM(32)),\n",
        "\n",
        "\n",
        "                  keras.layers.Dense(64, activation = \"relu\"),\n",
        "                  keras.layers.Dropout(rate = 0.2),\n",
        "                  keras.layers.BatchNormalization(),\n",
        "\n",
        "                  keras.layers.Dense(32, activation = \"relu\"),\n",
        "                  keras.layers.Dropout(rate = 0.2),\n",
        "                  keras.layers.BatchNormalization(),\n",
        "\n",
        "                  keras.layers.Dense(1, activation = \"sigmoid\")\n",
        "                  \n",
        "])\n",
        "\n",
        "\n",
        "\n",
        "# VIEW MODEL ARCHITECTURE\n",
        "lstm_model.summary()\n"
      ],
      "execution_count": 43,
      "outputs": [
        {
          "output_type": "stream",
          "text": [
            "WARNING:tensorflow:Layer lstm will not use cuDNN kernel since it doesn't meet the cuDNN kernel criteria. It will use generic GPU kernel as fallback when running on GPU\n",
            "WARNING:tensorflow:Layer lstm will not use cuDNN kernel since it doesn't meet the cuDNN kernel criteria. It will use generic GPU kernel as fallback when running on GPU\n",
            "WARNING:tensorflow:Layer lstm will not use cuDNN kernel since it doesn't meet the cuDNN kernel criteria. It will use generic GPU kernel as fallback when running on GPU\n",
            "Model: \"sequential\"\n",
            "_________________________________________________________________\n",
            "Layer (type)                 Output Shape              Param #   \n",
            "=================================================================\n",
            "embedding (Embedding)        (None, 15, 20)            140020    \n",
            "_________________________________________________________________\n",
            "bidirectional (Bidirectional (None, 15, 128)           43520     \n",
            "_________________________________________________________________\n",
            "bidirectional_1 (Bidirection (None, 64)                41216     \n",
            "_________________________________________________________________\n",
            "dense (Dense)                (None, 64)                4160      \n",
            "_________________________________________________________________\n",
            "dropout (Dropout)            (None, 64)                0         \n",
            "_________________________________________________________________\n",
            "batch_normalization (BatchNo (None, 64)                256       \n",
            "_________________________________________________________________\n",
            "dense_1 (Dense)              (None, 32)                2080      \n",
            "_________________________________________________________________\n",
            "dropout_1 (Dropout)          (None, 32)                0         \n",
            "_________________________________________________________________\n",
            "batch_normalization_1 (Batch (None, 32)                128       \n",
            "_________________________________________________________________\n",
            "dense_2 (Dense)              (None, 1)                 33        \n",
            "=================================================================\n",
            "Total params: 231,413\n",
            "Trainable params: 231,221\n",
            "Non-trainable params: 192\n",
            "_________________________________________________________________\n"
          ],
          "name": "stdout"
        }
      ]
    },
    {
      "cell_type": "code",
      "metadata": {
        "id": "8mOfhKGGY2Pd",
        "colab_type": "code",
        "colab": {
          "base_uri": "https://localhost:8080/",
          "height": 255
        },
        "outputId": "c8e01c23-cbbf-4b86-a975-4e45d8e7c330"
      },
      "source": [
        "# IMPLEMENT CALLBACKS\n",
        "\n",
        "checkpoint_cb = keras.callbacks.ModelCheckpoint(\"twtr_lstm_best.h5\",save_best_only = True)\n",
        "\n",
        "early_stopping_cb = keras.callbacks.EarlyStopping(patience = 4, restore_best_weights = True)\n",
        "\n",
        "\n",
        "\n",
        "\n",
        "# COMPILE AND FIT MODEL\n",
        "\n",
        "lstm_model.compile(optimizer = \"adam\", loss = \"binary_crossentropy\", metrics = ['accuracy'])\n",
        "\n",
        "history_1 = lstm_model.fit(X_train_pad,y_train, epochs = 20,\n",
        "                            validation_data = (X_val_pad, y_val),\n",
        "                            callbacks = [checkpoint_cb, early_stopping_cb]\n",
        "                            \n",
        "                            )"
      ],
      "execution_count": 44,
      "outputs": [
        {
          "output_type": "stream",
          "text": [
            "Epoch 1/20\n",
            "179/179 [==============================] - 22s 122ms/step - loss: 0.7127 - accuracy: 0.6027 - val_loss: 0.6437 - val_accuracy: 0.7090\n",
            "Epoch 2/20\n",
            "179/179 [==============================] - 21s 120ms/step - loss: 0.4422 - accuracy: 0.8099 - val_loss: 0.5292 - val_accuracy: 0.7836\n",
            "Epoch 3/20\n",
            "179/179 [==============================] - 21s 118ms/step - loss: 0.3382 - accuracy: 0.8632 - val_loss: 0.4776 - val_accuracy: 0.7857\n",
            "Epoch 4/20\n",
            "179/179 [==============================] - 21s 118ms/step - loss: 0.2657 - accuracy: 0.8975 - val_loss: 0.5871 - val_accuracy: 0.7763\n",
            "Epoch 5/20\n",
            "179/179 [==============================] - 21s 116ms/step - loss: 0.2359 - accuracy: 0.9128 - val_loss: 0.7322 - val_accuracy: 0.6996\n",
            "Epoch 6/20\n",
            "179/179 [==============================] - 21s 117ms/step - loss: 0.1905 - accuracy: 0.9310 - val_loss: 0.6328 - val_accuracy: 0.7437\n",
            "Epoch 7/20\n",
            "179/179 [==============================] - 21s 116ms/step - loss: 0.1689 - accuracy: 0.9382 - val_loss: 0.6393 - val_accuracy: 0.7805\n"
          ],
          "name": "stdout"
        }
      ]
    },
    {
      "cell_type": "code",
      "metadata": {
        "id": "9QT_CSe9bYC8",
        "colab_type": "code",
        "colab": {
          "base_uri": "https://localhost:8080/",
          "height": 367
        },
        "outputId": "4d0377cf-d58d-462b-cbc1-dd6d786baba4"
      },
      "source": [
        "history = history_1\n",
        "\n",
        "\n",
        "# BETTER LOOKING PLOTS FOR ACCURACY AND LOSS\n",
        "\n",
        "import matplotlib.pyplot as plt\n",
        "\n",
        "fig,axes = plt.subplots(nrows = 1, ncols = 2, figsize = (12,5))\n",
        "\n",
        "axes[0].plot(history.history['accuracy'])\n",
        "axes[0].plot(history.history['val_accuracy'])\n",
        "axes[0].set_ylim([0.5,1])\n",
        "axes[0].set_title('Model Accuracy')\n",
        "axes[0].set_ylabel('Accuracy')\n",
        "axes[0].set_xlabel('Epoch')\n",
        "axes[0].legend(['Training', 'Validation'], loc='lower right')\n",
        "\n",
        "axes[1].plot(history.history['loss'])\n",
        "axes[1].plot(history.history['val_loss'])\n",
        "axes[1].set_title('Model Loss')\n",
        "axes[1].set_ylabel('Loss')\n",
        "axes[1].set_xlabel('Epoch')\n",
        "axes[1].legend(['Training', 'Validation'], loc='upper left')"
      ],
      "execution_count": 45,
      "outputs": [
        {
          "output_type": "execute_result",
          "data": {
            "text/plain": [
              "<matplotlib.legend.Legend at 0x7f020603b6d8>"
            ]
          },
          "metadata": {
            "tags": []
          },
          "execution_count": 45
        },
        {
          "output_type": "display_data",
          "data": {
            "image/png": "[encoded data removed]",
            "text/plain": [
              "<Figure size 864x360 with 2 Axes>"
            ]
          },
          "metadata": {
            "tags": [],
            "needs_background": "light"
          }
        }
      ]
    },
    {
      "cell_type": "code",
      "metadata": {
        "id": "nyqO2yVuY2Ur",
        "colab_type": "code",
        "colab": {
          "base_uri": "https://localhost:8080/",
          "height": 102
        },
        "outputId": "fa595253-080a-4f71-cd8a-06745886fb2e"
      },
      "source": [
        "# LOAD THE BEST PERFORMING MODEL (SO FAR.)\n",
        "best_model = keras.models.load_model('twtr_lstm_best.h5')\n",
        "\n",
        "best_model.evaluate(X_test_pad, y_test)"
      ],
      "execution_count": 46,
      "outputs": [
        {
          "output_type": "stream",
          "text": [
            "WARNING:tensorflow:Layer lstm will not use cuDNN kernel since it doesn't meet the cuDNN kernel criteria. It will use generic GPU kernel as fallback when running on GPU\n",
            "WARNING:tensorflow:Layer lstm will not use cuDNN kernel since it doesn't meet the cuDNN kernel criteria. It will use generic GPU kernel as fallback when running on GPU\n",
            "WARNING:tensorflow:Layer lstm will not use cuDNN kernel since it doesn't meet the cuDNN kernel criteria. It will use generic GPU kernel as fallback when running on GPU\n",
            "30/30 [==============================] - 0s 10ms/step - loss: 0.4528 - accuracy: 0.8067\n"
          ],
          "name": "stdout"
        },
        {
          "output_type": "execute_result",
          "data": {
            "text/plain": [
              "[0.4528295695781708, 0.8067227005958557]"
            ]
          },
          "metadata": {
            "tags": []
          },
          "execution_count": 46
        }
      ]
    },
    {
      "cell_type": "code",
      "metadata": {
        "id": "nPrkj5bGY2aA",
        "colab_type": "code",
        "colab": {}
      },
      "source": [
        "# BLANK"
      ],
      "execution_count": 0,
      "outputs": []
    },
    {
      "cell_type": "markdown",
      "metadata": {
        "id": "r26XjqzMY2dj",
        "colab_type": "text"
      },
      "source": [
        "## LSTM MODEL WITH PRE-TRAINED EMBEDDINGS"
      ]
    },
    {
      "cell_type": "code",
      "metadata": {
        "id": "bAPbZut0Y2hO",
        "colab_type": "code",
        "colab": {}
      },
      "source": [
        "# A FUNCTION TO GENERATE EMBEDDINGS_MATRIX\n",
        "\n",
        "\n",
        "def gen_embeddings_matrix(max_features, word_index,embeddings_index):\n",
        "\n",
        "  \"\"\"\n",
        "  Purpose, to generate embedding_matrix\n",
        "  Inputs, no of features, word_index and embeddings_index\n",
        "  Returns, embedding_matrix of size (max_features * embedding_dims)\n",
        "\n",
        "  \"\"\"\n",
        "\n",
        "  # CONVERTING THE EMBEDDINGS DIMENSIONS TO NUMPY (100 d)\n",
        "  all_emb_dims = np.stack(embeddings_index.values())\n",
        "\n",
        "  # CALCULATING MEAN AND SD FOR THE DIMENSIONS\n",
        "  emb_mean = all_emb_dims.mean()\n",
        "  emb_std = all_emb_dims.std()\n",
        "\n",
        "  # NO OF EMBEDDING DIMENSIONS\n",
        "  embed_size = all_emb_dims.shape[1]\n",
        "\n",
        "  # EFFECTIVE VOCAB SIZE\n",
        "  no_words = min(max_features, len(word_index)) # no of words\n",
        "\n",
        "  # CREATING AN EMBEDDINGS MATRIX\n",
        "  # INITIALIZING IT WITH MEAN AND SD VALUES (EMBEDDINGS INDEX)\n",
        "  np.random.seed(42)\n",
        "  embedding_matrix = np.random.normal(emb_mean, emb_std, (no_words, embed_size))\n",
        "\n",
        "  # LOGIC TO CHECK AND POPULATE EMBEDDING MATRIX\n",
        "\n",
        "  for word in word_index.keys():\n",
        "    \n",
        "    # IGNORE IF WORD IS \"BEYOND\" THE FREQ RANGE\n",
        "    if word_index[word] >= max_features: \n",
        "      continue\n",
        "\n",
        "    # CHECK IF WORD IS IN THE EMBEDDINGS_INDEX OR IS AN OOV WORD\n",
        "    if word in embeddings_index.keys(): \n",
        "      embedding_vector = embeddings_index[word]\n",
        "      embedding_matrix[word_index[word]] = embedding_vector\n",
        "\n",
        "  return embedding_matrix\n"
      ],
      "execution_count": 0,
      "outputs": []
    },
    {
      "cell_type": "code",
      "metadata": {
        "id": "qt3i1x6ApTnz",
        "colab_type": "code",
        "colab": {
          "base_uri": "https://localhost:8080/",
          "height": 71
        },
        "outputId": "5e2f3786-37c6-47a4-aa56-d6f7c94a16cb"
      },
      "source": [
        "# IMPLEMENTING THE FUNCTION TO GENERATE EMBEDDINGS MATRIX\n",
        "\n",
        "max_features = vocab_size\n",
        "word_index = tokenizer.word_index\n",
        "\n",
        "embedding_matrix = gen_embeddings_matrix(max_features, word_index,embeddings_index)"
      ],
      "execution_count": 49,
      "outputs": [
        {
          "output_type": "stream",
          "text": [
            "/usr/local/lib/python3.6/dist-packages/IPython/core/interactiveshell.py:2882: FutureWarning: arrays to stack must be passed as a \"sequence\" type such as list or tuple. Support for non-sequence iterables such as generators is deprecated as of NumPy 1.16 and will raise an error in the future.\n",
            "  exec(code_obj, self.user_global_ns, self.user_ns)\n"
          ],
          "name": "stderr"
        }
      ]
    },
    {
      "cell_type": "code",
      "metadata": {
        "id": "CI_FAy9exCKM",
        "colab_type": "code",
        "colab": {
          "base_uri": "https://localhost:8080/",
          "height": 34
        },
        "outputId": "94967000-8a9c-487b-cf33-585fb6f1cf1d"
      },
      "source": [
        "# IMP: TO CONCLUSIVELY ESTABLISH THE LINK BETWEEN word_index, embeddings_index AND embeddings_matrix\n",
        "\n",
        "word_index['the'] # equals 2\n",
        "\n",
        "# IMP: CHECK IF embeddings_index[2] = embedding_matrix[2] = embeddings FOR 'the' WORD\n",
        "print(np.all(embeddings_index['the'] == embedding_matrix[2] ))"
      ],
      "execution_count": 50,
      "outputs": [
        {
          "output_type": "stream",
          "text": [
            "True\n"
          ],
          "name": "stdout"
        }
      ]
    },
    {
      "cell_type": "code",
      "metadata": {
        "id": "XYx-CYfrW0Sj",
        "colab_type": "code",
        "colab": {
          "base_uri": "https://localhost:8080/",
          "height": 34
        },
        "outputId": "c57f7087-af09-4dd1-b6a7-f66422351d96"
      },
      "source": [
        "# BLANK"
      ],
      "execution_count": 53,
      "outputs": [
        {
          "output_type": "execute_result",
          "data": {
            "text/plain": [
              "100"
            ]
          },
          "metadata": {
            "tags": []
          },
          "execution_count": 53
        }
      ]
    },
    {
      "cell_type": "code",
      "metadata": {
        "id": "4R2VAVy1iEyj",
        "colab_type": "code",
        "colab": {
          "base_uri": "https://localhost:8080/",
          "height": 731
        },
        "outputId": "26dc944d-6b91-4fc6-9ee7-75c011efed2c"
      },
      "source": [
        "# CLEAR BACKEND DATA\n",
        "\n",
        "keras.backend.clear_session()\n",
        "np.random.seed(42)\n",
        "tf.random.set_seed(42)\n",
        "\n",
        "\n",
        "# CREATE AN LSTM BASED NEURAL NETWORK IN KERAS\n",
        "\n",
        "#vocab_size = vocab_size   # NUMBER OF UNIQUE WORDS IN VOCAB = 10,000 \n",
        "#embedding_dim = embedding_dim\n",
        "sentence_length = max_length  # LENGTH OF EACH PADDED SENTENCE = 175\n",
        "embed_size = embedding_matrix.shape[1]\n",
        "\n",
        "\n",
        "lstm_emb_model = keras.models.Sequential([\n",
        "                                          \n",
        "                  keras.layers.Embedding(input_dim = vocab_size,\n",
        "                                         output_dim = embed_size,\n",
        "                                         input_length = sentence_length,\n",
        "                                         weights=[embedding_matrix], trainable= False),\n",
        "                          \n",
        "                  keras.layers.Bidirectional(keras.layers.LSTM(128, return_sequences= True, recurrent_dropout = 0.2, dropout = 0.2)),\n",
        "                  keras.layers.Bidirectional(keras.layers.LSTM(64, return_sequences = True, recurrent_dropout= 0.2, dropout = 0.2)),\n",
        "                  keras.layers.Bidirectional(keras.layers.LSTM(32)),\n",
        "\n",
        "\n",
        "                  #keras.layers.GlobalAveragePooling1D(),\n",
        "\n",
        "                  keras.layers.Dense(128, activation = \"relu\"),\n",
        "                  keras.layers.Dropout(rate = 0.2),\n",
        "                  keras.layers.BatchNormalization(),\n",
        "\n",
        "                  keras.layers.Dense(64, activation = \"relu\"),\n",
        "                  keras.layers.Dropout(rate = 0.2),\n",
        "                  keras.layers.BatchNormalization(),\n",
        "\n",
        "                  keras.layers.Dense(32, activation = \"relu\"),\n",
        "                  keras.layers.Dropout(rate = 0.2),\n",
        "                  keras.layers.BatchNormalization(),\n",
        "\n",
        "                  keras.layers.Dense(1, activation = \"sigmoid\")\n",
        "                  \n",
        "])\n",
        "\n",
        "\n",
        "\n",
        "# VIEW MODEL ARCHITECTURE\n",
        "lstm_emb_model.summary()\n"
      ],
      "execution_count": 55,
      "outputs": [
        {
          "output_type": "stream",
          "text": [
            "WARNING:tensorflow:Layer lstm will not use cuDNN kernel since it doesn't meet the cuDNN kernel criteria. It will use generic GPU kernel as fallback when running on GPU\n",
            "WARNING:tensorflow:Layer lstm will not use cuDNN kernel since it doesn't meet the cuDNN kernel criteria. It will use generic GPU kernel as fallback when running on GPU\n",
            "WARNING:tensorflow:Layer lstm will not use cuDNN kernel since it doesn't meet the cuDNN kernel criteria. It will use generic GPU kernel as fallback when running on GPU\n",
            "WARNING:tensorflow:Layer lstm_1 will not use cuDNN kernel since it doesn't meet the cuDNN kernel criteria. It will use generic GPU kernel as fallback when running on GPU\n",
            "WARNING:tensorflow:Layer lstm_1 will not use cuDNN kernel since it doesn't meet the cuDNN kernel criteria. It will use generic GPU kernel as fallback when running on GPU\n",
            "WARNING:tensorflow:Layer lstm_1 will not use cuDNN kernel since it doesn't meet the cuDNN kernel criteria. It will use generic GPU kernel as fallback when running on GPU\n",
            "Model: \"sequential\"\n",
            "_________________________________________________________________\n",
            "Layer (type)                 Output Shape              Param #   \n",
            "=================================================================\n",
            "embedding (Embedding)        (None, 15, 100)           700000    \n",
            "_________________________________________________________________\n",
            "bidirectional (Bidirectional (None, 15, 256)           234496    \n",
            "_________________________________________________________________\n",
            "bidirectional_1 (Bidirection (None, 15, 128)           164352    \n",
            "_________________________________________________________________\n",
            "bidirectional_2 (Bidirection (None, 64)                41216     \n",
            "_________________________________________________________________\n",
            "dense (Dense)                (None, 128)               8320      \n",
            "_________________________________________________________________\n",
            "dropout (Dropout)            (None, 128)               0         \n",
            "_________________________________________________________________\n",
            "batch_normalization (BatchNo (None, 128)               512       \n",
            "_________________________________________________________________\n",
            "dense_1 (Dense)              (None, 64)                8256      \n",
            "_________________________________________________________________\n",
            "dropout_1 (Dropout)          (None, 64)                0         \n",
            "_________________________________________________________________\n",
            "batch_normalization_1 (Batch (None, 64)                256       \n",
            "_________________________________________________________________\n",
            "dense_2 (Dense)              (None, 32)                2080      \n",
            "_________________________________________________________________\n",
            "dropout_2 (Dropout)          (None, 32)                0         \n",
            "_________________________________________________________________\n",
            "batch_normalization_2 (Batch (None, 32)                128       \n",
            "_________________________________________________________________\n",
            "dense_3 (Dense)              (None, 1)                 33        \n",
            "=================================================================\n",
            "Total params: 1,159,649\n",
            "Trainable params: 459,201\n",
            "Non-trainable params: 700,448\n",
            "_________________________________________________________________\n"
          ],
          "name": "stdout"
        }
      ]
    },
    {
      "cell_type": "code",
      "metadata": {
        "id": "rVOTRGt1iE6u",
        "colab_type": "code",
        "colab": {
          "base_uri": "https://localhost:8080/",
          "height": 289
        },
        "outputId": "ce4b8bd1-cc4d-46ea-91d9-049733c36608"
      },
      "source": [
        "# IMPLEMENT CALLBACKS\n",
        "\n",
        "checkpoint_cb = keras.callbacks.ModelCheckpoint(\"twtr_lstm_emb_best.h5\",save_best_only = True)\n",
        "\n",
        "early_stopping_cb = keras.callbacks.EarlyStopping(patience = 4, restore_best_weights = True)\n",
        "\n",
        "\n",
        "\n",
        "\n",
        "# COMPILE AND FIT MODEL\n",
        "\n",
        "lstm_emb_model.compile(optimizer = \"adam\", loss = \"binary_crossentropy\", metrics = ['accuracy'])\n",
        "\n",
        "history_3 = lstm_emb_model.fit(X_train_pad,y_train, epochs = 20,\n",
        "                            validation_data = (X_val_pad, y_val),\n",
        "                            callbacks = [checkpoint_cb, early_stopping_cb]\n",
        "                            \n",
        "                            )"
      ],
      "execution_count": 56,
      "outputs": [
        {
          "output_type": "stream",
          "text": [
            "Epoch 1/20\n",
            "179/179 [==============================] - 39s 215ms/step - loss: 0.5761 - accuracy: 0.7161 - val_loss: 0.5148 - val_accuracy: 0.7752\n",
            "Epoch 2/20\n",
            "179/179 [==============================] - 37s 208ms/step - loss: 0.5113 - accuracy: 0.7616 - val_loss: 0.5460 - val_accuracy: 0.6429\n",
            "Epoch 3/20\n",
            "179/179 [==============================] - 37s 206ms/step - loss: 0.4717 - accuracy: 0.7909 - val_loss: 0.5265 - val_accuracy: 0.7731\n",
            "Epoch 4/20\n",
            "179/179 [==============================] - 37s 207ms/step - loss: 0.4690 - accuracy: 0.7937 - val_loss: 0.4360 - val_accuracy: 0.8004\n",
            "Epoch 5/20\n",
            "179/179 [==============================] - 37s 207ms/step - loss: 0.4586 - accuracy: 0.7989 - val_loss: 0.4993 - val_accuracy: 0.7731\n",
            "Epoch 6/20\n",
            "179/179 [==============================] - 37s 207ms/step - loss: 0.4438 - accuracy: 0.8050 - val_loss: 0.5420 - val_accuracy: 0.7111\n",
            "Epoch 7/20\n",
            "179/179 [==============================] - 37s 204ms/step - loss: 0.4473 - accuracy: 0.8049 - val_loss: 0.4635 - val_accuracy: 0.7857\n",
            "Epoch 8/20\n",
            "179/179 [==============================] - 37s 205ms/step - loss: 0.4310 - accuracy: 0.8122 - val_loss: 0.4658 - val_accuracy: 0.7826\n"
          ],
          "name": "stdout"
        }
      ]
    },
    {
      "cell_type": "code",
      "metadata": {
        "id": "0oYZUbPeiFB7",
        "colab_type": "code",
        "colab": {
          "base_uri": "https://localhost:8080/",
          "height": 367
        },
        "outputId": "fd25b46b-f2f9-4b31-f060-33d12961ca40"
      },
      "source": [
        "history = history_3\n",
        "\n",
        "\n",
        "# BETTER LOOKING PLOTS FOR ACCURACY AND LOSS\n",
        "\n",
        "import matplotlib.pyplot as plt\n",
        "\n",
        "fig,axes = plt.subplots(nrows = 1, ncols = 2, figsize = (12,5))\n",
        "\n",
        "axes[0].plot(history.history['accuracy'])\n",
        "axes[0].plot(history.history['val_accuracy'])\n",
        "axes[0].set_ylim([0.5,1])\n",
        "axes[0].set_title('Model Accuracy')\n",
        "axes[0].set_ylabel('Accuracy')\n",
        "axes[0].set_xlabel('Epoch')\n",
        "axes[0].legend(['Training', 'Validation'], loc='lower right')\n",
        "\n",
        "axes[1].plot(history.history['loss'])\n",
        "axes[1].plot(history.history['val_loss'])\n",
        "axes[1].set_title('Model Loss')\n",
        "axes[1].set_ylabel('Loss')\n",
        "axes[1].set_xlabel('Epoch')\n",
        "axes[1].legend(['Training', 'Validation'], loc='upper left')"
      ],
      "execution_count": 57,
      "outputs": [
        {
          "output_type": "execute_result",
          "data": {
            "text/plain": [
              "<matplotlib.legend.Legend at 0x7f01e546d240>"
            ]
          },
          "metadata": {
            "tags": []
          },
          "execution_count": 57
        },
        {
          "output_type": "display_data",
          "data": {
            "image/png": "[encoded data removed]",
            "text/plain": [
              "<Figure size 864x360 with 2 Axes>"
            ]
          },
          "metadata": {
            "tags": [],
            "needs_background": "light"
          }
        }
      ]
    },
    {
      "cell_type": "code",
      "metadata": {
        "id": "vd3_ZkzhiFJm",
        "colab_type": "code",
        "colab": {
          "base_uri": "https://localhost:8080/",
          "height": 153
        },
        "outputId": "b6df40e3-9949-4319-bd65-1c5edc6b85de"
      },
      "source": [
        "# LOAD THE BEST PERFORMING MODEL (SO FAR.)\n",
        "best_model = keras.models.load_model('twtr_lstm_emb_best.h5')\n",
        "\n",
        "best_model.evaluate(X_test_pad, y_test)"
      ],
      "execution_count": 58,
      "outputs": [
        {
          "output_type": "stream",
          "text": [
            "WARNING:tensorflow:Layer lstm will not use cuDNN kernel since it doesn't meet the cuDNN kernel criteria. It will use generic GPU kernel as fallback when running on GPU\n",
            "WARNING:tensorflow:Layer lstm will not use cuDNN kernel since it doesn't meet the cuDNN kernel criteria. It will use generic GPU kernel as fallback when running on GPU\n",
            "WARNING:tensorflow:Layer lstm will not use cuDNN kernel since it doesn't meet the cuDNN kernel criteria. It will use generic GPU kernel as fallback when running on GPU\n",
            "WARNING:tensorflow:Layer lstm_1 will not use cuDNN kernel since it doesn't meet the cuDNN kernel criteria. It will use generic GPU kernel as fallback when running on GPU\n",
            "WARNING:tensorflow:Layer lstm_1 will not use cuDNN kernel since it doesn't meet the cuDNN kernel criteria. It will use generic GPU kernel as fallback when running on GPU\n",
            "WARNING:tensorflow:Layer lstm_1 will not use cuDNN kernel since it doesn't meet the cuDNN kernel criteria. It will use generic GPU kernel as fallback when running on GPU\n",
            "30/30 [==============================] - 0s 16ms/step - loss: 0.4485 - accuracy: 0.8015\n"
          ],
          "name": "stdout"
        },
        {
          "output_type": "execute_result",
          "data": {
            "text/plain": [
              "[0.4485025405883789, 0.8014705777168274]"
            ]
          },
          "metadata": {
            "tags": []
          },
          "execution_count": 58
        }
      ]
    },
    {
      "cell_type": "code",
      "metadata": {
        "id": "Se-LV1FIiFbV",
        "colab_type": "code",
        "colab": {}
      },
      "source": [
        "# BLANK"
      ],
      "execution_count": 0,
      "outputs": []
    },
    {
      "cell_type": "markdown",
      "metadata": {
        "id": "sToew5K7KNAL",
        "colab_type": "text"
      },
      "source": [
        "## Dense Model \n",
        "\n"
      ]
    },
    {
      "cell_type": "code",
      "metadata": {
        "id": "-d2fPnCC18tS",
        "colab_type": "code",
        "colab": {}
      },
      "source": [
        ""
      ],
      "execution_count": 0,
      "outputs": []
    },
    {
      "cell_type": "code",
      "metadata": {
        "id": "EQwwgKWB18za",
        "colab_type": "code",
        "colab": {
          "base_uri": "https://localhost:8080/",
          "height": 663
        },
        "outputId": "6f1d66ea-1b63-44d6-aa18-08cc39228d0f"
      },
      "source": [
        "# CLEAR BACKEND DATA\n",
        "\n",
        "keras.backend.clear_session()\n",
        "np.random.seed(42)\n",
        "tf.random.set_seed(42)\n",
        "\n",
        "\n",
        "# CREATE AN LSTM BASED NEURAL NETWORK IN KERAS\n",
        "\n",
        "\n",
        "sentence_length = max_length  # LENGTH OF EACH PADDED SENTENCE = 18\n",
        "\n",
        "\n",
        "dense_model = keras.models.Sequential([\n",
        "                                          \n",
        "                  keras.layers.Embedding(input_dim = vocab_size + 1,\n",
        "                                         output_dim = embedding_dim,\n",
        "                                         input_length = sentence_length),\n",
        "                          \n",
        "                  \n",
        "                  keras.layers.GlobalMaxPooling1D(),\n",
        "\n",
        "                  keras.layers.Dense(256, activation = \"relu\"),\n",
        "                  keras.layers.Dropout(rate = 0.2),\n",
        "                  keras.layers.BatchNormalization(),\n",
        "\n",
        "                  keras.layers.Dense(128, activation = \"relu\"),\n",
        "                  keras.layers.Dropout(rate = 0.2),\n",
        "                  keras.layers.BatchNormalization(),\n",
        "\n",
        "                  keras.layers.Dense(64, activation = \"relu\"),\n",
        "                  keras.layers.Dropout(rate = 0.2),\n",
        "                  keras.layers.BatchNormalization(),\n",
        "\n",
        "                  keras.layers.Dense(32, activation = \"relu\"),\n",
        "                  keras.layers.Dropout(rate = 0.2),\n",
        "                  keras.layers.BatchNormalization(),\n",
        "\n",
        "                  keras.layers.Dense(1, activation = \"sigmoid\")\n",
        "                  \n",
        "])\n",
        "\n",
        "\n",
        "\n",
        "# VIEW MODEL ARCHITECTURE\n",
        "dense_model.summary()\n"
      ],
      "execution_count": 60,
      "outputs": [
        {
          "output_type": "stream",
          "text": [
            "Model: \"sequential\"\n",
            "_________________________________________________________________\n",
            "Layer (type)                 Output Shape              Param #   \n",
            "=================================================================\n",
            "embedding (Embedding)        (None, 15, 20)            140020    \n",
            "_________________________________________________________________\n",
            "global_max_pooling1d (Global (None, 20)                0         \n",
            "_________________________________________________________________\n",
            "dense (Dense)                (None, 256)               5376      \n",
            "_________________________________________________________________\n",
            "dropout (Dropout)            (None, 256)               0         \n",
            "_________________________________________________________________\n",
            "batch_normalization (BatchNo (None, 256)               1024      \n",
            "_________________________________________________________________\n",
            "dense_1 (Dense)              (None, 128)               32896     \n",
            "_________________________________________________________________\n",
            "dropout_1 (Dropout)          (None, 128)               0         \n",
            "_________________________________________________________________\n",
            "batch_normalization_1 (Batch (None, 128)               512       \n",
            "_________________________________________________________________\n",
            "dense_2 (Dense)              (None, 64)                8256      \n",
            "_________________________________________________________________\n",
            "dropout_2 (Dropout)          (None, 64)                0         \n",
            "_________________________________________________________________\n",
            "batch_normalization_2 (Batch (None, 64)                256       \n",
            "_________________________________________________________________\n",
            "dense_3 (Dense)              (None, 32)                2080      \n",
            "_________________________________________________________________\n",
            "dropout_3 (Dropout)          (None, 32)                0         \n",
            "_________________________________________________________________\n",
            "batch_normalization_3 (Batch (None, 32)                128       \n",
            "_________________________________________________________________\n",
            "dense_4 (Dense)              (None, 1)                 33        \n",
            "=================================================================\n",
            "Total params: 190,581\n",
            "Trainable params: 189,621\n",
            "Non-trainable params: 960\n",
            "_________________________________________________________________\n"
          ],
          "name": "stdout"
        }
      ]
    },
    {
      "cell_type": "code",
      "metadata": {
        "id": "wWw3rTQY184x",
        "colab_type": "code",
        "colab": {
          "base_uri": "https://localhost:8080/",
          "height": 255
        },
        "outputId": "66eee9ec-c08f-4b27-d87d-f4b55b297ffc"
      },
      "source": [
        "# IMPLEMENT CALLBACKS\n",
        "\n",
        "checkpoint_cb = keras.callbacks.ModelCheckpoint(\"twtr_dense_best.h5\",save_best_only = True)\n",
        "\n",
        "early_stopping_cb = keras.callbacks.EarlyStopping(patience = 4, restore_best_weights = True)\n",
        "\n",
        "\n",
        "\n",
        "\n",
        "# COMPILE AND FIT MODEL\n",
        "\n",
        "dense_model.compile(optimizer = \"adam\", loss = \"binary_crossentropy\", metrics = ['accuracy'])\n",
        "\n",
        "history_4 = dense_model.fit(X_train_pad,y_train, epochs = 20,\n",
        "                            validation_data = (X_val_pad, y_val),\n",
        "                            callbacks = [checkpoint_cb, early_stopping_cb]\n",
        "                            \n",
        "                            )"
      ],
      "execution_count": 61,
      "outputs": [
        {
          "output_type": "stream",
          "text": [
            "Epoch 1/20\n",
            "179/179 [==============================] - 1s 8ms/step - loss: 0.7898 - accuracy: 0.5190 - val_loss: 0.6800 - val_accuracy: 0.5683\n",
            "Epoch 2/20\n",
            "179/179 [==============================] - 1s 7ms/step - loss: 0.6042 - accuracy: 0.6812 - val_loss: 0.6418 - val_accuracy: 0.5956\n",
            "Epoch 3/20\n",
            "179/179 [==============================] - 1s 7ms/step - loss: 0.4720 - accuracy: 0.7945 - val_loss: 0.5125 - val_accuracy: 0.7626\n",
            "Epoch 4/20\n",
            "179/179 [==============================] - 1s 7ms/step - loss: 0.3701 - accuracy: 0.8474 - val_loss: 0.5367 - val_accuracy: 0.7700\n",
            "Epoch 5/20\n",
            "179/179 [==============================] - 1s 6ms/step - loss: 0.3138 - accuracy: 0.8756 - val_loss: 0.5926 - val_accuracy: 0.7489\n",
            "Epoch 6/20\n",
            "179/179 [==============================] - 1s 7ms/step - loss: 0.2546 - accuracy: 0.9063 - val_loss: 0.6062 - val_accuracy: 0.7563\n",
            "Epoch 7/20\n",
            "179/179 [==============================] - 1s 6ms/step - loss: 0.2182 - accuracy: 0.9198 - val_loss: 0.6631 - val_accuracy: 0.7595\n"
          ],
          "name": "stdout"
        }
      ]
    },
    {
      "cell_type": "code",
      "metadata": {
        "id": "w917vw2U1898",
        "colab_type": "code",
        "colab": {
          "base_uri": "https://localhost:8080/",
          "height": 367
        },
        "outputId": "713b96d4-5471-4799-9b31-d374002fdc73"
      },
      "source": [
        "history = history_4\n",
        "\n",
        "\n",
        "# BETTER LOOKING PLOTS FOR ACCURACY AND LOSS\n",
        "\n",
        "import matplotlib.pyplot as plt\n",
        "\n",
        "fig,axes = plt.subplots(nrows = 1, ncols = 2, figsize = (12,5))\n",
        "\n",
        "axes[0].plot(history.history['accuracy'])\n",
        "axes[0].plot(history.history['val_accuracy'])\n",
        "axes[0].set_ylim([0.5,1])\n",
        "axes[0].set_title('Model Accuracy')\n",
        "axes[0].set_ylabel('Accuracy')\n",
        "axes[0].set_xlabel('Epoch')\n",
        "axes[0].legend(['Training', 'Validation'], loc='lower right')\n",
        "\n",
        "axes[1].plot(history.history['loss'])\n",
        "axes[1].plot(history.history['val_loss'])\n",
        "axes[1].set_title('Model Loss')\n",
        "axes[1].set_ylabel('Loss')\n",
        "axes[1].set_xlabel('Epoch')\n",
        "axes[1].legend(['Training', 'Validation'], loc='upper left')"
      ],
      "execution_count": 62,
      "outputs": [
        {
          "output_type": "execute_result",
          "data": {
            "text/plain": [
              "<matplotlib.legend.Legend at 0x7f0208661048>"
            ]
          },
          "metadata": {
            "tags": []
          },
          "execution_count": 62
        },
        {
          "output_type": "display_data",
          "data": {
            "image/png": "[encoded data removed]",
            "text/plain": [
              "<Figure size 864x360 with 2 Axes>"
            ]
          },
          "metadata": {
            "tags": [],
            "needs_background": "light"
          }
        }
      ]
    },
    {
      "cell_type": "code",
      "metadata": {
        "id": "4ZbbjdjR19CP",
        "colab_type": "code",
        "colab": {
          "base_uri": "https://localhost:8080/",
          "height": 51
        },
        "outputId": "da3bdc1d-b891-425d-a9d0-6694733837ca"
      },
      "source": [
        "# LOAD THE BEST PERFORMING MODEL (SO FAR.)\n",
        "best_model = keras.models.load_model('twtr_dense_best.h5')\n",
        "\n",
        "best_model.evaluate(X_test_pad, y_test)"
      ],
      "execution_count": 63,
      "outputs": [
        {
          "output_type": "stream",
          "text": [
            "30/30 [==============================] - 0s 2ms/step - loss: 0.4956 - accuracy: 0.7836\n"
          ],
          "name": "stdout"
        },
        {
          "output_type": "execute_result",
          "data": {
            "text/plain": [
              "[0.49564316868782043, 0.7836134433746338]"
            ]
          },
          "metadata": {
            "tags": []
          },
          "execution_count": 63
        }
      ]
    },
    {
      "cell_type": "code",
      "metadata": {
        "id": "Zhg4Cyzr19G7",
        "colab_type": "code",
        "colab": {}
      },
      "source": [
        "# BLANK"
      ],
      "execution_count": 0,
      "outputs": []
    },
    {
      "cell_type": "markdown",
      "metadata": {
        "id": "8ECTX2edkL3x",
        "colab_type": "text"
      },
      "source": [
        "## Concluding Remarks\n",
        "In this notebook, I have tried out two variants of LSTM based approaches - one with pretrained embeddings and one without. The model which incorporate pre-trained embeddings from the Glove model had an accuracy of 83% on the test set.\n",
        "\n",
        "I have also created a set of helper functions for data preprocessing, vocabulary building and creating embedding matrix from pre-trained embeddings.\n",
        "\n",
        "<BR>\n",
        "\n",
        "## Next Steps\n",
        "\n",
        "The next step is to get better results by trying out a few more approaches which have been listed below.\n",
        "\n",
        "1. An `Ensemble` model (dense - word focussed + lstm - sequence focussed)\n",
        "2. An `N-GRAM` model (especially n = 2)\n",
        "3. Using `Attention` based frameworks\n",
        "4. (Optional) A `Functional` model (using Keras functional API)"
      ]
    },
    {
      "cell_type": "code",
      "metadata": {
        "id": "Ycb-8zb4kL94",
        "colab_type": "code",
        "colab": {
          "base_uri": "https://localhost:8080/",
          "height": 136
        },
        "outputId": "e72fd5fd-14b1-4585-88f6-774640182d4c"
      },
      "source": [
        "# LOAD THE BEST PERFORMING MODEL (SO FAR.)\n",
        "lstm_emb_model = keras.models.load_model('twtr_lstm_emb_best.h5')\n",
        "dense_model = keras.models.load_model('twtr_dense_best.h5')\n",
        "\n",
        "Y_lstm_emb = lstm_emb_model.predict(X_test, verbose = True)\n",
        "Y_dense = dense_model.predict(X_test, verbose = True)\n"
      ],
      "execution_count": 0,
      "outputs": [
        {
          "output_type": "stream",
          "text": [
            "WARNING:tensorflow:Layer lstm will not use cuDNN kernel since it doesn't meet the cuDNN kernel criteria. It will use generic GPU kernel as fallback when running on GPU\n",
            "WARNING:tensorflow:Layer lstm will not use cuDNN kernel since it doesn't meet the cuDNN kernel criteria. It will use generic GPU kernel as fallback when running on GPU\n",
            "WARNING:tensorflow:Layer lstm will not use cuDNN kernel since it doesn't meet the cuDNN kernel criteria. It will use generic GPU kernel as fallback when running on GPU\n",
            "WARNING:tensorflow:Layer lstm_1 will not use cuDNN kernel since it doesn't meet the cuDNN kernel criteria. It will use generic GPU kernel as fallback when running on GPU\n",
            "WARNING:tensorflow:Layer lstm_1 will not use cuDNN kernel since it doesn't meet the cuDNN kernel criteria. It will use generic GPU kernel as fallback when running on GPU\n",
            "WARNING:tensorflow:Layer lstm_1 will not use cuDNN kernel since it doesn't meet the cuDNN kernel criteria. It will use generic GPU kernel as fallback when running on GPU\n",
            "WARNING:tensorflow:Model was constructed with shape (None, 15) for input Tensor(\"embedding_input_2:0\", shape=(None, 15), dtype=float32), but it was called on an input with incompatible shape (None, 1).\n"
          ],
          "name": "stdout"
        }
      ]
    },
    {
      "cell_type": "code",
      "metadata": {
        "id": "cZ8axe4hkMDS",
        "colab_type": "code",
        "colab": {}
      },
      "source": [
        ""
      ],
      "execution_count": 0,
      "outputs": []
    },
    {
      "cell_type": "code",
      "metadata": {
        "id": "lzKGjnAakMOp",
        "colab_type": "code",
        "colab": {}
      },
      "source": [
        ""
      ],
      "execution_count": 0,
      "outputs": []
    },
    {
      "cell_type": "code",
      "metadata": {
        "id": "rNWcxHe3kMVC",
        "colab_type": "code",
        "colab": {}
      },
      "source": [
        ""
      ],
      "execution_count": 0,
      "outputs": []
    },
    {
      "cell_type": "code",
      "metadata": {
        "id": "84RiSWs3kMSj",
        "colab_type": "code",
        "colab": {}
      },
      "source": [
        ""
      ],
      "execution_count": 0,
      "outputs": []
    },
    {
      "cell_type": "code",
      "metadata": {
        "id": "AFKjNKUokMK5",
        "colab_type": "code",
        "colab": {}
      },
      "source": [
        ""
      ],
      "execution_count": 0,
      "outputs": []
    },
    {
      "cell_type": "code",
      "metadata": {
        "id": "6cD9WtWCkMIM",
        "colab_type": "code",
        "colab": {}
      },
      "source": [
        ""
      ],
      "execution_count": 0,
      "outputs": []
    },
    {
      "cell_type": "markdown",
      "metadata": {
        "id": "Wik40bXoLLKb",
        "colab_type": "text"
      },
      "source": [
        "## Appendix: MERGED MODEL (Ensemble of Deep Learning Models)\n",
        "\n",
        "*work in progress*"
      ]
    },
    {
      "cell_type": "code",
      "metadata": {
        "id": "zf3_ovffLLPL",
        "colab_type": "code",
        "colab": {}
      },
      "source": [
        "# CLEAR BACKEND DATA\n",
        "\n",
        "keras.backend.clear_session()\n",
        "np.random.seed(42)\n",
        "tf.random.set_seed(42)\n",
        "\n",
        "# TREE 1\n",
        "input_AA = keras.layers.Input(shape=(sentence_length,), dtype='int32') # THIS HAS TO BE ADDED FOR IT TO WORK\n",
        "input_A = keras.layers.Embedding(input_dim = vocab_size,\n",
        "                                         output_dim = embed_size,\n",
        "                                         input_length = sentence_length,\n",
        "                                         weights=[embedding_matrix], trainable= False) (input_AA)\n",
        "\n",
        "A_hidden_1 = keras.layers.Bidirectional(keras.layers.LSTM(128, return_sequences= True, recurrent_dropout = 0.2, dropout = 0.2)) (input_A)\n",
        "A_hidden_2 = keras.layers.Bidirectional(keras.layers.LSTM(64, recurrent_dropout = 0.2, dropout = 0.2)) (A_hidden_1)\n",
        "\n",
        "\n",
        "# TREE 2\n",
        "input_BB = keras.layers.Input(shape=(sentence_length,), dtype='int32') # THIS HAS TO BE ADDED FOR IT TO WORK\n",
        "input_B = keras.layers.Embedding(input_dim = vocab_size,\n",
        "                                         output_dim = embed_size,\n",
        "                                         input_length = sentence_length)(input_BB)\n",
        "\n",
        "B_hidden_1 = keras.layers.GlobalMaxPooling1D()(input_B) \n",
        "\n",
        "B_hidden_2 = keras.layers.Dense(128, activation = \"relu\")(B_hidden_1)\n",
        "B_hidden_3 = keras.layers.Dropout(rate = 0.2)(B_hidden_2)\n",
        "B_hidden_4 = keras.layers.BatchNormalization()(B_hidden_3)\n",
        "\n",
        "B_hidden_5 = keras.layers.Dense(64, activation = \"relu\")(B_hidden_4)\n",
        "B_hidden_6 = keras.layers.Dropout(rate = 0.2)(B_hidden_5)\n",
        "B_hidden_7 = keras.layers.BatchNormalization()(B_hidden_6)\n",
        "\n",
        "# COMBINING STEP\n",
        "concat = keras.layers.concatenate([A_hidden_2,B_hidden_7])\n",
        "\n",
        "dense_1 = keras.layers.Dense(20, activation = \"relu\")(concat)\n",
        "dense_2 = keras.layers.Dropout(rate = 0.2)(dense_1)\n",
        "dense_3 = keras.layers.BatchNormalization()(dense_2)\n",
        "\n",
        "output = keras.layers.Dense(1,activation = \"softmax\")(dense_3)\n",
        "\n",
        "\n",
        "merged_model = keras.Model(inputs = [input_AA,input_BB], outputs = [output])\n",
        "\n",
        "\n",
        "\n",
        "# VIEW MODEL ARCHITECTURE\n",
        "merged_model.summary()\n"
      ],
      "execution_count": 0,
      "outputs": []
    },
    {
      "cell_type": "code",
      "metadata": {
        "id": "rdQvdJ8aLLWe",
        "colab_type": "code",
        "colab": {}
      },
      "source": [
        "# IMPLEMENT CALLBACKS\n",
        "\n",
        "# checkpoint_cb = keras.callbacks.ModelCheckpoint(\"twtr_merged_best.h5\",save_best_only = True)\n",
        "\n",
        "# early_stopping_cb = keras.callbacks.EarlyStopping(patience = 4, restore_best_weights = True)\n",
        "\n",
        "\n",
        "\n",
        "\n",
        "# COMPILE AND FIT MODEL\n",
        "\n",
        "# merged_model.compile(optimizer = \"adam\", loss = [\"binary_crossentropy\",\"binary_crossentropy\"], metrics = ['accuracy'])\n",
        "\n",
        "# history_5 = merged_model.fit((X_train_pad,X_train_pad),y_train, epochs = 20,\n",
        "#                             validation_data = ((X_val_pad,X_val_pad), y_val),\n",
        "#                             callbacks = [checkpoint_cb, early_stopping_cb]\n",
        "                            \n",
        "#                             )"
      ],
      "execution_count": 0,
      "outputs": []
    },
    {
      "cell_type": "code",
      "metadata": {
        "id": "KSP7fGyHfB2K",
        "colab_type": "code",
        "colab": {}
      },
      "source": [
        ""
      ],
      "execution_count": 0,
      "outputs": []
    }
  ]
}