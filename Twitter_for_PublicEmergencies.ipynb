{
  "nbformat": 4,
  "nbformat_minor": 0,
  "metadata": {
    "colab": {
      "name": "Twitter_for_PublicEmergencies.ipynb",
      "provenance": [],
      "authorship_tag": "ABX9TyO/wmW7PAKj1Eo5vhItkOkT",
      "include_colab_link": true
    },
    "kernelspec": {
      "name": "python3",
      "display_name": "Python 3"
    }
  },
  "cells": [
    {
      "cell_type": "markdown",
      "metadata": {
        "id": "view-in-github",
        "colab_type": "text"
      },
      "source": [
        "<a href=\"https://colab.research.google.com/github/raamav/Text-Classification/blob/master/Twitter_for_PublicEmergencies.ipynb\" target=\"_parent\"><img src=\"https://colab.research.google.com/assets/colab-badge.svg\" alt=\"Open In Colab\"/></a>"
      ]
    },
    {
      "cell_type": "markdown",
      "metadata": {
        "id": "TL4eFsRTgr9C",
        "colab_type": "text"
      },
      "source": [
        "# \"Real or NOT\" : NLP to Identify Public Emergency Related Tweets\n",
        "\n",
        "\n",
        "## Introduction\n",
        "\n",
        "Being able to predict which Tweets are about real Public Emergencies (*eg Earthquakes, Floods, Terrorist Events*) and which ones are not. \n",
        "\n",
        "(The words 'Pubic Emergency' and 'Disasters' have been used interchangeably)\n",
        "\n",
        "> Twitter has become an important communication channel in times of emergency.\n",
        "The ubiquitousness of smartphones enables people to announce an emergency they’re observing in real-time. Because of this, more agencies are interested in programatically monitoring Twitter (i.e. disaster relief organizations and news agencies).\n",
        "\n",
        "> But, it’s not always clear whether a person’s words are actually announcing a disaster. \n",
        "\n",
        "<BR>\n",
        "\n",
        "*Source: [Real or Not? NLP with Disaster Tweets, A Kaggle Competition](https://www.kaggle.com/c/nlp-getting-started/overview)*\n",
        "\n",
        "<BR>\n",
        "\n",
        "The dataset has the contents of the Tweet (`text` variable), the location from where the Tweet was posted (`location` variable), and a keyword associated with the Tweet (`keyword` variable). \n",
        "\n",
        "The model will be built based on the contents of the Tweet, as from a domain standpoint, the location and the keyword information may not always be available (in the situation this algorithm is actually deployed) \n",
        "\n",
        "\n",
        "<BR>\n",
        "\n",
        "### Goal\n",
        "\n",
        "This is the second exploration of the dataset. In the 1st attempt, I had used an ML based approach *(an ensemble of ensemble methods)* yielded 80% accuracy on the test data. \n",
        "\n",
        "The goal is to get a better model (~85%) using one or an ensemble of multiple Deep Learning models.\n",
        "\n",
        "\n",
        "<BR>\n",
        "\n",
        "### Approach Summary\n",
        "*TBD*\n",
        "\n",
        "<BR>\n",
        "\n",
        "### Results\n",
        "*tbd*\n",
        "\n",
        "<BR>\n",
        "\n",
        "***\n",
        "\n",
        "\n",
        "## 1. Data Exploration & Pre-Processing"
      ]
    },
    {
      "cell_type": "code",
      "metadata": {
        "id": "d7L2k6z5h_1X",
        "colab_type": "code",
        "colab": {
          "base_uri": "https://localhost:8080/",
          "height": 34
        },
        "outputId": "4ed6ca56-773c-4547-8b80-5e5a86bc5d02"
      },
      "source": [
        "# STANDARD IMPORTS\n",
        "\n",
        "import tensorflow as tf\n",
        "from tensorflow import keras\n",
        "\n",
        "import numpy as np\n",
        "import pandas as pd\n",
        "\n",
        "\n",
        "%matplotlib inline\n",
        "import matplotlib as mpl\n",
        "import matplotlib.pyplot as plt\n",
        "\n",
        "tf.__version__\n"
      ],
      "execution_count": 200,
      "outputs": [
        {
          "output_type": "execute_result",
          "data": {
            "text/plain": [
              "'2.2.0-rc3'"
            ]
          },
          "metadata": {
            "tags": []
          },
          "execution_count": 200
        }
      ]
    },
    {
      "cell_type": "code",
      "metadata": {
        "id": "7N7FbGrCmVMr",
        "colab_type": "code",
        "colab": {}
      },
      "source": [
        "# A CUSTOM FUNCTION FOR CREATING WORDCLOUDS\n",
        "\n",
        "\n",
        "from PIL import Image\n",
        "from wordcloud import WordCloud, STOPWORDS, ImageColorGenerator\n",
        "\n",
        "\n",
        "def plot_wordcloud(text, max_words=400, \n",
        "                   min_font_size= 4 ,max_font_size=120,\n",
        "                   min_word_lengthint = None,\n",
        "                   figure_size=(24.0,16.0), \n",
        "                   title = None, title_size=40, \n",
        "                   mask = None):\n",
        "    \n",
        "    stopwords = set(STOPWORDS)\n",
        "    \n",
        "    more_stopwords = {'None'}\n",
        "    stopwords = stopwords.union(more_stopwords)\n",
        "\n",
        "    wordcloud = WordCloud(background_color='black',\n",
        "                    width = 1200,\n",
        "                    height = 800,\n",
        "                    stopwords = stopwords,\n",
        "                    max_words = max_words,\n",
        "                    max_font_size = max_font_size,\n",
        "                    min_font_size = min_font_size,\n",
        "                    random_state = 42,\n",
        "                    mask = None)\n",
        "    \n",
        "    wordcloud.generate(text)\n",
        "    \n",
        "    plt.figure(figsize=figure_size)\n",
        "    \n",
        "    plt.imshow(wordcloud);\n",
        "    plt.title(title, fontdict={'size': title_size, 'color': 'black', \n",
        "                                  'verticalalignment': 'bottom'})\n",
        "    plt.axis('off');\n",
        "    plt.tight_layout()  \n",
        "    \n"
      ],
      "execution_count": 0,
      "outputs": []
    },
    {
      "cell_type": "code",
      "metadata": {
        "id": "P_U5-OsDjzhR",
        "colab_type": "code",
        "colab": {}
      },
      "source": [
        "data = pd.read_csv(\"https://raw.githubusercontent.com/raamav/Text-Classification/master/train.csv\")"
      ],
      "execution_count": 0,
      "outputs": []
    },
    {
      "cell_type": "code",
      "metadata": {
        "id": "BCnoIjBnjzsz",
        "colab_type": "code",
        "colab": {
          "base_uri": "https://localhost:8080/",
          "height": 221
        },
        "outputId": "8c9b6ce1-562e-46fe-b1ae-3314f98608d7"
      },
      "source": [
        "data.info()"
      ],
      "execution_count": 203,
      "outputs": [
        {
          "output_type": "stream",
          "text": [
            "<class 'pandas.core.frame.DataFrame'>\n",
            "RangeIndex: 7613 entries, 0 to 7612\n",
            "Data columns (total 5 columns):\n",
            " #   Column    Non-Null Count  Dtype \n",
            "---  ------    --------------  ----- \n",
            " 0   id        7613 non-null   int64 \n",
            " 1   keyword   7552 non-null   object\n",
            " 2   location  5080 non-null   object\n",
            " 3   text      7613 non-null   object\n",
            " 4   target    7613 non-null   int64 \n",
            "dtypes: int64(2), object(3)\n",
            "memory usage: 297.5+ KB\n"
          ],
          "name": "stdout"
        }
      ]
    },
    {
      "cell_type": "markdown",
      "metadata": {
        "id": "UviPs1XKpB3n",
        "colab_type": "text"
      },
      "source": [
        "One of the first steps is to divide the data into training, validation and test sets. Will be adopting a 75 : 12.5 : 12.5 split for this purpose"
      ]
    },
    {
      "cell_type": "code",
      "metadata": {
        "id": "FwpFZrkijz2B",
        "colab_type": "code",
        "colab": {}
      },
      "source": [
        "from sklearn.model_selection import train_test_split\n",
        "\n",
        "train, test = train_test_split(data, test_size = 0.25, random_state = 42)\n",
        "val, test = train_test_split(test, test_size = 0.5, random_state = 42)"
      ],
      "execution_count": 0,
      "outputs": []
    },
    {
      "cell_type": "code",
      "metadata": {
        "id": "etBThct2pr9j",
        "colab_type": "code",
        "colab": {
          "base_uri": "https://localhost:8080/",
          "height": 68
        },
        "outputId": "01022864-df05-48d4-e4fe-9fb8250845f9"
      },
      "source": [
        "print(\"train.shape\", train.shape)\n",
        "print(\"val.shape\", val.shape)\n",
        "print(\"test.shape\", test.shape)"
      ],
      "execution_count": 205,
      "outputs": [
        {
          "output_type": "stream",
          "text": [
            "train.shape (5709, 5)\n",
            "val.shape (952, 5)\n",
            "test.shape (952, 5)\n"
          ],
          "name": "stdout"
        }
      ]
    },
    {
      "cell_type": "markdown",
      "metadata": {
        "id": "W6N4PpMqq67P",
        "colab_type": "text"
      },
      "source": [
        "Exploring the data, and building functions (and/or pipelines) for preprocessing data. Will also explore the possibility of crating features (although deep learning models do not require extensive feature engineering)"
      ]
    },
    {
      "cell_type": "code",
      "metadata": {
        "id": "lZ-6h87UqM_T",
        "colab_type": "code",
        "colab": {
          "base_uri": "https://localhost:8080/",
          "height": 204
        },
        "outputId": "294b0525-b1c5-49b8-bcdf-e3841f2e2874"
      },
      "source": [
        "train.head(5)"
      ],
      "execution_count": 206,
      "outputs": [
        {
          "output_type": "execute_result",
          "data": {
            "text/html": [
              "<div>\n",
              "<style scoped>\n",
              "    .dataframe tbody tr th:only-of-type {\n",
              "        vertical-align: middle;\n",
              "    }\n",
              "\n",
              "    .dataframe tbody tr th {\n",
              "        vertical-align: top;\n",
              "    }\n",
              "\n",
              "    .dataframe thead th {\n",
              "        text-align: right;\n",
              "    }\n",
              "</style>\n",
              "<table border=\"1\" class=\"dataframe\">\n",
              "  <thead>\n",
              "    <tr style=\"text-align: right;\">\n",
              "      <th></th>\n",
              "      <th>id</th>\n",
              "      <th>keyword</th>\n",
              "      <th>location</th>\n",
              "      <th>text</th>\n",
              "      <th>target</th>\n",
              "    </tr>\n",
              "  </thead>\n",
              "  <tbody>\n",
              "    <tr>\n",
              "      <th>5151</th>\n",
              "      <td>7345</td>\n",
              "      <td>obliterate</td>\n",
              "      <td>Dover, DE</td>\n",
              "      <td>@dicehateme @PuppyShogun This makes sense. Pap...</td>\n",
              "      <td>0</td>\n",
              "    </tr>\n",
              "    <tr>\n",
              "      <th>6351</th>\n",
              "      <td>9081</td>\n",
              "      <td>structural%20failure</td>\n",
              "      <td>ÌÏT: 27.9136024,-81.6078532</td>\n",
              "      <td>'@CatoInstitute: The causes of federal failure...</td>\n",
              "      <td>0</td>\n",
              "    </tr>\n",
              "    <tr>\n",
              "      <th>3443</th>\n",
              "      <td>4920</td>\n",
              "      <td>exploded</td>\n",
              "      <td>Elmwood Park, NJ</td>\n",
              "      <td>Well as I was chaning an iPad screen it fuckin...</td>\n",
              "      <td>0</td>\n",
              "    </tr>\n",
              "    <tr>\n",
              "      <th>7164</th>\n",
              "      <td>10265</td>\n",
              "      <td>war%20zone</td>\n",
              "      <td>Host of #MindMoversPodcast</td>\n",
              "      <td>the war on drugs has turned the U.S. into a WA...</td>\n",
              "      <td>1</td>\n",
              "    </tr>\n",
              "    <tr>\n",
              "      <th>7037</th>\n",
              "      <td>10083</td>\n",
              "      <td>typhoon</td>\n",
              "      <td>NaN</td>\n",
              "      <td>Obama Declares Disaster for Typhoon-Devastated...</td>\n",
              "      <td>1</td>\n",
              "    </tr>\n",
              "  </tbody>\n",
              "</table>\n",
              "</div>"
            ],
            "text/plain": [
              "         id  ... target\n",
              "5151   7345  ...      0\n",
              "6351   9081  ...      0\n",
              "3443   4920  ...      0\n",
              "7164  10265  ...      1\n",
              "7037  10083  ...      1\n",
              "\n",
              "[5 rows x 5 columns]"
            ]
          },
          "metadata": {
            "tags": []
          },
          "execution_count": 206
        }
      ]
    },
    {
      "cell_type": "code",
      "metadata": {
        "id": "CNapkCTXsEl0",
        "colab_type": "code",
        "colab": {
          "base_uri": "https://localhost:8080/",
          "height": 119
        },
        "outputId": "0aec561f-b8be-4529-83a9-c4b9ba975b8c"
      },
      "source": [
        "# COUNTS OF NULL VALUES FOR VARIOUS VARIABLES\n",
        "\n",
        "train.isnull().sum()"
      ],
      "execution_count": 207,
      "outputs": [
        {
          "output_type": "execute_result",
          "data": {
            "text/plain": [
              "id             0\n",
              "keyword       47\n",
              "location    1886\n",
              "text           0\n",
              "target         0\n",
              "dtype: int64"
            ]
          },
          "metadata": {
            "tags": []
          },
          "execution_count": 207
        }
      ]
    },
    {
      "cell_type": "code",
      "metadata": {
        "id": "ICfjIVa_smQc",
        "colab_type": "code",
        "colab": {
          "base_uri": "https://localhost:8080/",
          "height": 374
        },
        "outputId": "9d1ccb55-213f-490f-8ac2-24549d740681"
      },
      "source": [
        "# SETTING THE NULL VALUES AS 'None'\n",
        "\n",
        "train = train.fillna('None')\n",
        "val = val.fillna('None')\n",
        "test = test.fillna('None')\n",
        "\n",
        "# RECHECKING NULL COUNT\n",
        "print(\"\\nTrain\",train.isnull().sum())\n",
        "print(\"\\nVal\",val.isnull().sum())\n",
        "print(\"\\nTest\",test.isnull().sum())"
      ],
      "execution_count": 208,
      "outputs": [
        {
          "output_type": "stream",
          "text": [
            "\n",
            "Train id          0\n",
            "keyword     0\n",
            "location    0\n",
            "text        0\n",
            "target      0\n",
            "dtype: int64\n",
            "\n",
            "Val id          0\n",
            "keyword     0\n",
            "location    0\n",
            "text        0\n",
            "target      0\n",
            "dtype: int64\n",
            "\n",
            "Test id          0\n",
            "keyword     0\n",
            "location    0\n",
            "text        0\n",
            "target      0\n",
            "dtype: int64\n"
          ],
          "name": "stdout"
        }
      ]
    },
    {
      "cell_type": "code",
      "metadata": {
        "id": "rTmnfosexgLH",
        "colab_type": "code",
        "colab": {
          "base_uri": "https://localhost:8080/",
          "height": 111
        },
        "outputId": "7c128eee-1cbb-4b77-9199-37f52d2d58dc"
      },
      "source": [
        "train.head(2)"
      ],
      "execution_count": 209,
      "outputs": [
        {
          "output_type": "execute_result",
          "data": {
            "text/html": [
              "<div>\n",
              "<style scoped>\n",
              "    .dataframe tbody tr th:only-of-type {\n",
              "        vertical-align: middle;\n",
              "    }\n",
              "\n",
              "    .dataframe tbody tr th {\n",
              "        vertical-align: top;\n",
              "    }\n",
              "\n",
              "    .dataframe thead th {\n",
              "        text-align: right;\n",
              "    }\n",
              "</style>\n",
              "<table border=\"1\" class=\"dataframe\">\n",
              "  <thead>\n",
              "    <tr style=\"text-align: right;\">\n",
              "      <th></th>\n",
              "      <th>id</th>\n",
              "      <th>keyword</th>\n",
              "      <th>location</th>\n",
              "      <th>text</th>\n",
              "      <th>target</th>\n",
              "    </tr>\n",
              "  </thead>\n",
              "  <tbody>\n",
              "    <tr>\n",
              "      <th>5151</th>\n",
              "      <td>7345</td>\n",
              "      <td>obliterate</td>\n",
              "      <td>Dover, DE</td>\n",
              "      <td>@dicehateme @PuppyShogun This makes sense. Pap...</td>\n",
              "      <td>0</td>\n",
              "    </tr>\n",
              "    <tr>\n",
              "      <th>6351</th>\n",
              "      <td>9081</td>\n",
              "      <td>structural%20failure</td>\n",
              "      <td>ÌÏT: 27.9136024,-81.6078532</td>\n",
              "      <td>'@CatoInstitute: The causes of federal failure...</td>\n",
              "      <td>0</td>\n",
              "    </tr>\n",
              "  </tbody>\n",
              "</table>\n",
              "</div>"
            ],
            "text/plain": [
              "        id  ... target\n",
              "5151  7345  ...      0\n",
              "6351  9081  ...      0\n",
              "\n",
              "[2 rows x 5 columns]"
            ]
          },
          "metadata": {
            "tags": []
          },
          "execution_count": 209
        }
      ]
    },
    {
      "cell_type": "markdown",
      "metadata": {
        "id": "Gud4_jEUxkGK",
        "colab_type": "text"
      },
      "source": [
        "The `id` variable isn't really needed so getting rid of it across all the datasets"
      ]
    },
    {
      "cell_type": "code",
      "metadata": {
        "id": "oBXdBpIPjVcw",
        "colab_type": "code",
        "colab": {}
      },
      "source": [
        "train = train.drop('id',1)\n",
        "val = val.drop('id',1)\n",
        "test = test.drop('id',1)"
      ],
      "execution_count": 0,
      "outputs": []
    },
    {
      "cell_type": "code",
      "metadata": {
        "id": "vW92vsSPjVmL",
        "colab_type": "code",
        "colab": {
          "base_uri": "https://localhost:8080/",
          "height": 204
        },
        "outputId": "48187669-38b1-4140-c8eb-5e1354ad3586"
      },
      "source": [
        "train.info()"
      ],
      "execution_count": 211,
      "outputs": [
        {
          "output_type": "stream",
          "text": [
            "<class 'pandas.core.frame.DataFrame'>\n",
            "Int64Index: 5709 entries, 5151 to 7270\n",
            "Data columns (total 4 columns):\n",
            " #   Column    Non-Null Count  Dtype \n",
            "---  ------    --------------  ----- \n",
            " 0   keyword   5709 non-null   object\n",
            " 1   location  5709 non-null   object\n",
            " 2   text      5709 non-null   object\n",
            " 3   target    5709 non-null   int64 \n",
            "dtypes: int64(1), object(3)\n",
            "memory usage: 223.0+ KB\n"
          ],
          "name": "stdout"
        }
      ]
    },
    {
      "cell_type": "code",
      "metadata": {
        "id": "H5lgUCIbm4Ly",
        "colab_type": "code",
        "colab": {
          "base_uri": "https://localhost:8080/",
          "height": 669
        },
        "outputId": "4fbb9106-7d49-4ef8-b0fa-31efca0e59ce"
      },
      "source": [
        "# WHICH ARE THE TOP KEYWORDS\n",
        "\n",
        "keyword_var = pd.DataFrame(train['keyword'].value_counts())\n",
        "\n",
        "keyword_var[1:21] # Excluding 'None' which is the top keyword\n",
        "\n"
      ],
      "execution_count": 212,
      "outputs": [
        {
          "output_type": "execute_result",
          "data": {
            "text/html": [
              "<div>\n",
              "<style scoped>\n",
              "    .dataframe tbody tr th:only-of-type {\n",
              "        vertical-align: middle;\n",
              "    }\n",
              "\n",
              "    .dataframe tbody tr th {\n",
              "        vertical-align: top;\n",
              "    }\n",
              "\n",
              "    .dataframe thead th {\n",
              "        text-align: right;\n",
              "    }\n",
              "</style>\n",
              "<table border=\"1\" class=\"dataframe\">\n",
              "  <thead>\n",
              "    <tr style=\"text-align: right;\">\n",
              "      <th></th>\n",
              "      <th>keyword</th>\n",
              "    </tr>\n",
              "  </thead>\n",
              "  <tbody>\n",
              "    <tr>\n",
              "      <th>siren</th>\n",
              "      <td>38</td>\n",
              "    </tr>\n",
              "    <tr>\n",
              "      <th>damage</th>\n",
              "      <td>36</td>\n",
              "    </tr>\n",
              "    <tr>\n",
              "      <th>fear</th>\n",
              "      <td>34</td>\n",
              "    </tr>\n",
              "    <tr>\n",
              "      <th>wreckage</th>\n",
              "      <td>34</td>\n",
              "    </tr>\n",
              "    <tr>\n",
              "      <th>fatalities</th>\n",
              "      <td>34</td>\n",
              "    </tr>\n",
              "    <tr>\n",
              "      <th>fatality</th>\n",
              "      <td>33</td>\n",
              "    </tr>\n",
              "    <tr>\n",
              "      <th>deluge</th>\n",
              "      <td>33</td>\n",
              "    </tr>\n",
              "    <tr>\n",
              "      <th>twister</th>\n",
              "      <td>33</td>\n",
              "    </tr>\n",
              "    <tr>\n",
              "      <th>harm</th>\n",
              "      <td>33</td>\n",
              "    </tr>\n",
              "    <tr>\n",
              "      <th>devastation</th>\n",
              "      <td>32</td>\n",
              "    </tr>\n",
              "    <tr>\n",
              "      <th>evacuate</th>\n",
              "      <td>32</td>\n",
              "    </tr>\n",
              "    <tr>\n",
              "      <th>nuclear%20reactor</th>\n",
              "      <td>32</td>\n",
              "    </tr>\n",
              "    <tr>\n",
              "      <th>blaze</th>\n",
              "      <td>32</td>\n",
              "    </tr>\n",
              "    <tr>\n",
              "      <th>refugees</th>\n",
              "      <td>31</td>\n",
              "    </tr>\n",
              "    <tr>\n",
              "      <th>tsunami</th>\n",
              "      <td>31</td>\n",
              "    </tr>\n",
              "    <tr>\n",
              "      <th>windstorm</th>\n",
              "      <td>31</td>\n",
              "    </tr>\n",
              "    <tr>\n",
              "      <th>rioting</th>\n",
              "      <td>31</td>\n",
              "    </tr>\n",
              "    <tr>\n",
              "      <th>explode</th>\n",
              "      <td>30</td>\n",
              "    </tr>\n",
              "    <tr>\n",
              "      <th>collision</th>\n",
              "      <td>30</td>\n",
              "    </tr>\n",
              "    <tr>\n",
              "      <th>whirlwind</th>\n",
              "      <td>30</td>\n",
              "    </tr>\n",
              "  </tbody>\n",
              "</table>\n",
              "</div>"
            ],
            "text/plain": [
              "                   keyword\n",
              "siren                   38\n",
              "damage                  36\n",
              "fear                    34\n",
              "wreckage                34\n",
              "fatalities              34\n",
              "fatality                33\n",
              "deluge                  33\n",
              "twister                 33\n",
              "harm                    33\n",
              "devastation             32\n",
              "evacuate                32\n",
              "nuclear%20reactor       32\n",
              "blaze                   32\n",
              "refugees                31\n",
              "tsunami                 31\n",
              "windstorm               31\n",
              "rioting                 31\n",
              "explode                 30\n",
              "collision               30\n",
              "whirlwind               30"
            ]
          },
          "metadata": {
            "tags": []
          },
          "execution_count": 212
        }
      ]
    },
    {
      "cell_type": "code",
      "metadata": {
        "id": "_lajBs-Znpoh",
        "colab_type": "code",
        "colab": {
          "base_uri": "https://localhost:8080/",
          "height": 638
        },
        "outputId": "e413db26-ac9d-4743-cd6a-36028c79e3a2"
      },
      "source": [
        "# WHICH ARE THE TOP LOCATIONS\n",
        "\n",
        "location_var = pd.DataFrame(train['location'].value_counts())\n",
        "\n",
        "location_var[1:20] # Excluding 'None' which is the top keyword\n"
      ],
      "execution_count": 213,
      "outputs": [
        {
          "output_type": "execute_result",
          "data": {
            "text/html": [
              "<div>\n",
              "<style scoped>\n",
              "    .dataframe tbody tr th:only-of-type {\n",
              "        vertical-align: middle;\n",
              "    }\n",
              "\n",
              "    .dataframe tbody tr th {\n",
              "        vertical-align: top;\n",
              "    }\n",
              "\n",
              "    .dataframe thead th {\n",
              "        text-align: right;\n",
              "    }\n",
              "</style>\n",
              "<table border=\"1\" class=\"dataframe\">\n",
              "  <thead>\n",
              "    <tr style=\"text-align: right;\">\n",
              "      <th></th>\n",
              "      <th>location</th>\n",
              "    </tr>\n",
              "  </thead>\n",
              "  <tbody>\n",
              "    <tr>\n",
              "      <th>USA</th>\n",
              "      <td>83</td>\n",
              "    </tr>\n",
              "    <tr>\n",
              "      <th>New York</th>\n",
              "      <td>49</td>\n",
              "    </tr>\n",
              "    <tr>\n",
              "      <th>United States</th>\n",
              "      <td>40</td>\n",
              "    </tr>\n",
              "    <tr>\n",
              "      <th>London</th>\n",
              "      <td>37</td>\n",
              "    </tr>\n",
              "    <tr>\n",
              "      <th>Canada</th>\n",
              "      <td>25</td>\n",
              "    </tr>\n",
              "    <tr>\n",
              "      <th>UK</th>\n",
              "      <td>21</td>\n",
              "    </tr>\n",
              "    <tr>\n",
              "      <th>Los Angeles, CA</th>\n",
              "      <td>19</td>\n",
              "    </tr>\n",
              "    <tr>\n",
              "      <th>Nigeria</th>\n",
              "      <td>18</td>\n",
              "    </tr>\n",
              "    <tr>\n",
              "      <th>Worldwide</th>\n",
              "      <td>18</td>\n",
              "    </tr>\n",
              "    <tr>\n",
              "      <th>India</th>\n",
              "      <td>17</td>\n",
              "    </tr>\n",
              "    <tr>\n",
              "      <th>Kenya</th>\n",
              "      <td>17</td>\n",
              "    </tr>\n",
              "    <tr>\n",
              "      <th>Mumbai</th>\n",
              "      <td>17</td>\n",
              "    </tr>\n",
              "    <tr>\n",
              "      <th>Washington, DC</th>\n",
              "      <td>14</td>\n",
              "    </tr>\n",
              "    <tr>\n",
              "      <th>California, USA</th>\n",
              "      <td>14</td>\n",
              "    </tr>\n",
              "    <tr>\n",
              "      <th>Everywhere</th>\n",
              "      <td>14</td>\n",
              "    </tr>\n",
              "    <tr>\n",
              "      <th>Australia</th>\n",
              "      <td>14</td>\n",
              "    </tr>\n",
              "    <tr>\n",
              "      <th>San Francisco</th>\n",
              "      <td>12</td>\n",
              "    </tr>\n",
              "    <tr>\n",
              "      <th>New York, NY</th>\n",
              "      <td>12</td>\n",
              "    </tr>\n",
              "    <tr>\n",
              "      <th>Indonesia</th>\n",
              "      <td>11</td>\n",
              "    </tr>\n",
              "  </tbody>\n",
              "</table>\n",
              "</div>"
            ],
            "text/plain": [
              "                 location\n",
              "USA                    83\n",
              "New York               49\n",
              "United States          40\n",
              "London                 37\n",
              "Canada                 25\n",
              "UK                     21\n",
              "Los Angeles, CA        19\n",
              "Nigeria                18\n",
              "Worldwide              18\n",
              "India                  17\n",
              "Kenya                  17\n",
              "Mumbai                 17\n",
              "Washington, DC         14\n",
              "California, USA        14\n",
              "Everywhere             14\n",
              "Australia              14\n",
              "San Francisco          12\n",
              "New York, NY           12\n",
              "Indonesia              11"
            ]
          },
          "metadata": {
            "tags": []
          },
          "execution_count": 213
        }
      ]
    },
    {
      "cell_type": "code",
      "metadata": {
        "id": "9IP4KD4muv3q",
        "colab_type": "code",
        "colab": {
          "base_uri": "https://localhost:8080/",
          "height": 105
        },
        "outputId": "405bd01c-e885-497f-b60b-1567eabfbf85"
      },
      "source": [
        "! pip install contractions\n",
        "import contractions"
      ],
      "execution_count": 214,
      "outputs": [
        {
          "output_type": "stream",
          "text": [
            "Requirement already satisfied: contractions in /usr/local/lib/python3.6/dist-packages (0.0.24)\n",
            "Requirement already satisfied: textsearch in /usr/local/lib/python3.6/dist-packages (from contractions) (0.0.17)\n",
            "Requirement already satisfied: Unidecode in /usr/local/lib/python3.6/dist-packages (from textsearch->contractions) (1.1.1)\n",
            "Requirement already satisfied: pyahocorasick in /usr/local/lib/python3.6/dist-packages (from textsearch->contractions) (1.4.0)\n"
          ],
          "name": "stdout"
        }
      ]
    },
    {
      "cell_type": "code",
      "metadata": {
        "id": "PaWJ8QdZs4p7",
        "colab_type": "code",
        "colab": {}
      },
      "source": [
        "# FUNCTION TO IMPLEMENT BASIC TEXT PREPROCESSING : LOWER-CASING & REMOVING NUMBERS/PUNCTUATION\n",
        "\n",
        "import re\n",
        "import string\n",
        "import contractions\n",
        "\n",
        "\n",
        "def basic_preprocessor(text):\n",
        "  \n",
        "  import re\n",
        "  import string\n",
        "  import contractions\n",
        "  \n",
        "\n",
        "  # EXPANDING OUT CONTRACTIONS\n",
        "  # e.g : don't -> do not\n",
        "  text = contractions.fix(text)\n",
        "\n",
        "  # TEXT TO LOWERCASE\n",
        "  text = text.lower()\n",
        "\n",
        "    \n",
        "  # The syntax of re.sub() is:: re.sub(pattern, replace, source_string)\n",
        "    \n",
        "  # CODE TO HANDLE POSSESSIVES ('s) \n",
        "  # e.g: movie's -> movie s\n",
        "  # THE HOPE IS THAT LSTMs SHOULD BE ABLE TO PROCESS \"s\" \n",
        "  text = re.sub(r\"(\\w+)'s\", r'\\1 s', text)\n",
        "  \n",
        "  # HANDLING OTHER PUNCTUATION\n",
        "  text = re.sub('\\[.*?\\]', '', text)\n",
        "  text = re.sub('https?://\\S+|www\\.\\S+', '', text)\n",
        "  text = re.sub('<.*?>+', '', text)\n",
        "  text = re.sub('[%s]' % re.escape(string.punctuation), '', text)\n",
        "  text = re.sub('\\n', '', text)\n",
        "  text = re.sub('\\w*\\d\\w*', '', text)\n",
        "    \n",
        "  return text"
      ],
      "execution_count": 0,
      "outputs": []
    },
    {
      "cell_type": "code",
      "metadata": {
        "id": "BW4D3weLtSU0",
        "colab_type": "code",
        "colab": {}
      },
      "source": [
        "# EXPERIMENTING\n",
        "sample = train.apply(lambda x: basic_preprocessor(x['text']),axis=1)\n"
      ],
      "execution_count": 0,
      "outputs": []
    },
    {
      "cell_type": "code",
      "metadata": {
        "id": "7mZtK7hRuXow",
        "colab_type": "code",
        "colab": {
          "base_uri": "https://localhost:8080/",
          "height": 547
        },
        "outputId": "1b16bc23-577b-4798-df10-0993de382970"
      },
      "source": [
        "for i in range(1,11):\n",
        "  print(\"\\n\", train['text'].iloc[i])\n",
        "  print( sample.iloc[i])"
      ],
      "execution_count": 217,
      "outputs": [
        {
          "output_type": "stream",
          "text": [
            "\n",
            " '@CatoInstitute: The causes of federal failure are deeply structural and they will not be easily solved: http://t.co/H2XcaX4jbU'\n",
            "catoinstitute the causes of federal failure are deeply structural and they will not be easily solved \n",
            "\n",
            " Well as I was chaning an iPad screen it fucking exploded and glass went all over the place. Looks like my job is going to need a new one.\n",
            "well as i was chaning an ipad screen it fucking exploded and glass went all over the place looks like my job is going to need a new one\n",
            "\n",
            " the war on drugs has turned the U.S. into a WAR zone.\n",
            "the war on drugs has turned the yous into a war zone\n",
            "\n",
            " Obama Declares Disaster for Typhoon-Devastated Saipan\n",
            "obama declares disaster for typhoondevastated saipan\n",
            "\n",
            " According to prophecy and also CNN a Mac tablet will completely obliterate the need for other gadgets. CombiningÛ_ http://t.co/xfccvMXuWb\n",
            "according to prophecy and also cnn a mac tablet will completely obliterate the need for other gadgets combiningû \n",
            "\n",
            " Has body bagged ** RT @d_lac: Drake is body bagging meek\n",
            "has body bagged  rt dlac drake is body bagging meek\n",
            "\n",
            " @ConnorFranta #AskConnor if you were a natural disaster what would you be?\n",
            "connorfranta askconnor if you were a natural disaster what would you be\n",
            "\n",
            " @soapscoop i need you to confirm that ross is dead cause i dont trust anyone else yh\n",
            "soapscoop i need you to confirm that ross is dead because i do not trust anyone else yh\n",
            "\n",
            " @libraryeliza he did get a @taylorswift13 'bump' of approval which is probably why he's blown up http://t.co/KOLMzBz1pZ #MusicAdvisory\n",
            "libraryeliza he did get a  bump of approval which is probably why he is blown up  musicadvisory\n",
            "\n",
            " Flood Prone Waterways In Westchester County Now Eligible For Millions In State Aid #NewYork - http://t.co/XSR2VUJyIz\n",
            "flood prone waterways in westchester county now eligible for millions in state aid newyork  \n"
          ],
          "name": "stdout"
        }
      ]
    },
    {
      "cell_type": "code",
      "metadata": {
        "id": "6eMdX_Xz67rq",
        "colab_type": "code",
        "colab": {}
      },
      "source": [
        "# PREPROCESSING THE TRAINING, VAL AND TEST SETS\n",
        "train['text'] = train.apply(lambda x: basic_preprocessor(x['text']),axis=1)\n",
        "\n",
        "val['text'] = val.apply(lambda x: basic_preprocessor(x['text']),axis=1)\n",
        "\n",
        "test['text'] = test.apply(lambda x: basic_preprocessor(x['text']),axis=1)\n",
        "\n"
      ],
      "execution_count": 0,
      "outputs": []
    },
    {
      "cell_type": "markdown",
      "metadata": {
        "id": "xyrC_m38B3xa",
        "colab_type": "text"
      },
      "source": [
        "Creating the initial model with just the text (contents of the tweet) variable."
      ]
    },
    {
      "cell_type": "code",
      "metadata": {
        "id": "L8vsY91mApWH",
        "colab_type": "code",
        "colab": {}
      },
      "source": [
        "X_train = train[['text']].copy()\n",
        "y_train = train[['target']].copy()\n",
        "\n",
        "X_val = val[['text']].copy()\n",
        "y_val = val[['target']].copy()\n",
        "\n",
        "X_test = test[['text']].copy()\n",
        "y_test = test[['target']].copy()\n",
        "\n"
      ],
      "execution_count": 0,
      "outputs": []
    },
    {
      "cell_type": "markdown",
      "metadata": {
        "id": "IlhS7tF7AphD",
        "colab_type": "text"
      },
      "source": [
        "## 2. Building and Understanding Vocabulary"
      ]
    },
    {
      "cell_type": "code",
      "metadata": {
        "id": "IeY3oJcWApr_",
        "colab_type": "code",
        "colab": {}
      },
      "source": [
        "# A FUNCTION THAT CONVERTS A LIST OF SENTENCES TO A VOCABULARY DICTIONARY\n",
        "\n",
        "from tqdm import tqdm \n",
        "\n",
        "\n",
        "def build_vocab(sentences):\n",
        "\n",
        "  \"\"\"\n",
        "  Purpose, Converts a list of sentences into a vocabulary dictionary\n",
        "  Input, a list of sentences\n",
        "  Prints, the size (length) of the vocabulary\n",
        "  Returns, a vocabulary dictionary {word: frequency}\n",
        "  \"\"\"\n",
        "\n",
        "  length = len(sentences)\n",
        "  vocab ={}\n",
        "\n",
        "  for s in tqdm(sentences):\n",
        "    temp_list = []\n",
        "    temp_list = s.split()\n",
        "\n",
        "    for word in temp_list:\n",
        "      if word not in vocab.keys():\n",
        "        vocab[word] = 1\n",
        "      else:\n",
        "        vocab[word] += 1\n",
        "\n",
        "  print(\"The size of the vocabulary is : \", len(vocab))\n",
        "\n",
        "  return vocab"
      ],
      "execution_count": 0,
      "outputs": []
    },
    {
      "cell_type": "code",
      "metadata": {
        "id": "AH34DtQWEGDT",
        "colab_type": "code",
        "colab": {
          "base_uri": "https://localhost:8080/",
          "height": 34
        },
        "outputId": "43f5b81c-36a5-4ad1-c512-7303cc5797d9"
      },
      "source": [
        "# CONVERTING THE TEXT FIELD INTO A LIST OF SENTENCES\n",
        "\n",
        "sentences = []\n",
        "m = len(X_train['text'])\n",
        "\n",
        "for i in range(m):\n",
        "  sentences.append(X_train['text'].iloc[i])\n",
        "\n",
        "print(\"Number of sentences : \", len(sentences))\n"
      ],
      "execution_count": 221,
      "outputs": [
        {
          "output_type": "stream",
          "text": [
            "Number of sentences :  5709\n"
          ],
          "name": "stdout"
        }
      ]
    },
    {
      "cell_type": "code",
      "metadata": {
        "id": "8wNhwfUST0A4",
        "colab_type": "code",
        "colab": {
          "base_uri": "https://localhost:8080/",
          "height": 51
        },
        "outputId": "c3cf530c-f155-4330-d24c-b9da7546e4ab"
      },
      "source": [
        "# IMPLEMENTING WORD FREQUENCY FUNCTION, STORING RESULTS IN master_vocab VARIABLE\n",
        "master_vocab = build_vocab(sentences)"
      ],
      "execution_count": 222,
      "outputs": [
        {
          "output_type": "stream",
          "text": [
            "100%|██████████| 5709/5709 [00:00<00:00, 162408.06it/s]"
          ],
          "name": "stderr"
        },
        {
          "output_type": "stream",
          "text": [
            "The size of the vocabulary is :  13932\n"
          ],
          "name": "stdout"
        },
        {
          "output_type": "stream",
          "text": [
            "\n"
          ],
          "name": "stderr"
        }
      ]
    },
    {
      "cell_type": "code",
      "metadata": {
        "id": "JrutlXP3EGNe",
        "colab_type": "code",
        "colab": {
          "base_uri": "https://localhost:8080/",
          "height": 88
        },
        "outputId": "81a8751a-3085-4833-8580-4bf5c564193b"
      },
      "source": [
        "# TOP 50 WORDS\n",
        "print(\"\\n\")\n",
        "print(sorted(master_vocab, key = lambda x: (-master_vocab[x], x))[0:50])\n"
      ],
      "execution_count": 223,
      "outputs": [
        {
          "output_type": "stream",
          "text": [
            "\n",
            "\n",
            "['the', 'a', 'to', 'in', 'of', 'i', 'and', 'is', 'you', 'for', 'on', 'not', 'it', 'my', 'that', 'with', 'are', 'at', 'by', 'have', 'this', 'from', 's', 'be', 'was', 'am', 'do', 'will', 'like', 'but', 'as', 'so', 'up', 'me', 'amp', 'we', 'just', 'your', 'out', 'no', 'can', 'after', 'has', 'all', 'when', 'an', 'fire', 'what', 'if', 'he']\n"
          ],
          "name": "stdout"
        }
      ]
    },
    {
      "cell_type": "code",
      "metadata": {
        "id": "OGT4JXMuEGXh",
        "colab_type": "code",
        "colab": {}
      },
      "source": [
        "# BLANK"
      ],
      "execution_count": 0,
      "outputs": []
    },
    {
      "cell_type": "markdown",
      "metadata": {
        "id": "WhKxAkbKEGao",
        "colab_type": "text"
      },
      "source": [
        "## Using Pre-Trained Embeddings to Determine Extent of Data Standardization"
      ]
    },
    {
      "cell_type": "code",
      "metadata": {
        "id": "QhRJ3xzyEGfS",
        "colab_type": "code",
        "colab": {
          "base_uri": "https://localhost:8080/",
          "height": 204
        },
        "outputId": "5bd066c3-e789-4062-c506-2f4de32e4245"
      },
      "source": [
        "# IMPORTING THE EMBEDDINGS\n",
        "# THANKS TO: LAURENCE MORONEY, AI ADVOCATE AT GOOGLE \n",
        "\n",
        "\n",
        "!wget --no-check-certificate \\\n",
        "    https://storage.googleapis.com/laurencemoroney-blog.appspot.com/glove.6B.100d.txt \\\n",
        "    -O /tmp/glove.6B.100d.txt\n",
        "\n",
        "embeddings_index = {};\n",
        "\n",
        "with open('/tmp/glove.6B.100d.txt') as f:\n",
        "    for line in f:\n",
        "        values = line.split();\n",
        "        word = values[0];\n",
        "        coefs = np.asarray(values[1:], dtype='float32');\n",
        "        embeddings_index[word] = coefs;"
      ],
      "execution_count": 225,
      "outputs": [
        {
          "output_type": "stream",
          "text": [
            "--2020-04-28 09:00:15--  https://storage.googleapis.com/laurencemoroney-blog.appspot.com/glove.6B.100d.txt\n",
            "Resolving storage.googleapis.com (storage.googleapis.com)... 172.217.218.128, 2a00:1450:4013:c00::80\n",
            "Connecting to storage.googleapis.com (storage.googleapis.com)|172.217.218.128|:443... connected.\n",
            "HTTP request sent, awaiting response... 200 OK\n",
            "Length: 347116733 (331M) [text/plain]\n",
            "Saving to: ‘/tmp/glove.6B.100d.txt’\n",
            "\n",
            "/tmp/glove.6B.100d. 100%[===================>] 331.04M  77.1MB/s    in 4.3s    \n",
            "\n",
            "2020-04-28 09:00:19 (77.1 MB/s) - ‘/tmp/glove.6B.100d.txt’ saved [347116733/347116733]\n",
            "\n"
          ],
          "name": "stdout"
        }
      ]
    },
    {
      "cell_type": "code",
      "metadata": {
        "id": "Q1nngpo7EGiV",
        "colab_type": "code",
        "colab": {
          "base_uri": "https://localhost:8080/",
          "height": 51
        },
        "outputId": "a5f8bafa-3388-4aa6-916d-551317ad3651"
      },
      "source": [
        "# PRINT OUT THE LENGTH OF THE DICTIONARY\n",
        "\n",
        "print(\"Glove vocabulary size: \",len(embeddings_index))\n",
        "print(\"Glove embedding dimensions: \",len(embeddings_index['the']))"
      ],
      "execution_count": 226,
      "outputs": [
        {
          "output_type": "stream",
          "text": [
            "Glove vocabulary size:  400000\n",
            "Glove embedding dimensions:  100\n"
          ],
          "name": "stdout"
        }
      ]
    },
    {
      "cell_type": "code",
      "metadata": {
        "id": "aTWgMnYRFkJI",
        "colab_type": "code",
        "colab": {}
      },
      "source": [
        "# WRITING A FUNCTION TO DETERMINE THE OVERLAP BETWEEN THE 2 DICTIONARIES\n",
        "\n",
        "from tqdm import tqdm\n",
        "import operator\n",
        "\n",
        "def check_overlap(vocab,embeddings):\n",
        "\n",
        "  \"\"\"\n",
        "  Purpose, to determine the overlap between the corpus and the embeddings disctionary\n",
        "  Inputs, 2 dictionaries, one for the vocabulary and the other for the corpus\n",
        "  Prints, a set of useful information on the overlap\n",
        "  Returns, a sorted version dictionary with out_of_vocabulary words and their frequency\n",
        "\n",
        "  \"\"\"\n",
        "  \n",
        "  not_in_glove = {}\n",
        "  total_corpus_words = 0\n",
        "  total_oov_words = 0\n",
        "\n",
        "  for i in tqdm(vocab.keys()):\n",
        "    total_corpus_words += vocab[i] \n",
        "\n",
        "    if i not in embeddings.keys():\n",
        "      not_in_glove[i] = vocab[i]\n",
        "      total_oov_words += vocab[i]\n",
        "\n",
        "  x = len(not_in_glove)\n",
        "  y = len(vocab)\n",
        "  z = len(embeddings)\n",
        "\n",
        "  print(\"\\n\\nVOCABULARY INSIGHTS:\")\n",
        "  print(\"The vocabulary size is (unique word-count) : \",y)\n",
        "  print(f\"Embeddings found for {y-x} ({round((y-x)*100/y,2)})% of the words\")\n",
        "  \n",
        "  print(\"\\nCORPUS INSIGHTS:\")\n",
        "  print(\"The corpus size is (total, non-unique word-count) : \",total_corpus_words)\n",
        "  print(f\"{total_oov_words} word(s), representing, {round(total_oov_words*100/total_corpus_words,2)}% of the corpus vocabulary is unmapped\")\n",
        "\n",
        "  print(\"\\n Top 20 words by frequency that are not present in embeddings dictionary :\")\n",
        "  p = min(len(not_in_glove), 20)\n",
        "  print(sorted(not_in_glove, key = lambda x: (-not_in_glove[x], x))[0:p])\n",
        "\n",
        "  not_in_glove_sorted = sorted(not_in_glove.items(), key=operator.itemgetter(1))[::-1]\n",
        "  \n",
        "\n",
        "  return not_in_glove_sorted\n",
        "\n",
        "\n"
      ],
      "execution_count": 0,
      "outputs": []
    },
    {
      "cell_type": "code",
      "metadata": {
        "id": "K-BGoqC0Fnw9",
        "colab_type": "code",
        "colab": {
          "base_uri": "https://localhost:8080/",
          "height": 258
        },
        "outputId": "e91f8709-8422-4d55-ec0a-5c6f7bcba8ab"
      },
      "source": [
        "# IMPLEMENTING THE FUCNTION\n",
        "\n",
        "oov = check_overlap(master_vocab,embeddings_index)"
      ],
      "execution_count": 228,
      "outputs": [
        {
          "output_type": "stream",
          "text": [
            "100%|██████████| 13932/13932 [00:00<00:00, 857019.88it/s]"
          ],
          "name": "stderr"
        },
        {
          "output_type": "stream",
          "text": [
            "\n",
            "\n",
            "VOCABULARY INSIGHTS:\n",
            "The vocabulary size is (unique word-count) :  13932\n",
            "Embeddings found for 10137 (72.76)% of the words\n",
            "\n",
            "CORPUS INSIGHTS:\n",
            "The corpus size is (total, non-unique word-count) :  78758\n",
            "4719 word(s), representing, 5.99% of the corpus vocabulary is unmapped\n",
            "\n",
            " Top 20 words by frequency that are not present in embeddings dictionary :\n",
            "['\\x89û', '\\x89ûò', 'prebreak', 're\\x89û', 'nowplaying', 'typhoondevastated', '\\x89ûó', 'gbbo', 'bestnaijamade', 'disea', 'funtenna', 'lmao', 'subreddits', 'gtgt', '\\x89ûïwhen', 'selfimage', 'yyc', 'abstorm', 'rea\\x89û', 'sensorsenso']\n"
          ],
          "name": "stdout"
        },
        {
          "output_type": "stream",
          "text": [
            "\n"
          ],
          "name": "stderr"
        }
      ]
    },
    {
      "cell_type": "markdown",
      "metadata": {
        "id": "ALs41niIFtAv",
        "colab_type": "text"
      },
      "source": [
        "It is quite-promising that 73% of words have corresponding entries in the embedding file.\n",
        "\n",
        "Exploring the Top-50 OOV words"
      ]
    },
    {
      "cell_type": "code",
      "metadata": {
        "id": "B1r6sHOkFwuX",
        "colab_type": "code",
        "colab": {
          "base_uri": "https://localhost:8080/",
          "height": 867
        },
        "outputId": "4dbbcea1-24cd-4436-cc27-519f8ee7c51e"
      },
      "source": [
        "oov[0:50]"
      ],
      "execution_count": 229,
      "outputs": [
        {
          "output_type": "execute_result",
          "data": {
            "text/plain": [
              "[('\\x89û', 42),\n",
              " ('\\x89ûò', 26),\n",
              " ('prebreak', 24),\n",
              " ('re\\x89û', 22),\n",
              " ('nowplaying', 21),\n",
              " ('typhoondevastated', 20),\n",
              " ('\\x89ûó', 19),\n",
              " ('gbbo', 17),\n",
              " ('bestnaijamade', 16),\n",
              " ('disea', 13),\n",
              " ('lmao', 13),\n",
              " ('funtenna', 13),\n",
              " ('subreddits', 13),\n",
              " ('gtgt', 11),\n",
              " ('\\x89ûïwhen', 10),\n",
              " ('yyc', 9),\n",
              " ('selfimage', 9),\n",
              " ('rea\\x89û', 8),\n",
              " ('worldnews', 8),\n",
              " ('abstorm', 8),\n",
              " ('sensorsenso', 8),\n",
              " ('sismo', 7),\n",
              " ('arianagrande', 7),\n",
              " ('mediterran', 7),\n",
              " ('spos', 7),\n",
              " ('rì©union', 7),\n",
              " ('justinbieber', 6),\n",
              " ('freakiest', 6),\n",
              " ('ices\\x89û', 6),\n",
              " ('trapmusic', 6),\n",
              " ('djicemoon', 6),\n",
              " ('icemoon', 6),\n",
              " ('animalrescue', 6),\n",
              " ('don\\x89ûªt', 6),\n",
              " ('truthnewsbbccnnislamtruthgodisisterrorismquranlies', 6),\n",
              " ('i\\x89ûªm', 5),\n",
              " ('dorret', 5),\n",
              " ('tcot', 5),\n",
              " ('å£', 5),\n",
              " ('prophetmuhammad', 5),\n",
              " ('chicagoarea', 5),\n",
              " ('directioners', 5),\n",
              " ('mtvhottest', 5),\n",
              " ('wheavenly', 5),\n",
              " ('nasahurricane', 5),\n",
              " ('viralspell', 5),\n",
              " ('by\\x89û', 5),\n",
              " ('usagov', 5),\n",
              " ('strategicpatience', 5),\n",
              " ('can\\x89ûªt', 5)]"
            ]
          },
          "metadata": {
            "tags": []
          },
          "execution_count": 229
        }
      ]
    },
    {
      "cell_type": "code",
      "metadata": {
        "id": "L0smMGPaFw2o",
        "colab_type": "code",
        "colab": {}
      },
      "source": [
        "# DEFINE A MIS-SPELLING DICTIONARY\n",
        "\n",
        "mispell_dict = {\n",
        "  'prebreak': 'pre break',\n",
        "  'nowplaying': 'now playing',\n",
        "  'typhoondevastated': 'typhoon devastated',\n",
        "  'lmao': 'funny'\n",
        "}\n"
      ],
      "execution_count": 0,
      "outputs": []
    },
    {
      "cell_type": "code",
      "metadata": {
        "id": "uVJjDWp6Fw9z",
        "colab_type": "code",
        "colab": {}
      },
      "source": [
        "# WRITING A FUNCTION TO CLEAN THE ABOVE INCONSISTENCIES\n",
        "# AUTHOR: CRISTOF HENKEL, https://www.kaggle.com/christofhenkel/how-to-preprocessing-when-using-embeddings\n",
        "\n",
        "\n",
        "import re\n",
        "\n",
        "def _get_mispell(mispell_dict):\n",
        "    mispell_re = re.compile('(%s)' % '|'.join(mispell_dict.keys()))\n",
        "    return mispell_dict, mispell_re\n",
        "\n",
        "\n",
        "mispellings, mispellings_re = _get_mispell(mispell_dict)\n",
        "\n",
        "\n",
        "\n",
        "def replace_typical_misspell(text):\n",
        "    def replace(match):\n",
        "        return mispellings[match.group(0)]\n",
        "\n",
        "    return mispellings_re.sub(replace, text)"
      ],
      "execution_count": 0,
      "outputs": []
    },
    {
      "cell_type": "code",
      "metadata": {
        "id": "MlfF3C4DJbqC",
        "colab_type": "code",
        "colab": {}
      },
      "source": [
        "# IMPLEMENTING THE FUNCTION FOR TRAINING AND TEST SETS\n",
        "\n",
        "X_train[\"text\"] = X_train[\"text\"].apply(lambda x: replace_typical_misspell(x))\n",
        "X_val[\"text\"] = X_val[\"text\"].apply(lambda x: replace_typical_misspell(x))\n",
        "X_test[\"text\"] = X_test[\"text\"].apply(lambda x: replace_typical_misspell(x))\n"
      ],
      "execution_count": 0,
      "outputs": []
    },
    {
      "cell_type": "code",
      "metadata": {
        "id": "YFppfiTbKDRj",
        "colab_type": "code",
        "colab": {}
      },
      "source": [
        "# BLANK"
      ],
      "execution_count": 0,
      "outputs": []
    },
    {
      "cell_type": "markdown",
      "metadata": {
        "id": "c3_EF5fZKM3F",
        "colab_type": "text"
      },
      "source": [
        "## Tokenizing Text\n"
      ]
    },
    {
      "cell_type": "code",
      "metadata": {
        "id": "VWGot68_KQG8",
        "colab_type": "code",
        "colab": {}
      },
      "source": [
        "# SPECIFYING HYPERPARAMETERS\n",
        "\n",
        "vocab_size = 7000\n",
        "embedding_dim = 20\n",
        "max_length = 15  \n",
        "trunc_type = 'post'\n",
        "oov_tok = \"<OOV>\""
      ],
      "execution_count": 0,
      "outputs": []
    },
    {
      "cell_type": "code",
      "metadata": {
        "id": "hNFGvXjMKQLI",
        "colab_type": "code",
        "colab": {}
      },
      "source": [
        "# IMPORTING LIBRARIES AND SETTING-UP TOKENIZER\n",
        "\n",
        "from keras.preprocessing.text import Tokenizer\n",
        "from keras.preprocessing.sequence import pad_sequences"
      ],
      "execution_count": 0,
      "outputs": []
    },
    {
      "cell_type": "code",
      "metadata": {
        "id": "XPMNac-QKQPo",
        "colab_type": "code",
        "colab": {}
      },
      "source": [
        "# IMPLEMENTING TOKENIZER\n",
        "\n",
        "tokenizer = Tokenizer(num_words = vocab_size, oov_token = oov_tok)\n",
        "\n",
        "tokenizer.fit_on_texts(X_train['text'])"
      ],
      "execution_count": 0,
      "outputs": []
    },
    {
      "cell_type": "code",
      "metadata": {
        "id": "DdNwPYXtKQTF",
        "colab_type": "code",
        "colab": {
          "base_uri": "https://localhost:8080/",
          "height": 51
        },
        "outputId": "a474daa5-2640-4838-d419-6b68160956be"
      },
      "source": [
        "# PADDING SEQUENCES - TRAINING SET\n",
        "\n",
        "X_train_seq = tokenizer.texts_to_sequences(X_train['text'])\n",
        "\n",
        "print(\"length of the first training sequence: \",len(X_train_seq[0])) \n",
        "      \n",
        "X_train_pad = pad_sequences(X_train_seq,maxlen = max_length, padding = 'post', truncating = trunc_type)\n",
        "\n",
        "print(\"length of the first training sequence (PADDED): \",len(X_train_pad[0])) "
      ],
      "execution_count": 237,
      "outputs": [
        {
          "output_type": "stream",
          "text": [
            "length of the first training sequence:  22\n",
            "length of the first training sequence (PADDED):  15\n"
          ],
          "name": "stdout"
        }
      ]
    },
    {
      "cell_type": "code",
      "metadata": {
        "id": "U14-I6AkKQXY",
        "colab_type": "code",
        "colab": {
          "base_uri": "https://localhost:8080/",
          "height": 51
        },
        "outputId": "4651449d-7523-4b4a-be21-2c88b231defb"
      },
      "source": [
        "# TOKENIZATION AND PADDING ON VALIDATION DATA\n",
        "\n",
        "X_val_seq = tokenizer.texts_to_sequences(X_val['text'])\n",
        "\n",
        "print(\"length of the first test sequence: \",len(X_val_seq[0])) \n",
        "      \n",
        "X_val_pad = pad_sequences(X_val_seq, padding = 'post',maxlen = max_length, truncating = trunc_type)\n",
        "\n",
        "print(\"length of the first training sequence (PADDED): \",len(X_val_pad[0])) \n"
      ],
      "execution_count": 238,
      "outputs": [
        {
          "output_type": "stream",
          "text": [
            "length of the first test sequence:  17\n",
            "length of the first training sequence (PADDED):  15\n"
          ],
          "name": "stdout"
        }
      ]
    },
    {
      "cell_type": "code",
      "metadata": {
        "id": "PmoHtuHYWzpt",
        "colab_type": "code",
        "colab": {
          "base_uri": "https://localhost:8080/",
          "height": 51
        },
        "outputId": "96d2c5c0-601e-457b-8f1a-9eef8df1b09f"
      },
      "source": [
        "# TOKENIZATION AND PADDING ON TEST DATA\n",
        "\n",
        "X_test_seq = tokenizer.texts_to_sequences(X_test['text'])\n",
        "\n",
        "print(\"length of the first test sequence: \",len(X_test_seq[0])) \n",
        "      \n",
        "X_test_pad = pad_sequences(X_test_seq, maxlen = max_length,padding = 'post', truncating = trunc_type)\n",
        "\n",
        "print(\"length of the first training sequence (PADDED): \",len(X_test_pad[0])) \n"
      ],
      "execution_count": 239,
      "outputs": [
        {
          "output_type": "stream",
          "text": [
            "length of the first test sequence:  21\n",
            "length of the first training sequence (PADDED):  15\n"
          ],
          "name": "stdout"
        }
      ]
    },
    {
      "cell_type": "code",
      "metadata": {
        "id": "DKykiYTfWzvf",
        "colab_type": "code",
        "colab": {
          "base_uri": "https://localhost:8080/",
          "height": 85
        },
        "outputId": "21304800-76ff-4b43-b72f-98ab8febc8a4"
      },
      "source": [
        "print(type(X_train_pad))\n",
        "print(X_train_pad.shape)\n",
        "print(X_val_pad.shape)\n",
        "print(X_test_pad.shape)"
      ],
      "execution_count": 240,
      "outputs": [
        {
          "output_type": "stream",
          "text": [
            "<class 'numpy.ndarray'>\n",
            "(5709, 15)\n",
            "(952, 15)\n",
            "(952, 15)\n"
          ],
          "name": "stdout"
        }
      ]
    },
    {
      "cell_type": "code",
      "metadata": {
        "id": "yjcaQUomWz6W",
        "colab_type": "code",
        "colab": {
          "base_uri": "https://localhost:8080/",
          "height": 119
        },
        "outputId": "5278d730-bd39-42b0-f74c-793a23aa8749"
      },
      "source": [
        "X_train_pad[0:3]"
      ],
      "execution_count": 241,
      "outputs": [
        {
          "output_type": "execute_result",
          "data": {
            "text/plain": [
              "array([[5188, 5189,   22,  746, 1095, 2140, 2632, 1011, 2140, 1096,   23,\n",
              "        2633,   33, 2633,  140],\n",
              "       [5190,    2,  943,    6, 5191,  318,   18, 5192,  442,    8,   53,\n",
              "          28,   13,   25, 2141],\n",
              "       [ 232,   32,    7,   26, 5194,   48, 3448, 1441,   14,  244,  443,\n",
              "           8, 1097,  417,   45]], dtype=int32)"
            ]
          },
          "metadata": {
            "tags": []
          },
          "execution_count": 241
        }
      ]
    },
    {
      "cell_type": "markdown",
      "metadata": {
        "id": "By2gGp_IW0Ns",
        "colab_type": "text"
      },
      "source": [
        "## LSTM BASED MODEL"
      ]
    },
    {
      "cell_type": "code",
      "metadata": {
        "id": "M9i4KvMSY2Ks",
        "colab_type": "code",
        "colab": {
          "base_uri": "https://localhost:8080/",
          "height": 493
        },
        "outputId": "d2643be0-fbb2-493d-f945-06dd1a41721e"
      },
      "source": [
        "# CLEAR BACKEND DATA\n",
        "\n",
        "keras.backend.clear_session()\n",
        "np.random.seed(42)\n",
        "tf.random.set_seed(42)\n",
        "\n",
        "\n",
        "# CREATE AN LSTM BASED NEURAL NETWORK IN KERAS\n",
        "\n",
        "\n",
        "sentence_length = max_length  # LENGTH OF EACH PADDED SENTENCE = 18\n",
        "\n",
        "\n",
        "lstm_model = keras.models.Sequential([\n",
        "                                          \n",
        "                  keras.layers.Embedding(input_dim = vocab_size + 1,\n",
        "                                         output_dim = embedding_dim,\n",
        "                                         input_length = sentence_length),\n",
        "                          \n",
        "                  \n",
        "                  keras.layers.Bidirectional(keras.layers.LSTM(64, return_sequences = True, dropout = 0.2, recurrent_dropout= 0.2)),\n",
        "                  keras.layers.Bidirectional(keras.layers.LSTM(32)),\n",
        "\n",
        "\n",
        "                  keras.layers.Dense(64, activation = \"relu\"),\n",
        "                  keras.layers.Dropout(rate = 0.2),\n",
        "                  keras.layers.BatchNormalization(),\n",
        "\n",
        "                  keras.layers.Dense(32, activation = \"relu\"),\n",
        "                  keras.layers.Dropout(rate = 0.2),\n",
        "                  keras.layers.BatchNormalization(),\n",
        "\n",
        "                  keras.layers.Dense(1, activation = \"sigmoid\")\n",
        "                  \n",
        "])\n",
        "\n",
        "\n",
        "\n",
        "# VIEW MODEL ARCHITECTURE\n",
        "lstm_model.summary()\n"
      ],
      "execution_count": 242,
      "outputs": [
        {
          "output_type": "stream",
          "text": [
            "Model: \"sequential\"\n",
            "_________________________________________________________________\n",
            "Layer (type)                 Output Shape              Param #   \n",
            "=================================================================\n",
            "embedding (Embedding)        (None, 15, 20)            140020    \n",
            "_________________________________________________________________\n",
            "bidirectional (Bidirectional (None, 15, 128)           43520     \n",
            "_________________________________________________________________\n",
            "bidirectional_1 (Bidirection (None, 64)                41216     \n",
            "_________________________________________________________________\n",
            "dense (Dense)                (None, 64)                4160      \n",
            "_________________________________________________________________\n",
            "dropout (Dropout)            (None, 64)                0         \n",
            "_________________________________________________________________\n",
            "batch_normalization (BatchNo (None, 64)                256       \n",
            "_________________________________________________________________\n",
            "dense_1 (Dense)              (None, 32)                2080      \n",
            "_________________________________________________________________\n",
            "dropout_1 (Dropout)          (None, 32)                0         \n",
            "_________________________________________________________________\n",
            "batch_normalization_1 (Batch (None, 32)                128       \n",
            "_________________________________________________________________\n",
            "dense_2 (Dense)              (None, 1)                 33        \n",
            "=================================================================\n",
            "Total params: 231,413\n",
            "Trainable params: 231,221\n",
            "Non-trainable params: 192\n",
            "_________________________________________________________________\n"
          ],
          "name": "stdout"
        }
      ]
    },
    {
      "cell_type": "code",
      "metadata": {
        "id": "8mOfhKGGY2Pd",
        "colab_type": "code",
        "colab": {
          "base_uri": "https://localhost:8080/",
          "height": 275
        },
        "outputId": "2f27eb12-3cf8-46c6-83ab-320c1b15e466"
      },
      "source": [
        "# IMPLEMENT CALLBACKS\n",
        "\n",
        "checkpoint_cb = keras.callbacks.ModelCheckpoint(\"twtr_lstm_best.h5\",save_best_only = True)\n",
        "\n",
        "early_stopping_cb = keras.callbacks.EarlyStopping(patience = 4, restore_best_weights = True)\n",
        "\n",
        "\n",
        "\n",
        "\n",
        "# COMPILE AND FIT MODEL\n",
        "\n",
        "lstm_model.compile(optimizer = \"adam\", loss = \"binary_crossentropy\", metrics = ['accuracy'])\n",
        "\n",
        "history_1 = lstm_model.fit(X_train_pad,y_train, epochs = 20,\n",
        "                            validation_data = (X_val_pad, y_val),\n",
        "                            callbacks = [checkpoint_cb, early_stopping_cb]\n",
        "                            \n",
        "                            )"
      ],
      "execution_count": 243,
      "outputs": [
        {
          "output_type": "stream",
          "text": [
            "Epoch 1/20\n",
            "179/179 [==============================] - 11s 64ms/step - loss: 0.7092 - accuracy: 0.5991 - val_loss: 0.6639 - val_accuracy: 0.6376\n",
            "Epoch 2/20\n",
            "179/179 [==============================] - 10s 57ms/step - loss: 0.4571 - accuracy: 0.8000 - val_loss: 0.5351 - val_accuracy: 0.7836\n",
            "Epoch 3/20\n",
            "179/179 [==============================] - 10s 57ms/step - loss: 0.3507 - accuracy: 0.8550 - val_loss: 0.4650 - val_accuracy: 0.7910\n",
            "Epoch 4/20\n",
            "179/179 [==============================] - 10s 56ms/step - loss: 0.2795 - accuracy: 0.8926 - val_loss: 0.5440 - val_accuracy: 0.7658\n",
            "Epoch 5/20\n",
            "179/179 [==============================] - 10s 58ms/step - loss: 0.2468 - accuracy: 0.9066 - val_loss: 0.6629 - val_accuracy: 0.7111\n",
            "Epoch 6/20\n",
            "179/179 [==============================] - 10s 57ms/step - loss: 0.1958 - accuracy: 0.9301 - val_loss: 0.5967 - val_accuracy: 0.7647\n",
            "Epoch 7/20\n",
            "179/179 [==============================] - 10s 58ms/step - loss: 0.1787 - accuracy: 0.9333 - val_loss: 0.6316 - val_accuracy: 0.7763\n"
          ],
          "name": "stdout"
        }
      ]
    },
    {
      "cell_type": "code",
      "metadata": {
        "id": "9QT_CSe9bYC8",
        "colab_type": "code",
        "colab": {
          "base_uri": "https://localhost:8080/",
          "height": 367
        },
        "outputId": "1282c82e-5f0b-4e89-81b7-909acefd0e2b"
      },
      "source": [
        "history = history_1\n",
        "\n",
        "\n",
        "# BETTER LOOKING PLOTS FOR ACCURACY AND LOSS\n",
        "\n",
        "import matplotlib.pyplot as plt\n",
        "\n",
        "fig,axes = plt.subplots(nrows = 1, ncols = 2, figsize = (12,5))\n",
        "\n",
        "axes[0].plot(history.history['accuracy'])\n",
        "axes[0].plot(history.history['val_accuracy'])\n",
        "axes[0].set_ylim([0.5,1])\n",
        "axes[0].set_title('Model Accuracy')\n",
        "axes[0].set_ylabel('Accuracy')\n",
        "axes[0].set_xlabel('Epoch')\n",
        "axes[0].legend(['Training', 'Validation'], loc='lower right')\n",
        "\n",
        "axes[1].plot(history.history['loss'])\n",
        "axes[1].plot(history.history['val_loss'])\n",
        "axes[1].set_title('Model Loss')\n",
        "axes[1].set_ylabel('Loss')\n",
        "axes[1].set_xlabel('Epoch')\n",
        "axes[1].legend(['Training', 'Validation'], loc='upper left')"
      ],
      "execution_count": 244,
      "outputs": [
        {
          "output_type": "execute_result",
          "data": {
            "text/plain": [
              "<matplotlib.legend.Legend at 0x7fdc60eb7e10>"
            ]
          },
          "metadata": {
            "tags": []
          },
          "execution_count": 244
        },
        {
          "output_type": "display_data",
          "data": {
            "image/png": "[encoded data removed]",
            "text/plain": [
              "<Figure size 864x360 with 2 Axes>"
            ]
          },
          "metadata": {
            "tags": [],
            "needs_background": "light"
          }
        }
      ]
    },
    {
      "cell_type": "code",
      "metadata": {
        "id": "nyqO2yVuY2Ur",
        "colab_type": "code",
        "colab": {
          "base_uri": "https://localhost:8080/",
          "height": 51
        },
        "outputId": "e16aa8c8-668d-4dfb-f70b-fde46abcba6f"
      },
      "source": [
        "# LOAD THE BEST PERFORMING MODEL (SO FAR.)\n",
        "best_model = keras.models.load_model('twtr_lstm_best.h5')\n",
        "\n",
        "best_model.evaluate(X_test_pad, y_test)"
      ],
      "execution_count": 245,
      "outputs": [
        {
          "output_type": "stream",
          "text": [
            "30/30 [==============================] - 0s 8ms/step - loss: 0.4416 - accuracy: 0.8078\n"
          ],
          "name": "stdout"
        },
        {
          "output_type": "execute_result",
          "data": {
            "text/plain": [
              "[0.44161155819892883, 0.8077731132507324]"
            ]
          },
          "metadata": {
            "tags": []
          },
          "execution_count": 245
        }
      ]
    },
    {
      "cell_type": "code",
      "metadata": {
        "id": "nPrkj5bGY2aA",
        "colab_type": "code",
        "colab": {}
      },
      "source": [
        "# BLANK"
      ],
      "execution_count": 0,
      "outputs": []
    },
    {
      "cell_type": "markdown",
      "metadata": {
        "id": "r26XjqzMY2dj",
        "colab_type": "text"
      },
      "source": [
        "## LSTM MODEL WITH PRE-TRAINED EMBEDDINGS"
      ]
    },
    {
      "cell_type": "code",
      "metadata": {
        "id": "bAPbZut0Y2hO",
        "colab_type": "code",
        "colab": {}
      },
      "source": [
        "# A FUNCTION TO GENERATE EMBEDDINGS_MATRIX\n",
        "\n",
        "\n",
        "def gen_embeddings_matrix(max_features, word_index,embeddings_index):\n",
        "\n",
        "  \"\"\"\n",
        "  Purpose, to generate embedding_matrix\n",
        "  Inputs, no of features, word_index and embeddings_index\n",
        "  Returns, embedding_matrix of size (max_features * embedding_dims)\n",
        "\n",
        "  \"\"\"\n",
        "\n",
        "  # CONVERTING THE EMBEDDINGS DIMENSIONS TO NUMPY (100 d)\n",
        "  all_emb_dims = np.stack(embeddings_index.values())\n",
        "\n",
        "  # CALCULATING MEAN AND SD FOR THE DIMENSIONS\n",
        "  emb_mean = all_emb_dims.mean()\n",
        "  emb_std = all_emb_dims.std()\n",
        "\n",
        "  # NO OF EMBEDDING DIMENSIONS\n",
        "  embed_size = all_emb_dims.shape[1]\n",
        "\n",
        "  # EFFECTIVE VOCAB SIZE\n",
        "  no_words = min(max_features, len(word_index)) # no of words\n",
        "\n",
        "  # CREATING AN EMBEDDINGS MATRIX\n",
        "  # INITIALIZING IT WITH MEAN AND SD VALUES (EMBEDDINGS INDEX)\n",
        "  np.random.seed(42)\n",
        "  embedding_matrix = np.random.normal(emb_mean, emb_std, (no_words, embed_size))\n",
        "\n",
        "  # LOGIC TO CHECK AND POPULATE EMBEDDING MATRIX\n",
        "\n",
        "  for word in word_index.keys():\n",
        "    \n",
        "    # IGNORE IF WORD IS \"BEYOND\" THE FREQ RANGE\n",
        "    if word_index[word] >= max_features: \n",
        "      continue\n",
        "\n",
        "    # CHECK IF WORD IS IN THE EMBEDDINGS_INDEX OR IS AN OOV WORD\n",
        "    if word in embeddings_index.keys(): \n",
        "      embedding_vector = embeddings_index[word]\n",
        "      embedding_matrix[word_index[word]] = embedding_vector\n",
        "\n",
        "  return embedding_matrix\n"
      ],
      "execution_count": 0,
      "outputs": []
    },
    {
      "cell_type": "code",
      "metadata": {
        "id": "qt3i1x6ApTnz",
        "colab_type": "code",
        "colab": {
          "base_uri": "https://localhost:8080/",
          "height": 71
        },
        "outputId": "6ada7fac-5df5-4b15-db1f-cf36d55678c2"
      },
      "source": [
        "# IMPLEMENTING THE FUNCTION TO GENERATE EMBEDDINGS MATRIX\n",
        "\n",
        "max_features = vocab_size\n",
        "word_index = tokenizer.word_index\n",
        "\n",
        "embedding_matrix = gen_embeddings_matrix(max_features, word_index,embeddings_index)"
      ],
      "execution_count": 248,
      "outputs": [
        {
          "output_type": "stream",
          "text": [
            "/usr/local/lib/python3.6/dist-packages/IPython/core/interactiveshell.py:2882: FutureWarning: arrays to stack must be passed as a \"sequence\" type such as list or tuple. Support for non-sequence iterables such as generators is deprecated as of NumPy 1.16 and will raise an error in the future.\n",
            "  exec(code_obj, self.user_global_ns, self.user_ns)\n"
          ],
          "name": "stderr"
        }
      ]
    },
    {
      "cell_type": "code",
      "metadata": {
        "id": "CI_FAy9exCKM",
        "colab_type": "code",
        "colab": {
          "base_uri": "https://localhost:8080/",
          "height": 34
        },
        "outputId": "68ec4018-45f6-4e40-8865-4c7b89794a54"
      },
      "source": [
        "# IMP: TO CONCLUSIVELY ESTABLISH THE LINK BETWEEN word_index, embeddings_index AND embeddings_matrix\n",
        "\n",
        "word_index['the'] # equals 2\n",
        "\n",
        "# IMP: CHECK IF embeddings_index[2] = embedding_matrix[2] = embeddings FOR 'the' WORD\n",
        "print(np.all(embeddings_index['the'] == embedding_matrix[2] ))"
      ],
      "execution_count": 249,
      "outputs": [
        {
          "output_type": "stream",
          "text": [
            "True\n"
          ],
          "name": "stdout"
        }
      ]
    },
    {
      "cell_type": "code",
      "metadata": {
        "id": "XYx-CYfrW0Sj",
        "colab_type": "code",
        "colab": {}
      },
      "source": [
        "# BLANK"
      ],
      "execution_count": 0,
      "outputs": []
    },
    {
      "cell_type": "code",
      "metadata": {
        "id": "4R2VAVy1iEyj",
        "colab_type": "code",
        "colab": {
          "base_uri": "https://localhost:8080/",
          "height": 629
        },
        "outputId": "4188a544-8a64-43d7-a472-f6f0c8039d46"
      },
      "source": [
        "# CLEAR BACKEND DATA\n",
        "\n",
        "keras.backend.clear_session()\n",
        "np.random.seed(42)\n",
        "tf.random.set_seed(42)\n",
        "\n",
        "\n",
        "# CREATE AN LSTM BASED NEURAL NETWORK IN KERAS\n",
        "\n",
        "#vocab_size = vocab_size   # NUMBER OF UNIQUE WORDS IN VOCAB = 10,000 \n",
        "#embedding_dim = embedding_dim\n",
        "sentence_length = max_length  # LENGTH OF EACH PADDED SENTENCE = 175\n",
        "\n",
        "\n",
        "lstm_emb_model = keras.models.Sequential([\n",
        "                                          \n",
        "                  keras.layers.Embedding(input_dim = vocab_size,\n",
        "                                         output_dim = embed_size,\n",
        "                                         input_length = sentence_length,\n",
        "                                         weights=[embedding_matrix], trainable= False),\n",
        "                          \n",
        "                  keras.layers.Bidirectional(keras.layers.LSTM(128, return_sequences= True, recurrent_dropout = 0.2, dropout = 0.2)),\n",
        "                  keras.layers.Bidirectional(keras.layers.LSTM(64, return_sequences = True, recurrent_dropout= 0.2, dropout = 0.2)),\n",
        "                  keras.layers.Bidirectional(keras.layers.LSTM(32)),\n",
        "\n",
        "\n",
        "                  #keras.layers.GlobalAveragePooling1D(),\n",
        "\n",
        "                  keras.layers.Dense(128, activation = \"relu\"),\n",
        "                  keras.layers.Dropout(rate = 0.2),\n",
        "                  keras.layers.BatchNormalization(),\n",
        "\n",
        "                  keras.layers.Dense(64, activation = \"relu\"),\n",
        "                  keras.layers.Dropout(rate = 0.2),\n",
        "                  keras.layers.BatchNormalization(),\n",
        "\n",
        "                  keras.layers.Dense(32, activation = \"relu\"),\n",
        "                  keras.layers.Dropout(rate = 0.2),\n",
        "                  keras.layers.BatchNormalization(),\n",
        "\n",
        "                  keras.layers.Dense(1, activation = \"sigmoid\")\n",
        "                  \n",
        "])\n",
        "\n",
        "\n",
        "\n",
        "# VIEW MODEL ARCHITECTURE\n",
        "lstm_emb_model.summary()\n"
      ],
      "execution_count": 251,
      "outputs": [
        {
          "output_type": "stream",
          "text": [
            "Model: \"sequential\"\n",
            "_________________________________________________________________\n",
            "Layer (type)                 Output Shape              Param #   \n",
            "=================================================================\n",
            "embedding (Embedding)        (None, 15, 100)           700000    \n",
            "_________________________________________________________________\n",
            "bidirectional (Bidirectional (None, 15, 256)           234496    \n",
            "_________________________________________________________________\n",
            "bidirectional_1 (Bidirection (None, 15, 128)           164352    \n",
            "_________________________________________________________________\n",
            "bidirectional_2 (Bidirection (None, 64)                41216     \n",
            "_________________________________________________________________\n",
            "dense (Dense)                (None, 128)               8320      \n",
            "_________________________________________________________________\n",
            "dropout (Dropout)            (None, 128)               0         \n",
            "_________________________________________________________________\n",
            "batch_normalization (BatchNo (None, 128)               512       \n",
            "_________________________________________________________________\n",
            "dense_1 (Dense)              (None, 64)                8256      \n",
            "_________________________________________________________________\n",
            "dropout_1 (Dropout)          (None, 64)                0         \n",
            "_________________________________________________________________\n",
            "batch_normalization_1 (Batch (None, 64)                256       \n",
            "_________________________________________________________________\n",
            "dense_2 (Dense)              (None, 32)                2080      \n",
            "_________________________________________________________________\n",
            "dropout_2 (Dropout)          (None, 32)                0         \n",
            "_________________________________________________________________\n",
            "batch_normalization_2 (Batch (None, 32)                128       \n",
            "_________________________________________________________________\n",
            "dense_3 (Dense)              (None, 1)                 33        \n",
            "=================================================================\n",
            "Total params: 1,159,649\n",
            "Trainable params: 459,201\n",
            "Non-trainable params: 700,448\n",
            "_________________________________________________________________\n"
          ],
          "name": "stdout"
        }
      ]
    },
    {
      "cell_type": "code",
      "metadata": {
        "id": "rVOTRGt1iE6u",
        "colab_type": "code",
        "colab": {
          "base_uri": "https://localhost:8080/",
          "height": 513
        },
        "outputId": "58c22aa9-7707-43eb-f1d7-2d6ca2ebd2f2"
      },
      "source": [
        "# IMPLEMENT CALLBACKS\n",
        "\n",
        "checkpoint_cb = keras.callbacks.ModelCheckpoint(\"twtr_lstm_emb_best.h5\",save_best_only = True)\n",
        "\n",
        "early_stopping_cb = keras.callbacks.EarlyStopping(patience = 4, restore_best_weights = True)\n",
        "\n",
        "\n",
        "\n",
        "\n",
        "# COMPILE AND FIT MODEL\n",
        "\n",
        "lstm_emb_model.compile(optimizer = \"adam\", loss = \"binary_crossentropy\", metrics = ['accuracy'])\n",
        "\n",
        "history_3 = lstm_emb_model.fit(X_train_pad,y_train, epochs = 20,\n",
        "                            validation_data = (X_val_pad, y_val),\n",
        "                            callbacks = [checkpoint_cb, early_stopping_cb]\n",
        "                            \n",
        "                            )"
      ],
      "execution_count": 252,
      "outputs": [
        {
          "output_type": "stream",
          "text": [
            "Epoch 1/20\n",
            "179/179 [==============================] - 31s 175ms/step - loss: 0.5790 - accuracy: 0.7145 - val_loss: 0.4864 - val_accuracy: 0.7752\n",
            "Epoch 2/20\n",
            "179/179 [==============================] - 30s 167ms/step - loss: 0.5099 - accuracy: 0.7648 - val_loss: 0.4561 - val_accuracy: 0.7857\n",
            "Epoch 3/20\n",
            "179/179 [==============================] - 30s 168ms/step - loss: 0.4750 - accuracy: 0.7840 - val_loss: 0.4431 - val_accuracy: 0.8004\n",
            "Epoch 4/20\n",
            "179/179 [==============================] - 30s 167ms/step - loss: 0.4626 - accuracy: 0.7984 - val_loss: 0.4555 - val_accuracy: 0.7941\n",
            "Epoch 5/20\n",
            "179/179 [==============================] - 34s 189ms/step - loss: 0.4546 - accuracy: 0.7982 - val_loss: 0.4589 - val_accuracy: 0.7878\n",
            "Epoch 6/20\n",
            "179/179 [==============================] - 30s 168ms/step - loss: 0.4464 - accuracy: 0.8035 - val_loss: 0.4769 - val_accuracy: 0.7836\n",
            "Epoch 7/20\n",
            "179/179 [==============================] - 30s 167ms/step - loss: 0.4418 - accuracy: 0.8073 - val_loss: 0.4429 - val_accuracy: 0.8025\n",
            "Epoch 8/20\n",
            "179/179 [==============================] - 30s 167ms/step - loss: 0.4288 - accuracy: 0.8159 - val_loss: 0.4613 - val_accuracy: 0.7826\n",
            "Epoch 9/20\n",
            "179/179 [==============================] - 30s 170ms/step - loss: 0.4253 - accuracy: 0.8180 - val_loss: 0.4582 - val_accuracy: 0.7878\n",
            "Epoch 10/20\n",
            "179/179 [==============================] - 30s 166ms/step - loss: 0.4207 - accuracy: 0.8166 - val_loss: 0.4400 - val_accuracy: 0.7994\n",
            "Epoch 11/20\n",
            "179/179 [==============================] - 30s 167ms/step - loss: 0.4098 - accuracy: 0.8227 - val_loss: 0.4687 - val_accuracy: 0.7962\n",
            "Epoch 12/20\n",
            "179/179 [==============================] - 30s 167ms/step - loss: 0.3974 - accuracy: 0.8297 - val_loss: 0.4663 - val_accuracy: 0.8004\n",
            "Epoch 13/20\n",
            "179/179 [==============================] - 30s 167ms/step - loss: 0.3885 - accuracy: 0.8334 - val_loss: 0.4620 - val_accuracy: 0.8036\n",
            "Epoch 14/20\n",
            "179/179 [==============================] - 30s 167ms/step - loss: 0.3717 - accuracy: 0.8432 - val_loss: 0.4760 - val_accuracy: 0.7994\n"
          ],
          "name": "stdout"
        }
      ]
    },
    {
      "cell_type": "code",
      "metadata": {
        "id": "0oYZUbPeiFB7",
        "colab_type": "code",
        "colab": {
          "base_uri": "https://localhost:8080/",
          "height": 367
        },
        "outputId": "4a1e390f-8fd3-4a64-8db4-5fac42ac1ce1"
      },
      "source": [
        "history = history_3\n",
        "\n",
        "\n",
        "# BETTER LOOKING PLOTS FOR ACCURACY AND LOSS\n",
        "\n",
        "import matplotlib.pyplot as plt\n",
        "\n",
        "fig,axes = plt.subplots(nrows = 1, ncols = 2, figsize = (12,5))\n",
        "\n",
        "axes[0].plot(history.history['accuracy'])\n",
        "axes[0].plot(history.history['val_accuracy'])\n",
        "axes[0].set_ylim([0.5,1])\n",
        "axes[0].set_title('Model Accuracy')\n",
        "axes[0].set_ylabel('Accuracy')\n",
        "axes[0].set_xlabel('Epoch')\n",
        "axes[0].legend(['Training', 'Validation'], loc='lower right')\n",
        "\n",
        "axes[1].plot(history.history['loss'])\n",
        "axes[1].plot(history.history['val_loss'])\n",
        "axes[1].set_title('Model Loss')\n",
        "axes[1].set_ylabel('Loss')\n",
        "axes[1].set_xlabel('Epoch')\n",
        "axes[1].legend(['Training', 'Validation'], loc='upper left')"
      ],
      "execution_count": 253,
      "outputs": [
        {
          "output_type": "execute_result",
          "data": {
            "text/plain": [
              "<matplotlib.legend.Legend at 0x7fdc6d41f240>"
            ]
          },
          "metadata": {
            "tags": []
          },
          "execution_count": 253
        },
        {
          "output_type": "display_data",
          "data": {
            "image/png": "[encoded data removed]",
            "text/plain": [
              "<Figure size 864x360 with 2 Axes>"
            ]
          },
          "metadata": {
            "tags": [],
            "needs_background": "light"
          }
        }
      ]
    },
    {
      "cell_type": "code",
      "metadata": {
        "id": "vd3_ZkzhiFJm",
        "colab_type": "code",
        "colab": {
          "base_uri": "https://localhost:8080/",
          "height": 51
        },
        "outputId": "63440b26-dd64-4810-fb96-b085ab4eb316"
      },
      "source": [
        "# LOAD THE BEST PERFORMING MODEL (SO FAR.)\n",
        "best_model = keras.models.load_model('twtr_lstm_emb_best.h5')\n",
        "\n",
        "best_model.evaluate(X_test_pad, y_test)"
      ],
      "execution_count": 254,
      "outputs": [
        {
          "output_type": "stream",
          "text": [
            "30/30 [==============================] - 1s 19ms/step - loss: 0.4214 - accuracy: 0.8246\n"
          ],
          "name": "stdout"
        },
        {
          "output_type": "execute_result",
          "data": {
            "text/plain": [
              "[0.42139914631843567, 0.8245798349380493]"
            ]
          },
          "metadata": {
            "tags": []
          },
          "execution_count": 254
        }
      ]
    },
    {
      "cell_type": "code",
      "metadata": {
        "id": "Se-LV1FIiFbV",
        "colab_type": "code",
        "colab": {}
      },
      "source": [
        "# BLANK"
      ],
      "execution_count": 0,
      "outputs": []
    },
    {
      "cell_type": "markdown",
      "metadata": {
        "id": "sToew5K7KNAL",
        "colab_type": "text"
      },
      "source": [
        "## A Model that uses `n-grams` (n = 2 or 3)\n",
        "\n",
        "Unfortunately, keras doesn't support n-grams. \n",
        "\n",
        "Will be using the `ngrams` class of `nltk` for this purpose."
      ]
    },
    {
      "cell_type": "code",
      "metadata": {
        "id": "-d2fPnCC18tS",
        "colab_type": "code",
        "colab": {}
      },
      "source": [
        ""
      ],
      "execution_count": 0,
      "outputs": []
    },
    {
      "cell_type": "code",
      "metadata": {
        "id": "EQwwgKWB18za",
        "colab_type": "code",
        "colab": {}
      },
      "source": [
        "# CONVERTING THE TEXT FIELD INTO A LIST OF SENTENCES\n",
        "\n",
        "sentences = []\n",
        "m = len(X_train['text'])\n",
        "\n",
        "for i in range(m):\n",
        "  sentences.append(X_train['text'].iloc[i])\n",
        "\n",
        "print(\"Number of sentences : \", len(sentences))\n"
      ],
      "execution_count": 0,
      "outputs": []
    },
    {
      "cell_type": "code",
      "metadata": {
        "id": "wWw3rTQY184x",
        "colab_type": "code",
        "colab": {}
      },
      "source": [
        ""
      ],
      "execution_count": 0,
      "outputs": []
    },
    {
      "cell_type": "code",
      "metadata": {
        "id": "w917vw2U1898",
        "colab_type": "code",
        "colab": {}
      },
      "source": [
        ""
      ],
      "execution_count": 0,
      "outputs": []
    },
    {
      "cell_type": "code",
      "metadata": {
        "id": "4ZbbjdjR19CP",
        "colab_type": "code",
        "colab": {}
      },
      "source": [
        ""
      ],
      "execution_count": 0,
      "outputs": []
    },
    {
      "cell_type": "code",
      "metadata": {
        "id": "Zhg4Cyzr19G7",
        "colab_type": "code",
        "colab": {}
      },
      "source": [
        ""
      ],
      "execution_count": 0,
      "outputs": []
    }
  ]
}