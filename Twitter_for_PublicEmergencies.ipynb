{
  "nbformat": 4,
  "nbformat_minor": 0,
  "metadata": {
    "colab": {
      "name": "Twitter_for_PublicEmergencies.ipynb",
      "provenance": [],
      "authorship_tag": "ABX9TyPU/nLu7Sp7VY7q277RKtXz",
      "include_colab_link": true
    },
    "kernelspec": {
      "name": "python3",
      "display_name": "Python 3"
    }
  },
  "cells": [
    {
      "cell_type": "markdown",
      "metadata": {
        "id": "view-in-github",
        "colab_type": "text"
      },
      "source": [
        "<a href=\"https://colab.research.google.com/github/raamav/Text-Classification/blob/master/Twitter_for_PublicEmergencies.ipynb\" target=\"_parent\"><img src=\"https://colab.research.google.com/assets/colab-badge.svg\" alt=\"Open In Colab\"/></a>"
      ]
    },
    {
      "cell_type": "markdown",
      "metadata": {
        "id": "TL4eFsRTgr9C",
        "colab_type": "text"
      },
      "source": [
        "# \"Real or NOT\" : NLP to Identify Public Emergency Related Tweets\n",
        "\n",
        "\n",
        "## Introduction\n",
        "\n",
        "Being able to predict which Tweets are about real Public Emergencies (*eg Earthquakes, Floods, Terrorist Events*) and which ones are not. \n",
        "\n",
        "(The words 'Pubic Emergency' and 'Disasters' have been used interchangeably)\n",
        "\n",
        "> Twitter has become an important communication channel in times of emergency.\n",
        "The ubiquitousness of smartphones enables people to announce an emergency they’re observing in real-time. Because of this, more agencies are interested in programatically monitoring Twitter (i.e. disaster relief organizations and news agencies).\n",
        "\n",
        "> But, it’s not always clear whether a person’s words are actually announcing a disaster. \n",
        "\n",
        "*Source: [Real or Not? NLP with Disaster Tweets, A Kaggle Competition](https://www.kaggle.com/c/nlp-getting-started/overview)*\n",
        "\n",
        "<BR>\n",
        "\n",
        "### Goal\n",
        "\n",
        "This is the second exploration of the dataset. In the 1st attempt an ensemble of ensemble methods yielded 80% accuracy on the test data. \n",
        "\n",
        "The goal is to get a better model using Deep Learning.\n",
        "\n",
        "<BR>\n",
        "\n",
        "### Approach Summary\n",
        "*TBD*\n",
        "\n",
        "<BR>\n",
        "\n",
        "### Results\n",
        "*tbd*\n",
        "\n",
        "<BR>\n",
        "\n",
        "***\n",
        "\n",
        "\n",
        "## Exploring an LSTM Based Model (w/Pre-Trained Embeddings)"
      ]
    },
    {
      "cell_type": "code",
      "metadata": {
        "id": "d7L2k6z5h_1X",
        "colab_type": "code",
        "colab": {
          "base_uri": "https://localhost:8080/",
          "height": 34
        },
        "outputId": "3e4d67c1-9be2-4541-9f54-88e45394316f"
      },
      "source": [
        "# STANDARD IMPORTS\n",
        "\n",
        "import tensorflow as tf\n",
        "from tensorflow import keras\n",
        "import numpy as np\n",
        "import pandas as pd\n",
        "\n",
        "tf.__version__\n"
      ],
      "execution_count": 1,
      "outputs": [
        {
          "output_type": "execute_result",
          "data": {
            "text/plain": [
              "'2.2.0-rc3'"
            ]
          },
          "metadata": {
            "tags": []
          },
          "execution_count": 1
        }
      ]
    },
    {
      "cell_type": "code",
      "metadata": {
        "id": "P_U5-OsDjzhR",
        "colab_type": "code",
        "colab": {}
      },
      "source": [
        "data = pd.read_csv(\"https://raw.githubusercontent.com/raamav/Text-Classification/master/train.csv\")"
      ],
      "execution_count": 0,
      "outputs": []
    },
    {
      "cell_type": "code",
      "metadata": {
        "id": "BCnoIjBnjzsz",
        "colab_type": "code",
        "colab": {
          "base_uri": "https://localhost:8080/",
          "height": 221
        },
        "outputId": "679994c6-5b99-4a27-f1de-dd4ab2fdb5bd"
      },
      "source": [
        "data.info()"
      ],
      "execution_count": 6,
      "outputs": [
        {
          "output_type": "stream",
          "text": [
            "<class 'pandas.core.frame.DataFrame'>\n",
            "RangeIndex: 7613 entries, 0 to 7612\n",
            "Data columns (total 5 columns):\n",
            " #   Column    Non-Null Count  Dtype \n",
            "---  ------    --------------  ----- \n",
            " 0   id        7613 non-null   int64 \n",
            " 1   keyword   7552 non-null   object\n",
            " 2   location  5080 non-null   object\n",
            " 3   text      7613 non-null   object\n",
            " 4   target    7613 non-null   int64 \n",
            "dtypes: int64(2), object(3)\n",
            "memory usage: 297.5+ KB\n"
          ],
          "name": "stdout"
        }
      ]
    },
    {
      "cell_type": "markdown",
      "metadata": {
        "id": "UviPs1XKpB3n",
        "colab_type": "text"
      },
      "source": [
        "One of the first steps is to divide the data into training, validation and test sets. Will be adopting a 70:15:15 split for this purpose"
      ]
    },
    {
      "cell_type": "code",
      "metadata": {
        "id": "FwpFZrkijz2B",
        "colab_type": "code",
        "colab": {}
      },
      "source": [
        "from sklearn.model_selection import train_test_split\n",
        "\n",
        "train, test = train_test_split(data, test_size = 0.3, random_state = 42)\n",
        "val, test = train_test_split(test, test_size = 0.5, random_state = 42)"
      ],
      "execution_count": 0,
      "outputs": []
    },
    {
      "cell_type": "code",
      "metadata": {
        "id": "etBThct2pr9j",
        "colab_type": "code",
        "colab": {
          "base_uri": "https://localhost:8080/",
          "height": 68
        },
        "outputId": "71eada5b-7f31-4ba2-dfc6-a9377ddb49a0"
      },
      "source": [
        "print(\"train.shape\", train.shape)\n",
        "print(\"val.shape\", val.shape)\n",
        "print(\"test.shape\", test.shape)"
      ],
      "execution_count": 14,
      "outputs": [
        {
          "output_type": "stream",
          "text": [
            "train.shape (5329, 5)\n",
            "val.shape (1142, 5)\n",
            "test.shape (1142, 5)\n"
          ],
          "name": "stdout"
        }
      ]
    },
    {
      "cell_type": "markdown",
      "metadata": {
        "id": "W6N4PpMqq67P",
        "colab_type": "text"
      },
      "source": [
        "Exploring the data, building functions (and/or pipelines) for preprocessing data. Will also explore the possibility of crating features (although deep learning models do not require extensive feature engineering)"
      ]
    },
    {
      "cell_type": "code",
      "metadata": {
        "id": "lZ-6h87UqM_T",
        "colab_type": "code",
        "colab": {}
      },
      "source": [
        ""
      ],
      "execution_count": 0,
      "outputs": []
    }
  ]
}